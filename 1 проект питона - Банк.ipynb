{
 "cells": [
  {
   "cell_type": "markdown",
   "metadata": {},
   "source": [
    "<font color=blue> Привет еще раз. Спасибо, что доделала работу. Мои комментарии на этот раз выделены синим цветом.\n",
    "    \n",
    "---\n"
   ]
  },
  {
   "cell_type": "markdown",
   "metadata": {},
   "source": [
    "---\n",
    "## Комментарий от наставника\n",
    "\n",
    "Привет! Спасибо, что прислала задание:) Поздравляю с первым сданным проектом. В целом, работа производит неплохое впечатление, однако обрати внимание на некоторые мои комментарии. Они обозначены пометкой **Комментарий от наставника**. Пострайся учесть эти комментарии.\n",
    "\n",
    "---\n"
   ]
  },
  {
   "cell_type": "markdown",
   "metadata": {},
   "source": [
    "## Исследование надёжности заёмщиков\n",
    "\n",
    "Заказчик — кредитный отдел банка. Нужно разобраться, влияет ли семейное положение и количество детей клиента на факт погашения кредита в срок. Входные данные от банка — статистика о платёжеспособности клиентов.\n",
    "\n",
    "Результаты исследования будут учтены при построении модели **кредитного скоринга** — специальной системы, которая оценивает способность потенциального заёмщика вернуть кредит банку."
   ]
  },
  {
   "cell_type": "markdown",
   "metadata": {},
   "source": [
    "---\n",
    "## Комментарий от наставника\n",
    "\n",
    "\n",
    "Правильно, что есть краткое вступление в работу, описание того, что надо делать. В работе необходимо приводить краткий план того, что надо сделать (если этот план имеется). Также название работы лучше отображать в отдельной ячейке и делать крупный шрифт (заголовок). Так работа выглядит презентабельно.\n",
    "\n",
    "---"
   ]
  },
  {
   "cell_type": "markdown",
   "metadata": {},
   "source": [
    "### Шаг 1. Откройте файл с данными и изучите общую информацию. "
   ]
  },
  {
   "cell_type": "code",
   "execution_count": 1,
   "metadata": {},
   "outputs": [],
   "source": [
    "import pandas as pd\n",
    "import numpy as np\n"
   ]
  },
  {
   "cell_type": "code",
   "execution_count": 3,
   "metadata": {
    "scrolled": true
   },
   "outputs": [
    {
     "data": {
      "text/html": [
       "<div>\n",
       "<style scoped>\n",
       "    .dataframe tbody tr th:only-of-type {\n",
       "        vertical-align: middle;\n",
       "    }\n",
       "\n",
       "    .dataframe tbody tr th {\n",
       "        vertical-align: top;\n",
       "    }\n",
       "\n",
       "    .dataframe thead th {\n",
       "        text-align: right;\n",
       "    }\n",
       "</style>\n",
       "<table border=\"1\" class=\"dataframe\">\n",
       "  <thead>\n",
       "    <tr style=\"text-align: right;\">\n",
       "      <th></th>\n",
       "      <th>children</th>\n",
       "      <th>days_employed</th>\n",
       "      <th>dob_years</th>\n",
       "      <th>education</th>\n",
       "      <th>education_id</th>\n",
       "      <th>family_status</th>\n",
       "      <th>family_status_id</th>\n",
       "      <th>gender</th>\n",
       "      <th>income_type</th>\n",
       "      <th>debt</th>\n",
       "      <th>total_income</th>\n",
       "      <th>purpose</th>\n",
       "    </tr>\n",
       "  </thead>\n",
       "  <tbody>\n",
       "    <tr>\n",
       "      <td>0</td>\n",
       "      <td>1</td>\n",
       "      <td>-8437.673028</td>\n",
       "      <td>42</td>\n",
       "      <td>высшее</td>\n",
       "      <td>0</td>\n",
       "      <td>женат / замужем</td>\n",
       "      <td>0</td>\n",
       "      <td>F</td>\n",
       "      <td>сотрудник</td>\n",
       "      <td>0</td>\n",
       "      <td>253875.639453</td>\n",
       "      <td>покупка жилья</td>\n",
       "    </tr>\n",
       "    <tr>\n",
       "      <td>1</td>\n",
       "      <td>1</td>\n",
       "      <td>-4024.803754</td>\n",
       "      <td>36</td>\n",
       "      <td>среднее</td>\n",
       "      <td>1</td>\n",
       "      <td>женат / замужем</td>\n",
       "      <td>0</td>\n",
       "      <td>F</td>\n",
       "      <td>сотрудник</td>\n",
       "      <td>0</td>\n",
       "      <td>112080.014102</td>\n",
       "      <td>приобретение автомобиля</td>\n",
       "    </tr>\n",
       "    <tr>\n",
       "      <td>2</td>\n",
       "      <td>0</td>\n",
       "      <td>-5623.422610</td>\n",
       "      <td>33</td>\n",
       "      <td>Среднее</td>\n",
       "      <td>1</td>\n",
       "      <td>женат / замужем</td>\n",
       "      <td>0</td>\n",
       "      <td>M</td>\n",
       "      <td>сотрудник</td>\n",
       "      <td>0</td>\n",
       "      <td>145885.952297</td>\n",
       "      <td>покупка жилья</td>\n",
       "    </tr>\n",
       "    <tr>\n",
       "      <td>3</td>\n",
       "      <td>3</td>\n",
       "      <td>-4124.747207</td>\n",
       "      <td>32</td>\n",
       "      <td>среднее</td>\n",
       "      <td>1</td>\n",
       "      <td>женат / замужем</td>\n",
       "      <td>0</td>\n",
       "      <td>M</td>\n",
       "      <td>сотрудник</td>\n",
       "      <td>0</td>\n",
       "      <td>267628.550329</td>\n",
       "      <td>дополнительное образование</td>\n",
       "    </tr>\n",
       "    <tr>\n",
       "      <td>4</td>\n",
       "      <td>0</td>\n",
       "      <td>340266.072047</td>\n",
       "      <td>53</td>\n",
       "      <td>среднее</td>\n",
       "      <td>1</td>\n",
       "      <td>гражданский брак</td>\n",
       "      <td>1</td>\n",
       "      <td>F</td>\n",
       "      <td>пенсионер</td>\n",
       "      <td>0</td>\n",
       "      <td>158616.077870</td>\n",
       "      <td>сыграть свадьбу</td>\n",
       "    </tr>\n",
       "    <tr>\n",
       "      <td>...</td>\n",
       "      <td>...</td>\n",
       "      <td>...</td>\n",
       "      <td>...</td>\n",
       "      <td>...</td>\n",
       "      <td>...</td>\n",
       "      <td>...</td>\n",
       "      <td>...</td>\n",
       "      <td>...</td>\n",
       "      <td>...</td>\n",
       "      <td>...</td>\n",
       "      <td>...</td>\n",
       "      <td>...</td>\n",
       "    </tr>\n",
       "    <tr>\n",
       "      <td>21520</td>\n",
       "      <td>1</td>\n",
       "      <td>-4529.316663</td>\n",
       "      <td>43</td>\n",
       "      <td>среднее</td>\n",
       "      <td>1</td>\n",
       "      <td>гражданский брак</td>\n",
       "      <td>1</td>\n",
       "      <td>F</td>\n",
       "      <td>компаньон</td>\n",
       "      <td>0</td>\n",
       "      <td>224791.862382</td>\n",
       "      <td>операции с жильем</td>\n",
       "    </tr>\n",
       "    <tr>\n",
       "      <td>21521</td>\n",
       "      <td>0</td>\n",
       "      <td>343937.404131</td>\n",
       "      <td>67</td>\n",
       "      <td>среднее</td>\n",
       "      <td>1</td>\n",
       "      <td>женат / замужем</td>\n",
       "      <td>0</td>\n",
       "      <td>F</td>\n",
       "      <td>пенсионер</td>\n",
       "      <td>0</td>\n",
       "      <td>155999.806512</td>\n",
       "      <td>сделка с автомобилем</td>\n",
       "    </tr>\n",
       "    <tr>\n",
       "      <td>21522</td>\n",
       "      <td>1</td>\n",
       "      <td>-2113.346888</td>\n",
       "      <td>38</td>\n",
       "      <td>среднее</td>\n",
       "      <td>1</td>\n",
       "      <td>гражданский брак</td>\n",
       "      <td>1</td>\n",
       "      <td>M</td>\n",
       "      <td>сотрудник</td>\n",
       "      <td>1</td>\n",
       "      <td>89672.561153</td>\n",
       "      <td>недвижимость</td>\n",
       "    </tr>\n",
       "    <tr>\n",
       "      <td>21523</td>\n",
       "      <td>3</td>\n",
       "      <td>-3112.481705</td>\n",
       "      <td>38</td>\n",
       "      <td>среднее</td>\n",
       "      <td>1</td>\n",
       "      <td>женат / замужем</td>\n",
       "      <td>0</td>\n",
       "      <td>M</td>\n",
       "      <td>сотрудник</td>\n",
       "      <td>1</td>\n",
       "      <td>244093.050500</td>\n",
       "      <td>на покупку своего автомобиля</td>\n",
       "    </tr>\n",
       "    <tr>\n",
       "      <td>21524</td>\n",
       "      <td>2</td>\n",
       "      <td>-1984.507589</td>\n",
       "      <td>40</td>\n",
       "      <td>среднее</td>\n",
       "      <td>1</td>\n",
       "      <td>женат / замужем</td>\n",
       "      <td>0</td>\n",
       "      <td>F</td>\n",
       "      <td>сотрудник</td>\n",
       "      <td>0</td>\n",
       "      <td>82047.418899</td>\n",
       "      <td>на покупку автомобиля</td>\n",
       "    </tr>\n",
       "  </tbody>\n",
       "</table>\n",
       "<p>21525 rows × 12 columns</p>\n",
       "</div>"
      ],
      "text/plain": [
       "       children  days_employed  dob_years education  education_id  \\\n",
       "0             1   -8437.673028         42    высшее             0   \n",
       "1             1   -4024.803754         36   среднее             1   \n",
       "2             0   -5623.422610         33   Среднее             1   \n",
       "3             3   -4124.747207         32   среднее             1   \n",
       "4             0  340266.072047         53   среднее             1   \n",
       "...         ...            ...        ...       ...           ...   \n",
       "21520         1   -4529.316663         43   среднее             1   \n",
       "21521         0  343937.404131         67   среднее             1   \n",
       "21522         1   -2113.346888         38   среднее             1   \n",
       "21523         3   -3112.481705         38   среднее             1   \n",
       "21524         2   -1984.507589         40   среднее             1   \n",
       "\n",
       "          family_status  family_status_id gender income_type  debt  \\\n",
       "0       женат / замужем                 0      F   сотрудник     0   \n",
       "1       женат / замужем                 0      F   сотрудник     0   \n",
       "2       женат / замужем                 0      M   сотрудник     0   \n",
       "3       женат / замужем                 0      M   сотрудник     0   \n",
       "4      гражданский брак                 1      F   пенсионер     0   \n",
       "...                 ...               ...    ...         ...   ...   \n",
       "21520  гражданский брак                 1      F   компаньон     0   \n",
       "21521   женат / замужем                 0      F   пенсионер     0   \n",
       "21522  гражданский брак                 1      M   сотрудник     1   \n",
       "21523   женат / замужем                 0      M   сотрудник     1   \n",
       "21524   женат / замужем                 0      F   сотрудник     0   \n",
       "\n",
       "        total_income                       purpose  \n",
       "0      253875.639453                 покупка жилья  \n",
       "1      112080.014102       приобретение автомобиля  \n",
       "2      145885.952297                 покупка жилья  \n",
       "3      267628.550329    дополнительное образование  \n",
       "4      158616.077870               сыграть свадьбу  \n",
       "...              ...                           ...  \n",
       "21520  224791.862382             операции с жильем  \n",
       "21521  155999.806512          сделка с автомобилем  \n",
       "21522   89672.561153                  недвижимость  \n",
       "21523  244093.050500  на покупку своего автомобиля  \n",
       "21524   82047.418899         на покупку автомобиля  \n",
       "\n",
       "[21525 rows x 12 columns]"
      ]
     },
     "execution_count": 3,
     "metadata": {},
     "output_type": "execute_result"
    }
   ],
   "source": [
    "bank_customers = pd.read_csv('/datasets/data.csv')\n",
    "# посмотрим какие значения встречаются в столбцах других\n",
    "bank_customers"
   ]
  },
  {
   "cell_type": "markdown",
   "metadata": {},
   "source": [
    "### Вывод"
   ]
  },
  {
   "cell_type": "markdown",
   "metadata": {},
   "source": [
    "---\n",
    "## Комментарий от наставника\n",
    "\n",
    "При работе с данными считается, что 1 - это наличие признака, а 0 - его отсутствие. \n",
    "\n",
    "---"
   ]
  },
  {
   "cell_type": "markdown",
   "metadata": {},
   "source": [
    "После использования двух функция - info и describe , видно что в файле есть ошибки и пропущенные данные. Расположим их по столбцам с описанием что будем делать по каждому столбцу чтобы в итоге получить таблицу пригодную для анализа.\n",
    "База данных на 2\\3 состоит из женщин. В основном у клиентов среднее образование. \n",
    "\n",
    "\n",
    "dob_years — возраст клиента в годах Проблема - возраст указан везде, но есть значения 101 клиент в 0 лет. Решение - надо их удалять, потому что аналитически не понять сколько этим людям лет.\n",
    "\n",
    "education — уровень образования клиента. В начале 15 уникальных значений, есть проблемы с регистром. Решение - оставить 5 уникальных значений: начальное, среднее, неоконченное высшее, высшее, учёная степень.\n",
    "\n",
    "education_id — идентификатор уровня образования Связан с образованием. Пока все данные есть, но надо удостовериться что связь верная, возможно придётся столбец переделать полностью, исходя из столбца education.\n",
    "\n",
    "family_status — семейное положение. 5 уникальных. Все верно.\n",
    "\n",
    "family_status_id — идентификатор семейного положения Привязан к статусу.\n",
    "\n",
    "gender — пол клиента Проблема - выявлено 3 пола. Решение - найти и убрать лишний XNA - 1.\n",
    "\n",
    "income_type — тип занятости Проблема - 8 уникальных типов данных. 4 из них представлены очень малым количеством людей - безработный, в декрете, предприниматель и студент. Решение - малые данные удаляем. Останется 4 : госслужащий, компаньон, пенсионер, сотрудник.\n",
    "\n",
    "debt — имел ли задолженность по возврату кредитов Все данные есть. Уточнить легенду столбца у заказчика.\n",
    "\n",
    "total_income — ежемесячный доход Не все данные есть по доходам клиентов. Их не хватает столько же, сколько нет данных по трудовым дням. Первая теория - быть может эти люди ещё не работали и не получали доход. Вторая теория - данные можно удалить (не подтвердилась)\n",
    "\n",
    "purpose — цель получения кредита Проблема - 38 уникальных. Клиенты распределены между ними равномерно. Есть разнобой по наименованиям. Решение - нужно свести их к общим целям клиентов и сделать ещё один столбец идентификатор. Определить цели с помощью лематизации."
   ]
  },
  {
   "cell_type": "markdown",
   "metadata": {},
   "source": [
    "---\n",
    "## Комментарий от наставника\n",
    "\n",
    "У меня имеется пара комментариев по данному шагу:\n",
    "- считывание данных и импорт необходимых библиотек лучше проводить в разных ячейках;\n",
    "- таблицы на печать выводи без использования метода print();\n",
    "- следует давать переменным осознанные имена. Таблица про клиентов - название надо бы выбрать соответствующее.\n",
    "\n",
    "Здорово, что высказаны возможные причины появления пропусков в данных.\n",
    "\n",
    "Первый взгляд на таблицу выполнен.\n",
    "\n",
    "---"
   ]
  },
  {
   "cell_type": "markdown",
   "metadata": {},
   "source": [
    "### Шаг 2. Предобработка данных"
   ]
  },
  {
   "cell_type": "markdown",
   "metadata": {},
   "source": [
    "### Обработка пропусков"
   ]
  },
  {
   "cell_type": "code",
   "execution_count": 4,
   "metadata": {},
   "outputs": [
    {
     "name": "stderr",
     "output_type": "stream",
     "text": [
      "/opt/conda/lib/python3.7/site-packages/ipykernel_launcher.py:11: SettingWithCopyWarning: \n",
      "A value is trying to be set on a copy of a slice from a DataFrame.\n",
      "Try using .loc[row_indexer,col_indexer] = value instead\n",
      "\n",
      "See the caveats in the documentation: http://pandas.pydata.org/pandas-docs/stable/user_guide/indexing.html#returning-a-view-versus-a-copy\n",
      "  # This is added back by InteractiveShellApp.init_path()\n"
     ]
    }
   ],
   "source": [
    "#исправили количество детей: -1 на 1 и 20 исправили на 2\n",
    "bank_customers['children'] = bank_customers['children'].replace(-1, 1)\n",
    "bank_customers['children'] = bank_customers['children'].replace(20, 2)\n",
    "#print(bank_customers['children'].value_counts())\n",
    "\n",
    "#даты рождения, удаляем 101 человека с датой в 0 лет.\n",
    "bank_customers = bank_customers.loc[bank_customers['dob_years'] != 0]\n",
    "\n",
    "\n",
    "#заменили регистр, получили 5 уникальных уровней образования.\n",
    "bank_customers['education'] = bank_customers['education'].str.lower()\n",
    "\n",
    "\n",
    "\n",
    "# удаляем безработный, в декрете, предприниматель и студент в столбце income_type\n",
    "bank_customers = bank_customers.loc[(bank_customers['income_type'] != 'безработный') & (bank_customers['income_type'] != 'в декрете') \n",
    "                & (bank_customers['income_type'] != 'предприниматель') & (bank_customers['income_type'] != 'студент')] \n",
    "\n",
    "#  удаляем лишний пол в столбце gender\n",
    "bank_customers = bank_customers.loc[bank_customers['gender'] != 'XNA']\n",
    "\n",
    "\n",
    "#переводим стаж в положительное число\n",
    "def module(a):\n",
    "    if a <0:\n",
    "        a = a*-1\n",
    "    return a\n",
    "\n",
    "bank_customers['days_employed'] = bank_customers['days_employed'].apply(module)\n",
    "\n",
    "# Заполним пропуски в данных по стажу и зарплате. \n",
    "# Мы сформируем их из среднего значения - стажа и дохода таких же пользователей\n",
    "#Для этого выделим в новую таблицу - четыре столбца - days_employed, total_income, income_type, gender.\n",
    "# gender, мы добавили потому что женщины  в среднем получают и работают меньше мужчин. \n",
    "bank_customers['days_employed'] = bank_customers['days_employed'].fillna(0) \n",
    "bank_customers['total_income'] = bank_customers['total_income'].fillna(0) \n",
    "skip_clients = bank_customers.loc[:, ['days_employed', 'total_income', 'income_type', 'gender']]\n",
    "\n",
    "\n",
    "def zarplata(row):\n",
    "    income_type = row['income_type']\n",
    "    gender = row['gender']\n",
    "    total_income = row['total_income']\n",
    "    viborka = skip_clients.loc[(skip_clients['income_type'] == income_type) & (skip_clients['gender'] == gender) & (skip_clients['total_income'] != 0)]\n",
    "    zarplata = viborka['total_income'].mean()\n",
    "    return zarplata\n",
    "\n",
    "def stag(row):\n",
    "    income_type = row['income_type']\n",
    "    gender = row['gender']\n",
    "    total_income = row['total_income']\n",
    "    viborka = skip_clients.loc[(skip_clients['income_type'] == income_type) & (skip_clients['gender'] == gender) & (skip_clients['total_income'] != 0)]\n",
    "    stag = viborka['days_employed'].mean()\n",
    "    return stag\n",
    "    \n",
    "# Прогоним функцию по выборке столбца total_income и days_employed с нулевыми значениями.\n",
    "#skip_clients.loc[skip_clients['total_income'] == 0, 'total_income'] = skip_clients.apply(zarplata, axis=1)\n",
    "#skip_clients.loc[skip_clients['days_employed'] == 0, 'days_employed'] = skip_clients.apply(stag, axis=1)\n",
    "\n",
    "#заменяем в общей таблице два столбца \n",
    "#bank_customers['total_income'] = skip_clients['total_income']\n",
    "#bank_customers['days_employed'] = skip_clients['days_employed']\n",
    "#display(bank_customers.head(15))\n"
   ]
  },
  {
   "cell_type": "markdown",
   "metadata": {},
   "source": [
    "### Вывод"
   ]
  },
  {
   "cell_type": "markdown",
   "metadata": {},
   "source": [
    "Пропущенных значений теперь нет. 21525 - строчек данных было изначально, 21417 - после предварительной чистки. Теперь меняем тип данных и решаем вопрос со столбцом - purpose, нам нужны понятные цели."
   ]
  },
  {
   "cell_type": "markdown",
   "metadata": {},
   "source": [
    "<font color=blue> Пропуски обработаны верно на этот раз. Здорово, что есть описание производимых действий.\n",
    "    \n",
    "---\n"
   ]
  },
  {
   "cell_type": "markdown",
   "metadata": {},
   "source": [
    "---\n",
    "## Комментарий от наставника\n",
    "\n",
    "Здорово, что исправлены ошибки в данных.\n",
    "\n",
    "---"
   ]
  },
  {
   "cell_type": "markdown",
   "metadata": {},
   "source": [
    "### Замена типа данных"
   ]
  },
  {
   "cell_type": "code",
   "execution_count": 5,
   "metadata": {},
   "outputs": [
    {
     "name": "stdout",
     "output_type": "stream",
     "text": [
      "<class 'pandas.core.frame.DataFrame'>\n",
      "Int64Index: 21417 entries, 0 to 21524\n",
      "Data columns (total 12 columns):\n",
      "children            21417 non-null int64\n",
      "days_employed       21417 non-null int64\n",
      "dob_years           21417 non-null int64\n",
      "education           21417 non-null object\n",
      "education_id        21417 non-null int64\n",
      "family_status       21417 non-null object\n",
      "family_status_id    21417 non-null int64\n",
      "gender              21417 non-null object\n",
      "income_type         21417 non-null object\n",
      "debt                21417 non-null int64\n",
      "total_income        21417 non-null int64\n",
      "purpose             21417 non-null object\n",
      "dtypes: int64(7), object(5)\n",
      "memory usage: 2.1+ MB\n",
      "None\n"
     ]
    }
   ],
   "source": [
    "#мeняем отсутствующие значения в столбцах days_employed и total_income на 0. И переводим в int с помощью astype\n",
    "\n",
    "bank_customers['days_employed'] = bank_customers['days_employed'].astype('int')\n",
    "bank_customers['total_income'] = bank_customers['total_income'].astype('int')\n",
    "print(bank_customers.info())\n",
    "\n"
   ]
  },
  {
   "cell_type": "markdown",
   "metadata": {},
   "source": [
    "### Вывод"
   ]
  },
  {
   "cell_type": "markdown",
   "metadata": {},
   "source": [
    "Все данные полные и без float. Осталось избавиться от дубликатов."
   ]
  },
  {
   "cell_type": "markdown",
   "metadata": {},
   "source": [
    "---\n",
    "## Комментарий от наставника\n",
    "\n",
    "Да, это и есть пропуски в данных. Данные у нас по людям, получившим кредиты. Соответственно, они должны иметь доходы, как минимум. Попробуй использовать заполнение пропусков в соответствии с типом дохода. Тогда пенсионеры будут иметь такой же стаж, как и другие пенсионеры и т.д. А госслужащие будут получать также, как и другие госслужашие. \n",
    "\n",
    "---"
   ]
  },
  {
   "cell_type": "markdown",
   "metadata": {},
   "source": [
    "---\n",
    "## Комментарий от наставника\n",
    "\n",
    "Исходя из общей информации о таблице мы видим, что два столбца имеют вещественный тип данных, который и надо заменить на целочисленный. Это замена произведена верно. Также хорошо бы освоить метод to_numeric() для будущих работ. \n",
    "\n",
    "---"
   ]
  },
  {
   "cell_type": "markdown",
   "metadata": {},
   "source": [
    "### Обработка дубликатов"
   ]
  },
  {
   "cell_type": "code",
   "execution_count": 5,
   "metadata": {},
   "outputs": [
    {
     "name": "stdout",
     "output_type": "stream",
     "text": [
      "<class 'pandas.core.frame.DataFrame'>\n",
      "Int64Index: 21280 entries, 0 to 21524\n",
      "Data columns (total 12 columns):\n",
      "children            21280 non-null int64\n",
      "days_employed       21280 non-null int64\n",
      "dob_years           21280 non-null int64\n",
      "education           21280 non-null object\n",
      "education_id        21280 non-null int64\n",
      "family_status       21280 non-null object\n",
      "family_status_id    21280 non-null int64\n",
      "gender              21280 non-null object\n",
      "income_type         21280 non-null object\n",
      "debt                21280 non-null int64\n",
      "total_income        21280 non-null int64\n",
      "purpose             21280 non-null object\n",
      "dtypes: int64(7), object(5)\n",
      "memory usage: 2.1+ MB\n",
      "None\n"
     ]
    }
   ],
   "source": [
    "# Удаляем дубликаты\n",
    "bank_customers.drop_duplicates(keep=False,inplace=True)                \n",
    "                \n",
    "print(bank_customers.info())\n"
   ]
  },
  {
   "cell_type": "markdown",
   "metadata": {},
   "source": [
    "### Вывод"
   ]
  },
  {
   "cell_type": "markdown",
   "metadata": {},
   "source": [
    "Итоговая база 21280, без дубликатов и 0 в данных."
   ]
  },
  {
   "cell_type": "markdown",
   "metadata": {},
   "source": [
    "---\n",
    "## Комментарий от наставника\n",
    "\n",
    "Дубликаты вызывают смещение финальных результатов, поэтому их и надо удалять. Конечно, в данных нет уникального идентификатора, однако надо уметь удалять дубликаты. Метод drop_duplicates() использован верно.\n",
    "\n",
    "---"
   ]
  },
  {
   "cell_type": "markdown",
   "metadata": {},
   "source": [
    "### Лемматизация"
   ]
  },
  {
   "cell_type": "code",
   "execution_count": 6,
   "metadata": {},
   "outputs": [
    {
     "name": "stdout",
     "output_type": "stream",
     "text": [
      "недвижимость                 9430\n",
      "авто                         4274\n",
      "образование                  3986\n",
      "свадьба                      2288\n",
      "коммерческая недвижимость    1302\n",
      "Name: purpose_id, dtype: int64\n"
     ]
    }
   ],
   "source": [
    "from pymystem3 import Mystem\n",
    "m = Mystem()\n",
    "bank_customers['purpose_lemma'] = bank_customers['purpose'].apply(lambda x: m.lemmatize(x))\n",
    "\n",
    "# Предположим, что вид недвижимости может менять процент возврата. Допустим, что люди берущие кредит на коммерческую \n",
    "#недвижимость платят лучше, чем остальные. Проверим это на выборке тех,\n",
    "#чьи цели в покупке коммерческой недвижимости мы можем идентифицировать\n",
    "\n",
    "\n",
    "def lemm(stroka):\n",
    "    for i in range(len(stroka)):\n",
    "        if (stroka[i] == 'недвижимость') or (stroka[i] == 'жилье'):\n",
    "            return 'недвижимость'\n",
    "        if stroka[i] == 'коммерческий':\n",
    "            return 'коммерческая недвижимость'\n",
    "        if stroka[i] == 'автомобиль':\n",
    "            return 'авто'\n",
    "        if stroka[i] == 'свадьба':\n",
    "            return 'свадьба'\n",
    "        if stroka[i] == 'образование':\n",
    "            return 'образование'\n",
    "\n",
    "bank_customers['purpose_id'] = bank_customers['purpose_lemma'].apply(lemm)  \n",
    "print(bank_customers['purpose_id'].value_counts())\n"
   ]
  },
  {
   "cell_type": "markdown",
   "metadata": {},
   "source": [
    "### Вывод"
   ]
  },
  {
   "cell_type": "markdown",
   "metadata": {},
   "source": [
    "Провели лемматизацию целей клиентов. Получилось 5 направлений, из них больше всего клиентов интересует недвижимость - для личных нужд и коммерческая."
   ]
  },
  {
   "cell_type": "markdown",
   "metadata": {},
   "source": [
    "---\n",
    "## Комментарий от наставника\n",
    "\n",
    "Все верно, метод lemmatize() использован правильно. Хорошо бы на данном этапе подробно объяснить выбор лемм.\n",
    "\n",
    "---"
   ]
  },
  {
   "cell_type": "markdown",
   "metadata": {},
   "source": [
    "### Категоризация данных"
   ]
  },
  {
   "cell_type": "code",
   "execution_count": 7,
   "metadata": {},
   "outputs": [
    {
     "ename": "KeyboardInterrupt",
     "evalue": "",
     "output_type": "error",
     "traceback": [
      "\u001b[0;31m---------------------------------------------------------------------------\u001b[0m",
      "\u001b[0;31mKeyboardInterrupt\u001b[0m                         Traceback (most recent call last)",
      "\u001b[0;32m<ipython-input-7-1a7238a13b35>\u001b[0m in \u001b[0;36m<module>\u001b[0;34m\u001b[0m\n\u001b[1;32m     26\u001b[0m         \u001b[0;32mreturn\u001b[0m \u001b[0;34m'6 - группа'\u001b[0m\u001b[0;34m\u001b[0m\u001b[0;34m\u001b[0m\u001b[0m\n\u001b[1;32m     27\u001b[0m \u001b[0;34m\u001b[0m\u001b[0m\n\u001b[0;32m---> 28\u001b[0;31m \u001b[0mbank_customers\u001b[0m\u001b[0;34m[\u001b[0m\u001b[0;34m'dohod_id'\u001b[0m\u001b[0;34m]\u001b[0m \u001b[0;34m=\u001b[0m \u001b[0mbank_customers\u001b[0m\u001b[0;34m[\u001b[0m\u001b[0;34m'total_income'\u001b[0m\u001b[0;34m]\u001b[0m\u001b[0;34m.\u001b[0m\u001b[0mapply\u001b[0m\u001b[0;34m(\u001b[0m\u001b[0mdohod\u001b[0m\u001b[0;34m)\u001b[0m\u001b[0;34m\u001b[0m\u001b[0;34m\u001b[0m\u001b[0m\n\u001b[0m\u001b[1;32m     29\u001b[0m \u001b[0;34m\u001b[0m\u001b[0m\n\u001b[1;32m     30\u001b[0m \u001b[0;31m# Сделаем группировку по кредитам с задолженностью исходя из стажа и пола клиента.Создаем сводную таблицу.\u001b[0m\u001b[0;34m\u001b[0m\u001b[0;34m\u001b[0m\u001b[0;34m\u001b[0m\u001b[0m\n",
      "\u001b[0;32m/opt/conda/lib/python3.7/site-packages/pandas/core/series.py\u001b[0m in \u001b[0;36mapply\u001b[0;34m(self, func, convert_dtype, args, **kwds)\u001b[0m\n\u001b[1;32m   4040\u001b[0m             \u001b[0;32melse\u001b[0m\u001b[0;34m:\u001b[0m\u001b[0;34m\u001b[0m\u001b[0;34m\u001b[0m\u001b[0m\n\u001b[1;32m   4041\u001b[0m                 \u001b[0mvalues\u001b[0m \u001b[0;34m=\u001b[0m \u001b[0mself\u001b[0m\u001b[0;34m.\u001b[0m\u001b[0mastype\u001b[0m\u001b[0;34m(\u001b[0m\u001b[0mobject\u001b[0m\u001b[0;34m)\u001b[0m\u001b[0;34m.\u001b[0m\u001b[0mvalues\u001b[0m\u001b[0;34m\u001b[0m\u001b[0;34m\u001b[0m\u001b[0m\n\u001b[0;32m-> 4042\u001b[0;31m                 \u001b[0mmapped\u001b[0m \u001b[0;34m=\u001b[0m \u001b[0mlib\u001b[0m\u001b[0;34m.\u001b[0m\u001b[0mmap_infer\u001b[0m\u001b[0;34m(\u001b[0m\u001b[0mvalues\u001b[0m\u001b[0;34m,\u001b[0m \u001b[0mf\u001b[0m\u001b[0;34m,\u001b[0m \u001b[0mconvert\u001b[0m\u001b[0;34m=\u001b[0m\u001b[0mconvert_dtype\u001b[0m\u001b[0;34m)\u001b[0m\u001b[0;34m\u001b[0m\u001b[0;34m\u001b[0m\u001b[0m\n\u001b[0m\u001b[1;32m   4043\u001b[0m \u001b[0;34m\u001b[0m\u001b[0m\n\u001b[1;32m   4044\u001b[0m         \u001b[0;32mif\u001b[0m \u001b[0mlen\u001b[0m\u001b[0;34m(\u001b[0m\u001b[0mmapped\u001b[0m\u001b[0;34m)\u001b[0m \u001b[0;32mand\u001b[0m \u001b[0misinstance\u001b[0m\u001b[0;34m(\u001b[0m\u001b[0mmapped\u001b[0m\u001b[0;34m[\u001b[0m\u001b[0;36m0\u001b[0m\u001b[0;34m]\u001b[0m\u001b[0;34m,\u001b[0m \u001b[0mSeries\u001b[0m\u001b[0;34m)\u001b[0m\u001b[0;34m:\u001b[0m\u001b[0;34m\u001b[0m\u001b[0;34m\u001b[0m\u001b[0m\n",
      "\u001b[0;32mpandas/_libs/lib.pyx\u001b[0m in \u001b[0;36mpandas._libs.lib.map_infer\u001b[0;34m()\u001b[0m\n",
      "\u001b[0;32m<ipython-input-7-1a7238a13b35>\u001b[0m in \u001b[0;36mdohod\u001b[0;34m(stroka)\u001b[0m\n\u001b[1;32m     12\u001b[0m     \u001b[0mper3\u001b[0m \u001b[0;34m=\u001b[0m \u001b[0mnp\u001b[0m\u001b[0;34m.\u001b[0m\u001b[0mpercentile\u001b[0m\u001b[0;34m(\u001b[0m\u001b[0mbank_customers\u001b[0m\u001b[0;34m[\u001b[0m\u001b[0;34m'total_income'\u001b[0m\u001b[0;34m]\u001b[0m\u001b[0;34m,\u001b[0m \u001b[0;36m15\u001b[0m\u001b[0;34m)\u001b[0m\u001b[0;34m\u001b[0m\u001b[0;34m\u001b[0m\u001b[0m\n\u001b[1;32m     13\u001b[0m     \u001b[0mper4\u001b[0m \u001b[0;34m=\u001b[0m \u001b[0mnp\u001b[0m\u001b[0;34m.\u001b[0m\u001b[0mpercentile\u001b[0m\u001b[0;34m(\u001b[0m\u001b[0mbank_customers\u001b[0m\u001b[0;34m[\u001b[0m\u001b[0;34m'total_income'\u001b[0m\u001b[0;34m]\u001b[0m\u001b[0;34m,\u001b[0m \u001b[0;36m22.6\u001b[0m\u001b[0;34m)\u001b[0m\u001b[0;34m\u001b[0m\u001b[0;34m\u001b[0m\u001b[0m\n\u001b[0;32m---> 14\u001b[0;31m     \u001b[0mper5\u001b[0m \u001b[0;34m=\u001b[0m \u001b[0mnp\u001b[0m\u001b[0;34m.\u001b[0m\u001b[0mpercentile\u001b[0m\u001b[0;34m(\u001b[0m\u001b[0mbank_customers\u001b[0m\u001b[0;34m[\u001b[0m\u001b[0;34m'total_income'\u001b[0m\u001b[0;34m]\u001b[0m\u001b[0;34m,\u001b[0m \u001b[0;36m47.1\u001b[0m\u001b[0;34m)\u001b[0m\u001b[0;34m\u001b[0m\u001b[0;34m\u001b[0m\u001b[0m\n\u001b[0m\u001b[1;32m     15\u001b[0m     \u001b[0;32mif\u001b[0m \u001b[0mstroka\u001b[0m \u001b[0;34m<\u001b[0m \u001b[0mper1\u001b[0m\u001b[0;34m:\u001b[0m\u001b[0;34m\u001b[0m\u001b[0;34m\u001b[0m\u001b[0m\n\u001b[1;32m     16\u001b[0m         \u001b[0;32mreturn\u001b[0m \u001b[0;34m'1 - группа'\u001b[0m\u001b[0;34m\u001b[0m\u001b[0;34m\u001b[0m\u001b[0m\n",
      "\u001b[0;32m<__array_function__ internals>\u001b[0m in \u001b[0;36mpercentile\u001b[0;34m(*args, **kwargs)\u001b[0m\n",
      "\u001b[0;32m/opt/conda/lib/python3.7/site-packages/numpy/lib/function_base.py\u001b[0m in \u001b[0;36mpercentile\u001b[0;34m(a, q, axis, out, overwrite_input, interpolation, keepdims)\u001b[0m\n\u001b[1;32m   3704\u001b[0m         \u001b[0;32mraise\u001b[0m \u001b[0mValueError\u001b[0m\u001b[0;34m(\u001b[0m\u001b[0;34m\"Percentiles must be in the range [0, 100]\"\u001b[0m\u001b[0;34m)\u001b[0m\u001b[0;34m\u001b[0m\u001b[0;34m\u001b[0m\u001b[0m\n\u001b[1;32m   3705\u001b[0m     return _quantile_unchecked(\n\u001b[0;32m-> 3706\u001b[0;31m         a, q, axis, out, overwrite_input, interpolation, keepdims)\n\u001b[0m\u001b[1;32m   3707\u001b[0m \u001b[0;34m\u001b[0m\u001b[0m\n\u001b[1;32m   3708\u001b[0m \u001b[0;34m\u001b[0m\u001b[0m\n",
      "\u001b[0;32m/opt/conda/lib/python3.7/site-packages/numpy/lib/function_base.py\u001b[0m in \u001b[0;36m_quantile_unchecked\u001b[0;34m(a, q, axis, out, overwrite_input, interpolation, keepdims)\u001b[0m\n\u001b[1;32m   3824\u001b[0m     r, k = _ureduce(a, func=_quantile_ureduce_func, q=q, axis=axis, out=out,\n\u001b[1;32m   3825\u001b[0m                     \u001b[0moverwrite_input\u001b[0m\u001b[0;34m=\u001b[0m\u001b[0moverwrite_input\u001b[0m\u001b[0;34m,\u001b[0m\u001b[0;34m\u001b[0m\u001b[0;34m\u001b[0m\u001b[0m\n\u001b[0;32m-> 3826\u001b[0;31m                     interpolation=interpolation)\n\u001b[0m\u001b[1;32m   3827\u001b[0m     \u001b[0;32mif\u001b[0m \u001b[0mkeepdims\u001b[0m\u001b[0;34m:\u001b[0m\u001b[0;34m\u001b[0m\u001b[0;34m\u001b[0m\u001b[0m\n\u001b[1;32m   3828\u001b[0m         \u001b[0;32mreturn\u001b[0m \u001b[0mr\u001b[0m\u001b[0;34m.\u001b[0m\u001b[0mreshape\u001b[0m\u001b[0;34m(\u001b[0m\u001b[0mq\u001b[0m\u001b[0;34m.\u001b[0m\u001b[0mshape\u001b[0m \u001b[0;34m+\u001b[0m \u001b[0mk\u001b[0m\u001b[0;34m)\u001b[0m\u001b[0;34m\u001b[0m\u001b[0;34m\u001b[0m\u001b[0m\n",
      "\u001b[0;32m/opt/conda/lib/python3.7/site-packages/numpy/lib/function_base.py\u001b[0m in \u001b[0;36m_ureduce\u001b[0;34m(a, func, **kwargs)\u001b[0m\n\u001b[1;32m   3401\u001b[0m         \u001b[0mkeepdim\u001b[0m \u001b[0;34m=\u001b[0m \u001b[0;34m(\u001b[0m\u001b[0;36m1\u001b[0m\u001b[0;34m,\u001b[0m\u001b[0;34m)\u001b[0m \u001b[0;34m*\u001b[0m \u001b[0ma\u001b[0m\u001b[0;34m.\u001b[0m\u001b[0mndim\u001b[0m\u001b[0;34m\u001b[0m\u001b[0;34m\u001b[0m\u001b[0m\n\u001b[1;32m   3402\u001b[0m \u001b[0;34m\u001b[0m\u001b[0m\n\u001b[0;32m-> 3403\u001b[0;31m     \u001b[0mr\u001b[0m \u001b[0;34m=\u001b[0m \u001b[0mfunc\u001b[0m\u001b[0;34m(\u001b[0m\u001b[0ma\u001b[0m\u001b[0;34m,\u001b[0m \u001b[0;34m**\u001b[0m\u001b[0mkwargs\u001b[0m\u001b[0;34m)\u001b[0m\u001b[0;34m\u001b[0m\u001b[0;34m\u001b[0m\u001b[0m\n\u001b[0m\u001b[1;32m   3404\u001b[0m     \u001b[0;32mreturn\u001b[0m \u001b[0mr\u001b[0m\u001b[0;34m,\u001b[0m \u001b[0mkeepdim\u001b[0m\u001b[0;34m\u001b[0m\u001b[0;34m\u001b[0m\u001b[0m\n\u001b[1;32m   3405\u001b[0m \u001b[0;34m\u001b[0m\u001b[0m\n",
      "\u001b[0;32m/opt/conda/lib/python3.7/site-packages/numpy/lib/function_base.py\u001b[0m in \u001b[0;36m_quantile_ureduce_func\u001b[0;34m(a, q, axis, out, overwrite_input, interpolation, keepdims)\u001b[0m\n\u001b[1;32m   3926\u001b[0m         \u001b[0mweights_above\u001b[0m\u001b[0;34m.\u001b[0m\u001b[0mshape\u001b[0m \u001b[0;34m=\u001b[0m \u001b[0mweights_shape\u001b[0m\u001b[0;34m\u001b[0m\u001b[0;34m\u001b[0m\u001b[0m\n\u001b[1;32m   3927\u001b[0m \u001b[0;34m\u001b[0m\u001b[0m\n\u001b[0;32m-> 3928\u001b[0;31m         \u001b[0map\u001b[0m\u001b[0;34m.\u001b[0m\u001b[0mpartition\u001b[0m\u001b[0;34m(\u001b[0m\u001b[0mconcatenate\u001b[0m\u001b[0;34m(\u001b[0m\u001b[0;34m(\u001b[0m\u001b[0mindices_below\u001b[0m\u001b[0;34m,\u001b[0m \u001b[0mindices_above\u001b[0m\u001b[0;34m)\u001b[0m\u001b[0;34m)\u001b[0m\u001b[0;34m,\u001b[0m \u001b[0maxis\u001b[0m\u001b[0;34m=\u001b[0m\u001b[0maxis\u001b[0m\u001b[0;34m)\u001b[0m\u001b[0;34m\u001b[0m\u001b[0;34m\u001b[0m\u001b[0m\n\u001b[0m\u001b[1;32m   3929\u001b[0m \u001b[0;34m\u001b[0m\u001b[0m\n\u001b[1;32m   3930\u001b[0m         \u001b[0;31m# ensure axis with q-th is first\u001b[0m\u001b[0;34m\u001b[0m\u001b[0;34m\u001b[0m\u001b[0;34m\u001b[0m\u001b[0m\n",
      "\u001b[0;31mKeyboardInterrupt\u001b[0m: "
     ]
    }
   ],
   "source": [
    "# Нам нужны категории в доходах.Будем использовать percentile\n",
    "# Используем Распределение общего объема денежных доходов населения в целом по России\n",
    "#https://gks.ru/free_doc/new_site/population/bednost/tabl/tab-bed1-2-4.htm\n",
    "#Распределение общего объема денежных доходов населения, в процентах от меньшего к большему - 5,3; 10; 15; 22,6; 47,1\n",
    "# создаем функцию, которая с помощью перцентиль будет распределять столбец total_income на 6 групп.\n",
    "\n",
    "\n",
    "# Создадим функцию которая распределяет клиентов исходя из их дохода по групаам.\n",
    "def dohod(stroka):\n",
    "    per1 = np.percentile(bank_customers['total_income'], 5.3)\n",
    "    per2 = np.percentile(bank_customers['total_income'], 10)\n",
    "    per3 = np.percentile(bank_customers['total_income'], 15)\n",
    "    per4 = np.percentile(bank_customers['total_income'], 22.6)\n",
    "    per5 = np.percentile(bank_customers['total_income'], 47.1)\n",
    "    if stroka < per1:\n",
    "        return '1 - группа'\n",
    "    if per1 < stroka < per2:\n",
    "        return '2 - группа'\n",
    "    if per2 < stroka < per3:\n",
    "        return '3 - группа'\n",
    "    if per3 < stroka < per4:\n",
    "        return '4 - группа'\n",
    "    if per4 < stroka < per5:\n",
    "        return '5 - группа'\n",
    "    else:\n",
    "        return '6 - группа'\n",
    "\n",
    "bank_customers['dohod_id'] = bank_customers['total_income'].apply(dohod)   \n",
    "\n",
    "# Сделаем группировку по кредитам с задолженностью исходя из стажа и пола клиента.Создаем сводную таблицу. \n",
    "\n",
    "def stag_id(row):\n",
    "    type = row['income_type']\n",
    "    stag = row['days_employed']\n",
    "    if type == 'пенсионер':\n",
    "        return '5 - на пенсии'\n",
    "    if type != 'пенсионер':\n",
    "        if 1200 <= stag < 12220:\n",
    "            return '4 - более 5 лет'\n",
    "        elif stag > 12200:  # 47 рабочих лет по 260 дней\n",
    "            return '5 - на пенсии'\n",
    "        elif stag == 0:\n",
    "            return '0 - нет стажа'\n",
    "        elif 1 <= stag < 260:\n",
    "            return '1 - от 0 до 1 года'\n",
    "        elif 260 <= stag < 780:\n",
    "            return '2 - от 1 до 3 года'\n",
    "        elif 780 <= stag < 1200:\n",
    "            return '3 - от 3 до 5 лет'\n",
    "\n",
    "\n",
    "bank_customers['stag_id'] = bank_customers.apply(stag_id, axis=1)\n"
   ]
  },
  {
   "cell_type": "markdown",
   "metadata": {},
   "source": [
    "### Вывод"
   ]
  },
  {
   "cell_type": "markdown",
   "metadata": {},
   "source": [
    "Все данные подготовлены для анализа."
   ]
  },
  {
   "cell_type": "markdown",
   "metadata": {},
   "source": [
    "---\n",
    "## Комментарий от наставника\n",
    "\n",
    "Категоризовать также нужно и столбец с доходами. Это есть ниже, а должно быть в данном разделе, он для этого и нужен.\n",
    "\n",
    "---"
   ]
  },
  {
   "cell_type": "markdown",
   "metadata": {},
   "source": [
    "<font color=blue> Категоризвция по уровню дохода также сделана правильно. Здорово, что есть ссылка на источник информации. \n",
    "    \n",
    "---\n"
   ]
  },
  {
   "cell_type": "markdown",
   "metadata": {},
   "source": [
    "### Шаг 3. Ответьте на вопросы"
   ]
  },
  {
   "cell_type": "markdown",
   "metadata": {},
   "source": [
    "- Есть ли зависимость между наличием детей и возвратом кредита в срок?"
   ]
  },
  {
   "cell_type": "code",
   "execution_count": 12,
   "metadata": {},
   "outputs": [
    {
     "data": {
      "text/html": [
       "<div>\n",
       "<style scoped>\n",
       "    .dataframe tbody tr th:only-of-type {\n",
       "        vertical-align: middle;\n",
       "    }\n",
       "\n",
       "    .dataframe tbody tr th {\n",
       "        vertical-align: top;\n",
       "    }\n",
       "\n",
       "    .dataframe thead th {\n",
       "        text-align: right;\n",
       "    }\n",
       "</style>\n",
       "<table border=\"1\" class=\"dataframe\">\n",
       "  <thead>\n",
       "    <tr style=\"text-align: right;\">\n",
       "      <th></th>\n",
       "      <th></th>\n",
       "      <th>Vernuli_kredit</th>\n",
       "      <th>Zadolgnost</th>\n",
       "      <th>Procent_%</th>\n",
       "    </tr>\n",
       "    <tr>\n",
       "      <th>gender</th>\n",
       "      <th>children</th>\n",
       "      <th></th>\n",
       "      <th></th>\n",
       "      <th></th>\n",
       "    </tr>\n",
       "  </thead>\n",
       "  <tbody>\n",
       "    <tr>\n",
       "      <td rowspan=\"6\" valign=\"top\">F</td>\n",
       "      <td>0</td>\n",
       "      <td>8833.0</td>\n",
       "      <td>589.0</td>\n",
       "      <td>0.066682</td>\n",
       "    </tr>\n",
       "    <tr>\n",
       "      <td>1</td>\n",
       "      <td>2856.0</td>\n",
       "      <td>244.0</td>\n",
       "      <td>0.085434</td>\n",
       "    </tr>\n",
       "    <tr>\n",
       "      <td>2</td>\n",
       "      <td>1152.0</td>\n",
       "      <td>137.0</td>\n",
       "      <td>0.118924</td>\n",
       "    </tr>\n",
       "    <tr>\n",
       "      <td>3</td>\n",
       "      <td>178.0</td>\n",
       "      <td>17.0</td>\n",
       "      <td>0.095506</td>\n",
       "    </tr>\n",
       "    <tr>\n",
       "      <td>4</td>\n",
       "      <td>27.0</td>\n",
       "      <td>1.0</td>\n",
       "      <td>0.037037</td>\n",
       "    </tr>\n",
       "    <tr>\n",
       "      <td>5</td>\n",
       "      <td>7.0</td>\n",
       "      <td>NaN</td>\n",
       "      <td>NaN</td>\n",
       "    </tr>\n",
       "    <tr>\n",
       "      <td rowspan=\"6\" valign=\"top\">M</td>\n",
       "      <td>0</td>\n",
       "      <td>4073.0</td>\n",
       "      <td>469.0</td>\n",
       "      <td>0.115149</td>\n",
       "    </tr>\n",
       "    <tr>\n",
       "      <td>1</td>\n",
       "      <td>1531.0</td>\n",
       "      <td>197.0</td>\n",
       "      <td>0.128674</td>\n",
       "    </tr>\n",
       "    <tr>\n",
       "      <td>2</td>\n",
       "      <td>757.0</td>\n",
       "      <td>64.0</td>\n",
       "      <td>0.084544</td>\n",
       "    </tr>\n",
       "    <tr>\n",
       "      <td>3</td>\n",
       "      <td>123.0</td>\n",
       "      <td>10.0</td>\n",
       "      <td>0.081301</td>\n",
       "    </tr>\n",
       "    <tr>\n",
       "      <td>4</td>\n",
       "      <td>10.0</td>\n",
       "      <td>3.0</td>\n",
       "      <td>0.300000</td>\n",
       "    </tr>\n",
       "    <tr>\n",
       "      <td>5</td>\n",
       "      <td>2.0</td>\n",
       "      <td>NaN</td>\n",
       "      <td>NaN</td>\n",
       "    </tr>\n",
       "  </tbody>\n",
       "</table>\n",
       "</div>"
      ],
      "text/plain": [
       "                 Vernuli_kredit  Zadolgnost  Procent_%\n",
       "gender children                                       \n",
       "F      0                 8833.0       589.0   0.066682\n",
       "       1                 2856.0       244.0   0.085434\n",
       "       2                 1152.0       137.0   0.118924\n",
       "       3                  178.0        17.0   0.095506\n",
       "       4                   27.0         1.0   0.037037\n",
       "       5                    7.0         NaN        NaN\n",
       "M      0                 4073.0       469.0   0.115149\n",
       "       1                 1531.0       197.0   0.128674\n",
       "       2                  757.0        64.0   0.084544\n",
       "       3                  123.0        10.0   0.081301\n",
       "       4                   10.0         3.0   0.300000\n",
       "       5                    2.0         NaN        NaN"
      ]
     },
     "metadata": {},
     "output_type": "display_data"
    },
    {
     "name": "stdout",
     "output_type": "stream",
     "text": [
      "gender  children\n",
      "F       0           589\n",
      "        1           244\n",
      "        2           137\n",
      "        3            17\n",
      "        4             1\n",
      "M       0           469\n",
      "        1           197\n",
      "        2            64\n",
      "        3            10\n",
      "        4             3\n",
      "dtype: int64\n"
     ]
    },
    {
     "data": {
      "image/png": "[encoded data removed]",
      "text/plain": [
       "<Figure size 432x288 with 1 Axes>"
      ]
     },
     "metadata": {
      "needs_background": "light"
     },
     "output_type": "display_data"
    }
   ],
   "source": [
    "bank_customers['scet'] = 1\n",
    "#Дети и возврат кредита\n",
    "svodnaya_semia = pd.pivot_table(bank_customers, values='scet', index=['gender','children'],\n",
    "                    columns=['debt'], aggfunc='sum')\n",
    "svodnaya_semia.set_axis(['Vernuli_kredit', 'Zadolgnost'], axis = 'columns', inplace = True)\n",
    "svodnaya_semia2 = svodnaya_semia.fillna(0).plot(kind = 'barh', stacked = True)\n",
    "svodnaya_semia['Procent_%'] = svodnaya_semia['Zadolgnost'] / svodnaya_semia['Vernuli_kredit']\n",
    "display(svodnaya_semia)\n",
    "bank_customers1 = bank_customers[bank_customers['debt'] == 1]\n",
    "print(bank_customers1.groupby(['gender','children']).size())"
   ]
  },
  {
   "cell_type": "markdown",
   "metadata": {},
   "source": [
    "### Вывод"
   ]
  },
  {
   "cell_type": "markdown",
   "metadata": {},
   "source": [
    "Зависимость есть. Данных для объективного исследования семей с детьми более 3-х мало. Но кредитная нагрузка меняется при наличии детей и количество невозвратов растёт на 2 процента в среднем. При этом мужчины без детей или с одним ребенком - оказываються в группе риска, а для женщин процент невозврата повышается при 2-3 детей в семье. "
   ]
  },
  {
   "cell_type": "markdown",
   "metadata": {},
   "source": [
    "---\n",
    "## Комментарий от наставника\n",
    "\n",
    "Вывод не противоречит полученным результатам. \n",
    "\n",
    "---"
   ]
  },
  {
   "cell_type": "markdown",
   "metadata": {},
   "source": [
    "- Есть ли зависимость между семейным положением и возвратом кредита в срок?"
   ]
  },
  {
   "cell_type": "code",
   "execution_count": 71,
   "metadata": {},
   "outputs": [
    {
     "data": {
      "text/html": [
       "<div>\n",
       "<style scoped>\n",
       "    .dataframe tbody tr th:only-of-type {\n",
       "        vertical-align: middle;\n",
       "    }\n",
       "\n",
       "    .dataframe tbody tr th {\n",
       "        vertical-align: top;\n",
       "    }\n",
       "\n",
       "    .dataframe thead th {\n",
       "        text-align: right;\n",
       "    }\n",
       "</style>\n",
       "<table border=\"1\" class=\"dataframe\">\n",
       "  <thead>\n",
       "    <tr style=\"text-align: right;\">\n",
       "      <th></th>\n",
       "      <th></th>\n",
       "      <th>Vernuli_kredit</th>\n",
       "      <th>Zadolgnost</th>\n",
       "      <th>Procent_%</th>\n",
       "    </tr>\n",
       "    <tr>\n",
       "      <th>gender</th>\n",
       "      <th>family_status</th>\n",
       "      <th></th>\n",
       "      <th></th>\n",
       "      <th></th>\n",
       "    </tr>\n",
       "  </thead>\n",
       "  <tbody>\n",
       "    <tr>\n",
       "      <td rowspan=\"5\" valign=\"top\">F</td>\n",
       "      <td>вдовец / вдова</td>\n",
       "      <td>847</td>\n",
       "      <td>51</td>\n",
       "      <td>0.060213</td>\n",
       "    </tr>\n",
       "    <tr>\n",
       "      <td>в разводе</td>\n",
       "      <td>866</td>\n",
       "      <td>61</td>\n",
       "      <td>0.070439</td>\n",
       "    </tr>\n",
       "    <tr>\n",
       "      <td>женат / замужем</td>\n",
       "      <td>7166</td>\n",
       "      <td>526</td>\n",
       "      <td>0.073402</td>\n",
       "    </tr>\n",
       "    <tr>\n",
       "      <td>Не женат / не замужем</td>\n",
       "      <td>1600</td>\n",
       "      <td>118</td>\n",
       "      <td>0.073750</td>\n",
       "    </tr>\n",
       "    <tr>\n",
       "      <td>гражданский брак</td>\n",
       "      <td>2574</td>\n",
       "      <td>232</td>\n",
       "      <td>0.090132</td>\n",
       "    </tr>\n",
       "    <tr>\n",
       "      <td rowspan=\"5\" valign=\"top\">M</td>\n",
       "      <td>женат / замужем</td>\n",
       "      <td>4157</td>\n",
       "      <td>399</td>\n",
       "      <td>0.095983</td>\n",
       "    </tr>\n",
       "    <tr>\n",
       "      <td>в разводе</td>\n",
       "      <td>234</td>\n",
       "      <td>24</td>\n",
       "      <td>0.102564</td>\n",
       "    </tr>\n",
       "    <tr>\n",
       "      <td>гражданский брак</td>\n",
       "      <td>1144</td>\n",
       "      <td>154</td>\n",
       "      <td>0.134615</td>\n",
       "    </tr>\n",
       "    <tr>\n",
       "      <td>Не женат / не замужем</td>\n",
       "      <td>917</td>\n",
       "      <td>155</td>\n",
       "      <td>0.169029</td>\n",
       "    </tr>\n",
       "    <tr>\n",
       "      <td>вдовец / вдова</td>\n",
       "      <td>44</td>\n",
       "      <td>11</td>\n",
       "      <td>0.250000</td>\n",
       "    </tr>\n",
       "  </tbody>\n",
       "</table>\n",
       "</div>"
      ],
      "text/plain": [
       "                              Vernuli_kredit  Zadolgnost  Procent_%\n",
       "gender family_status                                               \n",
       "F      вдовец / вдова                    847          51   0.060213\n",
       "       в разводе                         866          61   0.070439\n",
       "       женат / замужем                  7166         526   0.073402\n",
       "       Не женат / не замужем            1600         118   0.073750\n",
       "       гражданский брак                 2574         232   0.090132\n",
       "M      женат / замужем                  4157         399   0.095983\n",
       "       в разводе                         234          24   0.102564\n",
       "       гражданский брак                 1144         154   0.134615\n",
       "       Не женат / не замужем             917         155   0.169029\n",
       "       вдовец / вдова                     44          11   0.250000"
      ]
     },
     "metadata": {},
     "output_type": "display_data"
    }
   ],
   "source": [
    "#Семейное положение и возврат кредита. Проверяем теорию, что выплата кредита зависит не сколько от семейного положения, сколько \n",
    "#от пола клиента\n",
    "svodnaya_family = pd.pivot_table(bank_customers, values='scet', index=['gender','family_status'],\n",
    "                    columns=['debt'], aggfunc='sum')\n",
    "svodnaya_family.set_axis(['Vernuli_kredit', 'Zadolgnost'], axis = 'columns', inplace = True)\n",
    "svodnaya_family['Procent_%'] = svodnaya_family['Zadolgnost'] / svodnaya_family['Vernuli_kredit']\n",
    "\n",
    "display(svodnaya_family.sort_values(by = 'Procent_%', ascending = True))"
   ]
  },
  {
   "cell_type": "markdown",
   "metadata": {},
   "source": [
    "### Вывод"
   ]
  },
  {
   "cell_type": "markdown",
   "metadata": {},
   "source": [
    "Зависимость от семейного положения есть. Женщины серьёзнее относятся к своим обязательствам, но даже они, находясь в гражданских отношениях, не всегда вовремя возвращают долги. Самые ответственные из мужчин - находятся в официальном браке. Отсутствие отношений, а так же их не оформленность - сигнал к тому, что платить они будут не в срок.  "
   ]
  },
  {
   "cell_type": "markdown",
   "metadata": {},
   "source": [
    "- Есть ли зависимость между уровнем дохода и возвратом кредита в срок?"
   ]
  },
  {
   "cell_type": "markdown",
   "metadata": {},
   "source": [
    "---\n",
    "## Комментарий от наставника\n",
    "\n",
    "Выбросы из данных удалять не надо. Тем более 3 сигма - это для нормального распределения, а мы его не знаем. \n",
    "\n",
    "---"
   ]
  },
  {
   "cell_type": "code",
   "execution_count": 72,
   "metadata": {},
   "outputs": [
    {
     "name": "stdout",
     "output_type": "stream",
     "text": [
      "Выведем группы исходя из распределения доходов россиян\n",
      "1 - группа - до 5,3%; вторая - до 10%; третья - до 15%; четвертая -  22,6%; пятая - до 47,1%\n",
      "\n"
     ]
    },
    {
     "data": {
      "text/html": [
       "<div>\n",
       "<style scoped>\n",
       "    .dataframe tbody tr th:only-of-type {\n",
       "        vertical-align: middle;\n",
       "    }\n",
       "\n",
       "    .dataframe tbody tr th {\n",
       "        vertical-align: top;\n",
       "    }\n",
       "\n",
       "    .dataframe thead th {\n",
       "        text-align: right;\n",
       "    }\n",
       "</style>\n",
       "<table border=\"1\" class=\"dataframe\">\n",
       "  <thead>\n",
       "    <tr style=\"text-align: right;\">\n",
       "      <th></th>\n",
       "      <th></th>\n",
       "      <th>Vernuli_kredit</th>\n",
       "      <th>Zadolgnost</th>\n",
       "      <th>Procent_%</th>\n",
       "    </tr>\n",
       "    <tr>\n",
       "      <th>gender</th>\n",
       "      <th>dohod_id</th>\n",
       "      <th></th>\n",
       "      <th></th>\n",
       "      <th></th>\n",
       "    </tr>\n",
       "  </thead>\n",
       "  <tbody>\n",
       "    <tr>\n",
       "      <td rowspan=\"6\" valign=\"top\">F</td>\n",
       "      <td>1 - группа</td>\n",
       "      <td>898</td>\n",
       "      <td>58</td>\n",
       "      <td>0.064588</td>\n",
       "    </tr>\n",
       "    <tr>\n",
       "      <td>6 - группа</td>\n",
       "      <td>6067</td>\n",
       "      <td>431</td>\n",
       "      <td>0.071040</td>\n",
       "    </tr>\n",
       "    <tr>\n",
       "      <td>4 - группа</td>\n",
       "      <td>1125</td>\n",
       "      <td>81</td>\n",
       "      <td>0.072000</td>\n",
       "    </tr>\n",
       "    <tr>\n",
       "      <td>2 - группа</td>\n",
       "      <td>747</td>\n",
       "      <td>56</td>\n",
       "      <td>0.074967</td>\n",
       "    </tr>\n",
       "    <tr>\n",
       "      <td>3 - группа</td>\n",
       "      <td>774</td>\n",
       "      <td>66</td>\n",
       "      <td>0.085271</td>\n",
       "    </tr>\n",
       "    <tr>\n",
       "      <td>5 - группа</td>\n",
       "      <td>3442</td>\n",
       "      <td>296</td>\n",
       "      <td>0.085997</td>\n",
       "    </tr>\n",
       "    <tr>\n",
       "      <td rowspan=\"6\" valign=\"top\">M</td>\n",
       "      <td>6 - группа</td>\n",
       "      <td>4291</td>\n",
       "      <td>468</td>\n",
       "      <td>0.109065</td>\n",
       "    </tr>\n",
       "    <tr>\n",
       "      <td>1 - группа</td>\n",
       "      <td>154</td>\n",
       "      <td>18</td>\n",
       "      <td>0.116883</td>\n",
       "    </tr>\n",
       "    <tr>\n",
       "      <td>5 - группа</td>\n",
       "      <td>1319</td>\n",
       "      <td>156</td>\n",
       "      <td>0.118271</td>\n",
       "    </tr>\n",
       "    <tr>\n",
       "      <td>3 - группа</td>\n",
       "      <td>200</td>\n",
       "      <td>24</td>\n",
       "      <td>0.120000</td>\n",
       "    </tr>\n",
       "    <tr>\n",
       "      <td>2 - группа</td>\n",
       "      <td>174</td>\n",
       "      <td>23</td>\n",
       "      <td>0.132184</td>\n",
       "    </tr>\n",
       "    <tr>\n",
       "      <td>4 - группа</td>\n",
       "      <td>358</td>\n",
       "      <td>54</td>\n",
       "      <td>0.150838</td>\n",
       "    </tr>\n",
       "  </tbody>\n",
       "</table>\n",
       "</div>"
      ],
      "text/plain": [
       "                   Vernuli_kredit  Zadolgnost  Procent_%\n",
       "gender dohod_id                                         \n",
       "F      1 - группа             898          58   0.064588\n",
       "       6 - группа            6067         431   0.071040\n",
       "       4 - группа            1125          81   0.072000\n",
       "       2 - группа             747          56   0.074967\n",
       "       3 - группа             774          66   0.085271\n",
       "       5 - группа            3442         296   0.085997\n",
       "M      6 - группа            4291         468   0.109065\n",
       "       1 - группа             154          18   0.116883\n",
       "       5 - группа            1319         156   0.118271\n",
       "       3 - группа             200          24   0.120000\n",
       "       2 - группа             174          23   0.132184\n",
       "       4 - группа             358          54   0.150838"
      ]
     },
     "metadata": {},
     "output_type": "display_data"
    }
   ],
   "source": [
    "# Сделаем группировку по доходу и возвратам.\n",
    "print('Выведем группы исходя из распределения доходов россиян')\n",
    "print('1 - группа - до 5,3%; вторая - до 10%; третья - до 15%; четвертая -  22,6%; пятая - до 47,1%')\n",
    "print()\n",
    "\n",
    "svodnaya_dohod = pd.pivot_table(bank_customers, values='scet', index = ['gender', 'dohod_id'],\n",
    "                    columns=['debt'], aggfunc='sum')\n",
    "\n",
    "svodnaya_dohod.set_axis(['Vernuli_kredit', 'Zadolgnost'], axis = 'columns', inplace = True)\n",
    "svodnaya_dohod['Procent_%'] = svodnaya_dohod['Zadolgnost'] / svodnaya_dohod['Vernuli_kredit']\n",
    "display(svodnaya_dohod.sort_values(by = 'Procent_%', ascending = True))\n"
   ]
  },
  {
   "cell_type": "markdown",
   "metadata": {},
   "source": [
    "### Вывод"
   ]
  },
  {
   "cell_type": "markdown",
   "metadata": {},
   "source": [
    "Зависимость от дохода есть. Даже с небольшой зарплатой женщины платят в срок, но при повышении заработной платы - растёт и процент невозврата. У мужчин наоборот - после 250 тысяч их возможность платить вовремя повышается."
   ]
  },
  {
   "cell_type": "markdown",
   "metadata": {},
   "source": [
    "---\n",
    "## Комментарий от наставника\n",
    "\n",
    "Исходя из каких предположения выбран именно такой способ категоризации? При нем появляется дисбаланс классов. Лучше использовать разбиение по квантилям данных. Или же можно узнать в интернете процентный состав общества по доходам и затем уже категоризовать столбец с доходами по найденному соотношению с помощью персентилей. \n",
    "\n",
    "---"
   ]
  },
  {
   "cell_type": "markdown",
   "metadata": {},
   "source": [
    "- Как разные цели кредита влияют на его возврат в срок?"
   ]
  },
  {
   "cell_type": "code",
   "execution_count": 73,
   "metadata": {},
   "outputs": [
    {
     "data": {
      "text/html": [
       "<div>\n",
       "<style scoped>\n",
       "    .dataframe tbody tr th:only-of-type {\n",
       "        vertical-align: middle;\n",
       "    }\n",
       "\n",
       "    .dataframe tbody tr th {\n",
       "        vertical-align: top;\n",
       "    }\n",
       "\n",
       "    .dataframe thead th {\n",
       "        text-align: right;\n",
       "    }\n",
       "</style>\n",
       "<table border=\"1\" class=\"dataframe\">\n",
       "  <thead>\n",
       "    <tr style=\"text-align: right;\">\n",
       "      <th></th>\n",
       "      <th></th>\n",
       "      <th>Vernuli_kredit</th>\n",
       "      <th>Zadolgnost</th>\n",
       "      <th>Procent_%</th>\n",
       "    </tr>\n",
       "    <tr>\n",
       "      <th>gender</th>\n",
       "      <th>purpose_id</th>\n",
       "      <th></th>\n",
       "      <th></th>\n",
       "      <th></th>\n",
       "    </tr>\n",
       "  </thead>\n",
       "  <tbody>\n",
       "    <tr>\n",
       "      <td rowspan=\"5\" valign=\"top\">F</td>\n",
       "      <td>недвижимость</td>\n",
       "      <td>5784</td>\n",
       "      <td>384</td>\n",
       "      <td>0.066390</td>\n",
       "    </tr>\n",
       "    <tr>\n",
       "      <td>коммерческая недвижимость</td>\n",
       "      <td>806</td>\n",
       "      <td>59</td>\n",
       "      <td>0.073201</td>\n",
       "    </tr>\n",
       "    <tr>\n",
       "      <td>свадьба</td>\n",
       "      <td>1425</td>\n",
       "      <td>107</td>\n",
       "      <td>0.075088</td>\n",
       "    </tr>\n",
       "    <tr>\n",
       "      <td>образование</td>\n",
       "      <td>2437</td>\n",
       "      <td>207</td>\n",
       "      <td>0.084941</td>\n",
       "    </tr>\n",
       "    <tr>\n",
       "      <td>авто</td>\n",
       "      <td>2601</td>\n",
       "      <td>231</td>\n",
       "      <td>0.088812</td>\n",
       "    </tr>\n",
       "    <tr>\n",
       "      <td rowspan=\"5\" valign=\"top\">M</td>\n",
       "      <td>недвижимость</td>\n",
       "      <td>2967</td>\n",
       "      <td>295</td>\n",
       "      <td>0.099427</td>\n",
       "    </tr>\n",
       "    <tr>\n",
       "      <td>коммерческая недвижимость</td>\n",
       "      <td>397</td>\n",
       "      <td>40</td>\n",
       "      <td>0.100756</td>\n",
       "    </tr>\n",
       "    <tr>\n",
       "      <td>свадьба</td>\n",
       "      <td>679</td>\n",
       "      <td>77</td>\n",
       "      <td>0.113402</td>\n",
       "    </tr>\n",
       "    <tr>\n",
       "      <td>авто</td>\n",
       "      <td>1274</td>\n",
       "      <td>168</td>\n",
       "      <td>0.131868</td>\n",
       "    </tr>\n",
       "    <tr>\n",
       "      <td>образование</td>\n",
       "      <td>1179</td>\n",
       "      <td>163</td>\n",
       "      <td>0.138253</td>\n",
       "    </tr>\n",
       "  </tbody>\n",
       "</table>\n",
       "</div>"
      ],
      "text/plain": [
       "                                  Vernuli_kredit  Zadolgnost  Procent_%\n",
       "gender purpose_id                                                      \n",
       "F      недвижимость                         5784         384   0.066390\n",
       "       коммерческая недвижимость             806          59   0.073201\n",
       "       свадьба                              1425         107   0.075088\n",
       "       образование                          2437         207   0.084941\n",
       "       авто                                 2601         231   0.088812\n",
       "M      недвижимость                         2967         295   0.099427\n",
       "       коммерческая недвижимость             397          40   0.100756\n",
       "       свадьба                               679          77   0.113402\n",
       "       авто                                 1274         168   0.131868\n",
       "       образование                          1179         163   0.138253"
      ]
     },
     "metadata": {},
     "output_type": "display_data"
    },
    {
     "name": "stdout",
     "output_type": "stream",
     "text": [
      "-----------------------------------------------------------------------------------\n",
      "!!! Дополнительно рассмотрим вопрос зависимости возврата от стажа и пола клиента.\n"
     ]
    },
    {
     "data": {
      "text/html": [
       "<div>\n",
       "<style scoped>\n",
       "    .dataframe tbody tr th:only-of-type {\n",
       "        vertical-align: middle;\n",
       "    }\n",
       "\n",
       "    .dataframe tbody tr th {\n",
       "        vertical-align: top;\n",
       "    }\n",
       "\n",
       "    .dataframe thead th {\n",
       "        text-align: right;\n",
       "    }\n",
       "</style>\n",
       "<table border=\"1\" class=\"dataframe\">\n",
       "  <thead>\n",
       "    <tr style=\"text-align: right;\">\n",
       "      <th></th>\n",
       "      <th></th>\n",
       "      <th>Vernuli_kredit</th>\n",
       "      <th>Zadolgnost</th>\n",
       "      <th>Procent_%</th>\n",
       "    </tr>\n",
       "    <tr>\n",
       "      <th>gender</th>\n",
       "      <th>stag_id</th>\n",
       "      <th></th>\n",
       "      <th></th>\n",
       "      <th></th>\n",
       "    </tr>\n",
       "  </thead>\n",
       "  <tbody>\n",
       "    <tr>\n",
       "      <td rowspan=\"5\" valign=\"top\">F</td>\n",
       "      <td>1 - от 0 до 1 года</td>\n",
       "      <td>638</td>\n",
       "      <td>72</td>\n",
       "      <td>0.112853</td>\n",
       "    </tr>\n",
       "    <tr>\n",
       "      <td>2 - от 1 до 3 года</td>\n",
       "      <td>1533</td>\n",
       "      <td>167</td>\n",
       "      <td>0.108937</td>\n",
       "    </tr>\n",
       "    <tr>\n",
       "      <td>3 - от 3 до 5 лет</td>\n",
       "      <td>1122</td>\n",
       "      <td>88</td>\n",
       "      <td>0.078431</td>\n",
       "    </tr>\n",
       "    <tr>\n",
       "      <td>4 - более 5 лет</td>\n",
       "      <td>6775</td>\n",
       "      <td>496</td>\n",
       "      <td>0.073210</td>\n",
       "    </tr>\n",
       "    <tr>\n",
       "      <td>5 - на пенсии</td>\n",
       "      <td>2985</td>\n",
       "      <td>165</td>\n",
       "      <td>0.055276</td>\n",
       "    </tr>\n",
       "  </tbody>\n",
       "</table>\n",
       "</div>"
      ],
      "text/plain": [
       "                           Vernuli_kredit  Zadolgnost  Procent_%\n",
       "gender stag_id                                                  \n",
       "F      1 - от 0 до 1 года             638          72   0.112853\n",
       "       2 - от 1 до 3 года            1533         167   0.108937\n",
       "       3 - от 3 до 5 лет             1122          88   0.078431\n",
       "       4 - более 5 лет               6775         496   0.073210\n",
       "       5 - на пенсии                 2985         165   0.055276"
      ]
     },
     "metadata": {},
     "output_type": "display_data"
    },
    {
     "data": {
      "text/html": [
       "<div>\n",
       "<style scoped>\n",
       "    .dataframe tbody tr th:only-of-type {\n",
       "        vertical-align: middle;\n",
       "    }\n",
       "\n",
       "    .dataframe tbody tr th {\n",
       "        vertical-align: top;\n",
       "    }\n",
       "\n",
       "    .dataframe thead th {\n",
       "        text-align: right;\n",
       "    }\n",
       "</style>\n",
       "<table border=\"1\" class=\"dataframe\">\n",
       "  <thead>\n",
       "    <tr style=\"text-align: right;\">\n",
       "      <th></th>\n",
       "      <th></th>\n",
       "      <th>Vernuli_kredit</th>\n",
       "      <th>Zadolgnost</th>\n",
       "      <th>Procent_%</th>\n",
       "    </tr>\n",
       "    <tr>\n",
       "      <th>gender</th>\n",
       "      <th>stag_id</th>\n",
       "      <th></th>\n",
       "      <th></th>\n",
       "      <th></th>\n",
       "    </tr>\n",
       "  </thead>\n",
       "  <tbody>\n",
       "    <tr>\n",
       "      <td rowspan=\"5\" valign=\"top\">M</td>\n",
       "      <td>1 - от 0 до 1 года</td>\n",
       "      <td>429</td>\n",
       "      <td>58</td>\n",
       "      <td>0.135198</td>\n",
       "    </tr>\n",
       "    <tr>\n",
       "      <td>2 - от 1 до 3 года</td>\n",
       "      <td>1036</td>\n",
       "      <td>156</td>\n",
       "      <td>0.150579</td>\n",
       "    </tr>\n",
       "    <tr>\n",
       "      <td>3 - от 3 до 5 лет</td>\n",
       "      <td>760</td>\n",
       "      <td>122</td>\n",
       "      <td>0.160526</td>\n",
       "    </tr>\n",
       "    <tr>\n",
       "      <td>4 - более 5 лет</td>\n",
       "      <td>3609</td>\n",
       "      <td>355</td>\n",
       "      <td>0.098365</td>\n",
       "    </tr>\n",
       "    <tr>\n",
       "      <td>5 - на пенсии</td>\n",
       "      <td>662</td>\n",
       "      <td>52</td>\n",
       "      <td>0.078550</td>\n",
       "    </tr>\n",
       "  </tbody>\n",
       "</table>\n",
       "</div>"
      ],
      "text/plain": [
       "                           Vernuli_kredit  Zadolgnost  Procent_%\n",
       "gender stag_id                                                  \n",
       "M      1 - от 0 до 1 года             429          58   0.135198\n",
       "       2 - от 1 до 3 года            1036         156   0.150579\n",
       "       3 - от 3 до 5 лет              760         122   0.160526\n",
       "       4 - более 5 лет               3609         355   0.098365\n",
       "       5 - на пенсии                  662          52   0.078550"
      ]
     },
     "metadata": {},
     "output_type": "display_data"
    }
   ],
   "source": [
    "\n",
    "# Сделаем группировку по целям и возвратам.\n",
    "\n",
    "svodnaya_cel = pd.pivot_table(bank_customers, values='scet', index = ['gender','purpose_id'],\n",
    "                    columns=['debt'], aggfunc='sum')\n",
    "\n",
    "svodnaya_cel.set_axis(['Vernuli_kredit', 'Zadolgnost'], axis = 'columns', inplace = True)\n",
    "svodnaya_cel['Procent_%'] = svodnaya_cel['Zadolgnost'] / svodnaya_cel['Vernuli_kredit'] \n",
    "display(svodnaya_cel.sort_values(by = 'Procent_%', ascending = True))\n",
    "\n",
    "print('-----------------------------------------------------------------------------------')\n",
    "print('!!! Дополнительно рассмотрим вопрос зависимости возврата от стажа и пола клиента.')\n",
    "\n",
    "\n",
    "bank_customers_F = bank_customers[bank_customers['gender'] == 'F']\n",
    "bank_customers_M = bank_customers[bank_customers['gender'] == 'M']\n",
    "svodnaya = pd.pivot_table(bank_customers_F, values='scet', index=['gender', 'stag_id'],\n",
    "                    columns=['debt'], aggfunc='sum')\n",
    "\n",
    "svodnaya.set_axis(['Vernuli_kredit', 'Zadolgnost'], axis = 'columns', inplace = True)\n",
    "svodnaya['Procent_%'] = svodnaya['Zadolgnost'] / svodnaya['Vernuli_kredit'] \n",
    "display(svodnaya.sort_values(by = 'stag_id', ascending = True))\n",
    "\n",
    "\n",
    "svodnaya_M = pd.pivot_table(bank_customers_M, values='scet', index=['gender', 'stag_id'],\n",
    "                    columns=['debt'], aggfunc='sum')\n",
    "svodnaya_M.set_axis(['Vernuli_kredit', 'Zadolgnost'], axis = 'columns', inplace = True)\n",
    "svodnaya_M['Procent_%'] = svodnaya_M['Zadolgnost'] / svodnaya_M['Vernuli_kredit']\n",
    "display(svodnaya_M.sort_values(by = 'stag_id', ascending = True))\n"
   ]
  },
  {
   "cell_type": "markdown",
   "metadata": {},
   "source": [
    "### Вывод"
   ]
  },
  {
   "cell_type": "markdown",
   "metadata": {},
   "source": [
    "Только выплата за недвижимость заставляет мужчин и женщин внимательнее относиться к кредитам. Свадьба, авто и образование у мужчин - не является залогом успешного возврата. \n",
    "\n",
    "Зависимость от стажа:\n",
    "Пенсионеры платят лучше других категорий граждан. А отсутствие подтверждённого опыта не должно пугать при выдаче кредита. Стаж до 3-х лет, является определённым фактором риска. Причём как у женщин, так и у мужчин.\n"
   ]
  },
  {
   "cell_type": "markdown",
   "metadata": {},
   "source": [
    "---\n",
    "## Комментарий от наставника\n",
    "\n",
    "Здорово, что при анализе использован метод сводных таблиц. Данный метод пригодится в дальнейших проектах. \n",
    "\n",
    "---"
   ]
  },
  {
   "cell_type": "markdown",
   "metadata": {},
   "source": [
    "### Шаг 4. Общий вывод"
   ]
  },
  {
   "cell_type": "markdown",
   "metadata": {},
   "source": [
    "Принадлежность к определённому полу гораздо больше оказывает влияние на возврат кредита, нежели какие либо другие факторы. Это видно из всех исследований, которые мы провели. Официальные отношения и большая семья, а так же большой стаж работы приносит в жизнь мужчины ответственность - при которой справляться с долгами легче.  \n",
    "Женщины испытываю трудности с оплатой кредита при небольшом сроке работы, состоящие в гражданских отношениях и имеющие 2-3 детей.\n"
   ]
  },
  {
   "cell_type": "markdown",
   "metadata": {},
   "source": [
    "---\n",
    "## Комментарий от наставника\n",
    "\n",
    "Выводы описаны кратко, но грамотно. Приведены ответы на главные вопросы проекта. В выводах можно приводить полученные ранее значения. Также можно расписать все, что было сделано в работе. \n",
    "\n",
    "---"
   ]
  },
  {
   "cell_type": "markdown",
   "metadata": {},
   "source": [
    "<font color=blue> Помарки исправлены, и теперь работа выполнена хорошо. Успехов в дальнейших проектах :)\n",
    "    \n",
    "---"
   ]
  },
  {
   "cell_type": "markdown",
   "metadata": {},
   "source": [
    "## Комментарий от наставника\n",
    "\n",
    "- Таблицы на печать выводы с помощью метода display;\n",
    "- Используй альтернативный способ обработки пропусков;\n",
    "- Категоризацию по доходу стоит делать иначе. Смотри данный раздел подробнее.\n",
    "\n",
    "Ты проделала большую работу, молодец! Исправь отмеченные тут замечания, и получится очень достойная работа :)\n",
    "\n",
    "-----"
   ]
  },
  {
   "cell_type": "markdown",
   "metadata": {},
   "source": [
    "### Чек-лист готовности проекта\n",
    "\n",
    "Поставьте 'x' в выполненных пунктах. Далее нажмите Shift+Enter."
   ]
  },
  {
   "cell_type": "markdown",
   "metadata": {},
   "source": [
    "- [x]  открыт файл;\n",
    "- [x]  файл изучен;\n",
    "- [x]  определены пропущенные значения;\n",
    "- [x]  заполнены пропущенные значения;\n",
    "- [x]  есть пояснение, какие пропущенные значения обнаружены;\n",
    "- [x]  описаны возможные причины появления пропусков в данных;\n",
    "- [x]  объяснено, по какому принципу заполнены пропуски;\n",
    "- [x]  заменен вещественный тип данных на целочисленный;\n",
    "- [x]  есть пояснение, какой метод используется для изменения типа данных и почему;\n",
    "- [x]  удалены дубликаты;\n",
    "- [x]  есть пояснение, какой метод используется для поиска и удаления дубликатов;\n",
    "- [x]  описаны возможные причины появления дубликатов в данных;\n",
    "- [x]  выделены леммы в значениях столбца с целями получения кредита;\n",
    "- [x]  описан процесс лемматизации;\n",
    "- [x]  данные категоризированы;\n",
    "- [x]  есть объяснение принципа категоризации данных;\n",
    "- [x]  есть ответ на вопрос: \"Есть ли зависимость между наличием детей и возвратом кредита в срок?\";\n",
    "- [x]  есть ответ на вопрос: \"Есть ли зависимость между семейным положением и возвратом кредита в срок?\";\n",
    "- [x]  есть ответ на вопрос: \"Есть ли зависимость между уровнем дохода и возвратом кредита в срок?\";\n",
    "- [x]  есть ответ на вопрос: \"Как разные цели кредита влияют на его возврат в срок?\";\n",
    "- [x]  в каждом этапе есть выводы;\n",
    "- [x]  есть общий вывод."
   ]
  }
 ],
 "metadata": {
  "kernelspec": {
   "display_name": "Python 3",
   "language": "python",
   "name": "python3"
  },
  "language_info": {
   "codemirror_mode": {
    "name": "ipython",
    "version": 3
   },
   "file_extension": ".py",
   "mimetype": "text/x-python",
   "name": "python",
   "nbconvert_exporter": "python",
   "pygments_lexer": "ipython3",
   "version": "3.7.4"
  }
 },
 "nbformat": 4,
 "nbformat_minor": 2
}
