{
 "cells": [
  {
   "cell_type": "markdown",
   "metadata": {},
   "source": [
    "\n",
    "\n",
    "<div style=\"border:solid green 2px; padding: 20px\"> <h1 style=\"color:green; margin-bottom:20px\">Комментарий наставника</h1>\n",
    "\n",
    "Привет! Спасибо, что сдала задание:) Ты проделала большую работу. Далее в файле мои комментарии ты сможешь найти в ячейках, аналогичных данной ( если рамки комментария зелёные - всё сделано правильно; жёлтые - есть замечания, но не критично; красные - нужно переделать). Не удаляй эти комментарии и постарайся учесть их в ходе выполнения проекта. \n",
    "\n",
    "</div>"
   ]
  },
  {
   "cell_type": "markdown",
   "metadata": {},
   "source": [
    "# Исследование объявлений о продаже квартир\n",
    "\n",
    "В вашем распоряжении данные сервиса Яндекс.Недвижимость — архив объявлений о продаже квартир в Санкт-Петербурге и соседних населённых пунктов за несколько лет. Нужно научиться определять рыночную стоимость объектов недвижимости. Ваша задача — установить параметры. Это позволит построить автоматизированную систему: она отследит аномалии и мошенническую деятельность. \n",
    "\n",
    "По каждой квартире на продажу доступны два вида данных. Первые вписаны пользователем, вторые — получены автоматически на основе картографических данных. Например, расстояние до центра, аэропорта, ближайшего парка и водоёма. "
   ]
  },
  {
   "cell_type": "markdown",
   "metadata": {},
   "source": [
    "### Шаг 1. Откройте файл с данными и изучите общую информацию. "
   ]
  },
  {
   "cell_type": "code",
   "execution_count": 1,
   "metadata": {},
   "outputs": [],
   "source": [
    "import pandas as pd\n",
    "import numpy as np\n",
    "import matplotlib.pyplot as plt "
   ]
  },
  {
   "cell_type": "code",
   "execution_count": 2,
   "metadata": {},
   "outputs": [
    {
     "data": {
      "text/html": [
       "<div>\n",
       "<style scoped>\n",
       "    .dataframe tbody tr th:only-of-type {\n",
       "        vertical-align: middle;\n",
       "    }\n",
       "\n",
       "    .dataframe tbody tr th {\n",
       "        vertical-align: top;\n",
       "    }\n",
       "\n",
       "    .dataframe thead th {\n",
       "        text-align: right;\n",
       "    }\n",
       "</style>\n",
       "<table border=\"1\" class=\"dataframe\">\n",
       "  <thead>\n",
       "    <tr style=\"text-align: right;\">\n",
       "      <th></th>\n",
       "      <th>total_images</th>\n",
       "      <th>last_price</th>\n",
       "      <th>total_area</th>\n",
       "      <th>first_day_exposition</th>\n",
       "      <th>rooms</th>\n",
       "      <th>ceiling_height</th>\n",
       "      <th>floors_total</th>\n",
       "      <th>living_area</th>\n",
       "      <th>floor</th>\n",
       "      <th>is_apartment</th>\n",
       "      <th>...</th>\n",
       "      <th>kitchen_area</th>\n",
       "      <th>balcony</th>\n",
       "      <th>locality_name</th>\n",
       "      <th>airports_nearest</th>\n",
       "      <th>cityCenters_nearest</th>\n",
       "      <th>parks_around3000</th>\n",
       "      <th>parks_nearest</th>\n",
       "      <th>ponds_around3000</th>\n",
       "      <th>ponds_nearest</th>\n",
       "      <th>days_exposition</th>\n",
       "    </tr>\n",
       "  </thead>\n",
       "  <tbody>\n",
       "    <tr>\n",
       "      <td>0</td>\n",
       "      <td>20</td>\n",
       "      <td>13000000.0</td>\n",
       "      <td>108.0</td>\n",
       "      <td>2019-03-07T00:00:00</td>\n",
       "      <td>3</td>\n",
       "      <td>2.70</td>\n",
       "      <td>16.0</td>\n",
       "      <td>51.0</td>\n",
       "      <td>8</td>\n",
       "      <td>NaN</td>\n",
       "      <td>...</td>\n",
       "      <td>25.0</td>\n",
       "      <td>NaN</td>\n",
       "      <td>Санкт-Петербург</td>\n",
       "      <td>18863.0</td>\n",
       "      <td>16028.0</td>\n",
       "      <td>1.0</td>\n",
       "      <td>482.0</td>\n",
       "      <td>2.0</td>\n",
       "      <td>755.0</td>\n",
       "      <td>NaN</td>\n",
       "    </tr>\n",
       "    <tr>\n",
       "      <td>1</td>\n",
       "      <td>7</td>\n",
       "      <td>3350000.0</td>\n",
       "      <td>40.4</td>\n",
       "      <td>2018-12-04T00:00:00</td>\n",
       "      <td>1</td>\n",
       "      <td>NaN</td>\n",
       "      <td>11.0</td>\n",
       "      <td>18.6</td>\n",
       "      <td>1</td>\n",
       "      <td>NaN</td>\n",
       "      <td>...</td>\n",
       "      <td>11.0</td>\n",
       "      <td>2.0</td>\n",
       "      <td>посёлок Шушары</td>\n",
       "      <td>12817.0</td>\n",
       "      <td>18603.0</td>\n",
       "      <td>0.0</td>\n",
       "      <td>NaN</td>\n",
       "      <td>0.0</td>\n",
       "      <td>NaN</td>\n",
       "      <td>81.0</td>\n",
       "    </tr>\n",
       "    <tr>\n",
       "      <td>2</td>\n",
       "      <td>10</td>\n",
       "      <td>5196000.0</td>\n",
       "      <td>56.0</td>\n",
       "      <td>2015-08-20T00:00:00</td>\n",
       "      <td>2</td>\n",
       "      <td>NaN</td>\n",
       "      <td>5.0</td>\n",
       "      <td>34.3</td>\n",
       "      <td>4</td>\n",
       "      <td>NaN</td>\n",
       "      <td>...</td>\n",
       "      <td>8.3</td>\n",
       "      <td>0.0</td>\n",
       "      <td>Санкт-Петербург</td>\n",
       "      <td>21741.0</td>\n",
       "      <td>13933.0</td>\n",
       "      <td>1.0</td>\n",
       "      <td>90.0</td>\n",
       "      <td>2.0</td>\n",
       "      <td>574.0</td>\n",
       "      <td>558.0</td>\n",
       "    </tr>\n",
       "    <tr>\n",
       "      <td>3</td>\n",
       "      <td>0</td>\n",
       "      <td>64900000.0</td>\n",
       "      <td>159.0</td>\n",
       "      <td>2015-07-24T00:00:00</td>\n",
       "      <td>3</td>\n",
       "      <td>NaN</td>\n",
       "      <td>14.0</td>\n",
       "      <td>NaN</td>\n",
       "      <td>9</td>\n",
       "      <td>NaN</td>\n",
       "      <td>...</td>\n",
       "      <td>NaN</td>\n",
       "      <td>0.0</td>\n",
       "      <td>Санкт-Петербург</td>\n",
       "      <td>28098.0</td>\n",
       "      <td>6800.0</td>\n",
       "      <td>2.0</td>\n",
       "      <td>84.0</td>\n",
       "      <td>3.0</td>\n",
       "      <td>234.0</td>\n",
       "      <td>424.0</td>\n",
       "    </tr>\n",
       "    <tr>\n",
       "      <td>4</td>\n",
       "      <td>2</td>\n",
       "      <td>10000000.0</td>\n",
       "      <td>100.0</td>\n",
       "      <td>2018-06-19T00:00:00</td>\n",
       "      <td>2</td>\n",
       "      <td>3.03</td>\n",
       "      <td>14.0</td>\n",
       "      <td>32.0</td>\n",
       "      <td>13</td>\n",
       "      <td>NaN</td>\n",
       "      <td>...</td>\n",
       "      <td>41.0</td>\n",
       "      <td>NaN</td>\n",
       "      <td>Санкт-Петербург</td>\n",
       "      <td>31856.0</td>\n",
       "      <td>8098.0</td>\n",
       "      <td>2.0</td>\n",
       "      <td>112.0</td>\n",
       "      <td>1.0</td>\n",
       "      <td>48.0</td>\n",
       "      <td>121.0</td>\n",
       "    </tr>\n",
       "  </tbody>\n",
       "</table>\n",
       "<p>5 rows × 22 columns</p>\n",
       "</div>"
      ],
      "text/plain": [
       "   total_images  last_price  total_area first_day_exposition  rooms  \\\n",
       "0            20  13000000.0       108.0  2019-03-07T00:00:00      3   \n",
       "1             7   3350000.0        40.4  2018-12-04T00:00:00      1   \n",
       "2            10   5196000.0        56.0  2015-08-20T00:00:00      2   \n",
       "3             0  64900000.0       159.0  2015-07-24T00:00:00      3   \n",
       "4             2  10000000.0       100.0  2018-06-19T00:00:00      2   \n",
       "\n",
       "   ceiling_height  floors_total  living_area  floor is_apartment  ...  \\\n",
       "0            2.70          16.0         51.0      8          NaN  ...   \n",
       "1             NaN          11.0         18.6      1          NaN  ...   \n",
       "2             NaN           5.0         34.3      4          NaN  ...   \n",
       "3             NaN          14.0          NaN      9          NaN  ...   \n",
       "4            3.03          14.0         32.0     13          NaN  ...   \n",
       "\n",
       "   kitchen_area  balcony    locality_name  airports_nearest  \\\n",
       "0          25.0      NaN  Санкт-Петербург           18863.0   \n",
       "1          11.0      2.0   посёлок Шушары           12817.0   \n",
       "2           8.3      0.0  Санкт-Петербург           21741.0   \n",
       "3           NaN      0.0  Санкт-Петербург           28098.0   \n",
       "4          41.0      NaN  Санкт-Петербург           31856.0   \n",
       "\n",
       "  cityCenters_nearest  parks_around3000  parks_nearest  ponds_around3000  \\\n",
       "0             16028.0               1.0          482.0               2.0   \n",
       "1             18603.0               0.0            NaN               0.0   \n",
       "2             13933.0               1.0           90.0               2.0   \n",
       "3              6800.0               2.0           84.0               3.0   \n",
       "4              8098.0               2.0          112.0               1.0   \n",
       "\n",
       "   ponds_nearest  days_exposition  \n",
       "0          755.0              NaN  \n",
       "1            NaN             81.0  \n",
       "2          574.0            558.0  \n",
       "3          234.0            424.0  \n",
       "4           48.0            121.0  \n",
       "\n",
       "[5 rows x 22 columns]"
      ]
     },
     "metadata": {},
     "output_type": "display_data"
    },
    {
     "name": "stdout",
     "output_type": "stream",
     "text": [
      "<class 'pandas.core.frame.DataFrame'>\n",
      "RangeIndex: 23699 entries, 0 to 23698\n",
      "Data columns (total 22 columns):\n",
      "total_images            23699 non-null int64\n",
      "last_price              23699 non-null float64\n",
      "total_area              23699 non-null float64\n",
      "first_day_exposition    23699 non-null object\n",
      "rooms                   23699 non-null int64\n",
      "ceiling_height          14504 non-null float64\n",
      "floors_total            23613 non-null float64\n",
      "living_area             21796 non-null float64\n",
      "floor                   23699 non-null int64\n",
      "is_apartment            2775 non-null object\n",
      "studio                  23699 non-null bool\n",
      "open_plan               23699 non-null bool\n",
      "kitchen_area            21421 non-null float64\n",
      "balcony                 12180 non-null float64\n",
      "locality_name           23650 non-null object\n",
      "airports_nearest        18157 non-null float64\n",
      "cityCenters_nearest     18180 non-null float64\n",
      "parks_around3000        18181 non-null float64\n",
      "parks_nearest           8079 non-null float64\n",
      "ponds_around3000        18181 non-null float64\n",
      "ponds_nearest           9110 non-null float64\n",
      "days_exposition         20518 non-null float64\n",
      "dtypes: bool(2), float64(14), int64(3), object(3)\n",
      "memory usage: 3.7+ MB\n"
     ]
    }
   ],
   "source": []
  },
  {
   "cell_type": "markdown",
   "metadata": {},
   "source": [
    "### Вывод"
   ]
  },
  {
   "cell_type": "markdown",
   "metadata": {},
   "source": [
    "У нас есть большая таблица с данными по недвижимости - 23699 строк. Не по всем столбцам данные полные. Есть много столбцов с типом данных  float64 - которые по возможности будем переводить в int64. Так же есть 2 столбца с типом данных bool. Так же в этот тип надо перевести столбец is_apartment. Мы видим, что в основном общие данные по квартире заполнены - это общая и жилая площадь, площадь кухни и этаж.Так же мы у всех знаем цену и дату размещения. Но данные которые дают нам информацию об местоположению квартиры и ее окружения есть не везде."
   ]
  },
  {
   "cell_type": "markdown",
   "metadata": {},
   "source": [
    "<div style=\"border:solid green 2px; padding: 20px\"> <h1 style=\"color:green; margin-bottom:20px\">Комментарий наставника</h1>\n",
    "\n",
    "Отличное начало, радует, что основательно подходишь к анализу с самого начала работы"
   ]
  },
  {
   "cell_type": "markdown",
   "metadata": {},
   "source": [
    "### Шаг 2. Предобработка данных"
   ]
  },
  {
   "cell_type": "code",
   "execution_count": 3,
   "metadata": {
    "scrolled": true
   },
   "outputs": [
    {
     "name": "stdout",
     "output_type": "stream",
     "text": [
      "<class 'pandas.core.frame.DataFrame'>\n",
      "RangeIndex: 23699 entries, 0 to 23698\n",
      "Data columns (total 14 columns):\n",
      "id                23699 non-null int64\n",
      "total_area        23699 non-null float64\n",
      "living_area       23699 non-null float64\n",
      "kitchen_area      23699 non-null float64\n",
      "rooms             23699 non-null int64\n",
      "last_price        23699 non-null float64\n",
      "ceiling_height    23699 non-null float64\n",
      "balcony           23699 non-null float64\n",
      "is_apartment      23699 non-null bool\n",
      "studio            23699 non-null bool\n",
      "open_plan         23699 non-null bool\n",
      "total_area_in     23699 non-null float64\n",
      "rooms_in          23699 non-null int64\n",
      "living_area_in    23699 non-null float64\n",
      "dtypes: bool(3), float64(8), int64(3)\n",
      "memory usage: 2.1 MB\n",
      "None\n"
     ]
    }
   ],
   "source": [
    "# как восхитительные програмеры - запишем сюда пару функций используемых ниже:\n",
    "# создадим функцию которая будет подтягивать данные по размеру кухни из таких же квартир\n",
    "\n",
    "def kitchen(row):\n",
    "    ''' Эта классная функция находит срез таких же квартир и выдает площадь кухни'''\n",
    "    total_area_in = row['total_area_in']\n",
    "    rooms = row['rooms']\n",
    "    kitchen_area = row['kitchen_area']\n",
    "    vibor = kv.loc[(kv['total_area_in'] == total_area_in) & (kv['rooms'] == rooms) & (kv['kitchen_area'] != 0)]\n",
    "    kitchen = vibor['kitchen_area'].mean()\n",
    "    return kitchen\n",
    "\n",
    "\n",
    "\n",
    "# и еще одну функцию, которая подтянет жилую площадь.\n",
    "def living(row):\n",
    "    ''' Эта классная функция находит срез таких же квартир и выдает жилую площадь'''\n",
    "    total_area_in = row['total_area_in']\n",
    "    rooms = row['rooms']\n",
    "    living_area = row['living_area']\n",
    "    vibor = kv.loc[(kv['total_area_in'] == total_area_in) & (kv['rooms'] == rooms) & (kv['living_area'] != 0)]\n",
    "    living = vibor['living_area'].mean()\n",
    "    return living\n",
    "\n",
    "\n",
    "# и еще одну функцию, которая сравнивает этажность дома и квартиры и возвращает 1 если первый этаж,\n",
    "# 3 если последний и 2 если другой\n",
    "def etag(row):\n",
    "    floor = row['floor']\n",
    "    floors_total = row['floors_total']\n",
    "    if floor == 1:\n",
    "        return 1\n",
    "    elif floor == floors_total:\n",
    "        return 3\n",
    "    else:\n",
    "        return 2\n",
    "\n",
    "    \n",
    "# разделим таблицу на 3 таблицы для удобства работы  - kv ( тут будут данные по квартире), dom( данные по дому и окружению),\n",
    "# ads - данные по объявлению\n",
    "# создадим столбец индекса чтобы потом по нему объединять 3 таблицы\n",
    "data['id'] = data.index.values\n",
    "\n",
    "\n",
    "# КВАРТИРА - сделаем отдельную таблицу по данным квартиры - комнаты, площадь - \n",
    "# общая жилая и кухни, балкон и высота потолков, цена\n",
    "kv = data.loc[:,['id', 'total_area', 'living_area', 'kitchen_area', 'rooms', 'last_price', 'ceiling_height', 'balcony',\n",
    "                'is_apartment', 'studio', 'open_plan']]\n",
    "\n",
    "# аппартаменты Nan заполняем False и меняем на булевый тип\n",
    "kv['is_apartment'] = kv['is_apartment'].fillna(False)\n",
    "\n",
    "# total_area - округляем площадь квартиры для удобства работы и убираем все квартиры больше 300\n",
    "kv['total_area_in'] = kv['total_area'].round(-1)\n",
    "\n",
    "\n",
    "# Санкт-Петербург славится своими коммунальными квартирами. И в нашей выборке их достаточно много\n",
    "# но для анализа типовых параметров они будут только мешать, поэтому создадим столбец где разделим квартиры на \n",
    "# 0, 1,2,3, 4 и многокомнатные - это 5\n",
    "kv['rooms_in'] = kv['rooms'].where(kv['rooms'] <= 4, 5)\n",
    "\n",
    "# kitchen_area - разбираемся с площадью кухни\n",
    "kv['kitchen_area'] = kv['kitchen_area'].fillna(0)\n",
    "# уберем из выборки все кухни больше 40 метров и округлим до целого\n",
    "kv['kitchen_area'] = kv[kv['kitchen_area'] < 40]['kitchen_area'].round(0)\n",
    "# У нас до сих пор остается 2434 Nan значений - это либо пропущенные значения которые мы будем заполнять с помощью \n",
    "# анализа аналогичных квартир, либо квартиры без кухонь, например коммуналки. \n",
    "# воспользуемся функцией\n",
    "kv.loc[kv['kitchen_area'] == 0, 'kitchen_area'] = kv.apply(kitchen, axis=1)\n",
    "kv['kitchen_area'] = kv['kitchen_area'].fillna(0)\n",
    "\n",
    "# living_area разбираемся с жилой площадью, округляем\n",
    "kv['living_area'] = kv['living_area'].round(0)\n",
    "kv['living_area'] = kv['living_area'].fillna(0)\n",
    "# воспользуемся функцией\n",
    "kv.loc[kv['living_area'] == 0, 'living_area'] = kv.apply(living, axis=1)\n",
    "#создаем столбец с округлением до 10 метров\n",
    "kv['living_area'] = kv['living_area'].fillna(0)\n",
    "kv['living_area_in'] = kv['living_area'].round(-1)\n",
    "\n",
    "\n",
    "# balcony балконы - Nan заполняем нулями.\n",
    "kv['balcony'] = kv['balcony'].fillna(0)\n",
    "\n",
    "# ceiling_height высота потолков - убираем до 2- х метров и после 4 метра , ноли заполняем медианой, округляем до десятых\n",
    "kv['ceiling_height'] = kv['ceiling_height'].round(1)\n",
    "kv['ceiling_height'] = kv['ceiling_height'].fillna(kv['ceiling_height'].median())\n",
    "kv.loc[kv['ceiling_height'] >= 4, 'ceiling_height']  = 4\n",
    "kv.loc[kv['ceiling_height'] <= 2, 'ceiling_height']  = 2\n",
    "\n",
    "print(kv.info())\n",
    "#заменим типы данных там, где это нужно\n",
    "kv[['total_area', 'last_price', 'kitchen_area', 'balcony', 'living_area', \n",
    "    'total_area_in', 'living_area_in', 'rooms_in']] = kv[['total_area', 'last_price', \n",
    "    'kitchen_area', 'balcony', 'living_area', 'total_area_in', 'living_area_in', 'rooms_in']].astype(int)\n",
    "\n"
   ]
  },
  {
   "cell_type": "markdown",
   "metadata": {},
   "source": [
    "<div style=\"border:solid  orange  2px; padding: 20px\"> <h1 style=\"color: orange ; margin-bottom:20px\">Комментарий наставника</h1>\n",
    "\n",
    "Всё верно, но лучше делить код на маленькие законченные куски, а все пояснения писать не комментариями, а в специальных markdown ячейках"
   ]
  },
  {
   "cell_type": "code",
   "execution_count": 4,
   "metadata": {},
   "outputs": [
    {
     "data": {
      "text/plain": [
       "array([[<matplotlib.axes._subplots.AxesSubplot object at 0x7f91b3131e90>]],\n",
       "      dtype=object)"
      ]
     },
     "execution_count": 4,
     "metadata": {},
     "output_type": "execute_result"
    },
    {
     "data": {
      "image/png": "[encoded data removed]",
      "text/plain": [
       "<Figure size 432x288 with 1 Axes>"
      ]
     },
     "metadata": {
      "needs_background": "light"
     },
     "output_type": "display_data"
    },
    {
     "data": {
      "image/png": "[encoded data removed]",
      "text/plain": [
       "<Figure size 432x288 with 1 Axes>"
      ]
     },
     "metadata": {
      "needs_background": "light"
     },
     "output_type": "display_data"
    },
    {
     "data": {
      "image/png": "[encoded data removed]",
      "text/plain": [
       "<Figure size 432x288 with 1 Axes>"
      ]
     },
     "metadata": {
      "needs_background": "light"
     },
     "output_type": "display_data"
    },
    {
     "data": {
      "image/png": "[encoded data removed]",
      "text/plain": [
       "<Figure size 432x288 with 1 Axes>"
      ]
     },
     "metadata": {
      "needs_background": "light"
     },
     "output_type": "display_data"
    },
    {
     "data": {
      "image/png": "[encoded data removed]",
      "text/plain": [
       "<Figure size 432x288 with 1 Axes>"
      ]
     },
     "metadata": {
      "needs_background": "light"
     },
     "output_type": "display_data"
    }
   ],
   "source": [
    "<div style=\"border:solid  orange  2px; padding: 20px\"> <h1 style=\"color: orange ; margin-bottom:20px\">Комментарий наставника</h1>\n",
    "\n",
    "Всё верно, но лучше делить код на маленькие законченные куски, а все пояснения писать не комментариями, а в специальных markdown ячейках# Посмотрим на наши данные на графиках\n",
    "kv.hist(column = 'living_area', bins=40, range = (5, 100))\n",
    "kv.hist(column = 'kitchen_area', bins=40, range = (0, 60))\n",
    "kv.hist(column = 'total_area_in', bins=30, range = (0, 300))\n",
    "kv.hist(column = 'ceiling_height', bins=4, range = (2, 5))\n",
    "kv.hist(column = 'rooms_in', bins=11, range = (0, 5))"
   ]
  },
  {
   "cell_type": "raw",
   "metadata": {},
   "source": [
    "Сейчас мы создали 3 функции для заполнения пропусков в дальнейшем. Так же заполнили все пропуски в данных по квартире - особенно в жилой и площади кухни - на основании таких же квартир из выборки. А так же округлили все нужные значения и создали пару столбцов которые пригодятся нам в дальнейшем для обработки. Дальше будем работать с двумя другими таблицами - в которых будут данные по дому и окружению, а так же по самому объявлению."
   ]
  },
  {
   "cell_type": "code",
   "execution_count": 5,
   "metadata": {
    "scrolled": true
   },
   "outputs": [],
   "source": [
    "# создадим таблицу с данными по дому и окружению - dom\n",
    "dom = data.loc[:, ['id', 'floor', 'floors_total', 'locality_name', 'airports_nearest', 'cityCenters_nearest',\n",
    "       'parks_around3000', 'parks_nearest', 'ponds_around3000', 'ponds_nearest',]]\n",
    "\n",
    "# floors_total - неизвестные этажи - удаляем\n",
    "dom.dropna(subset = ['floors_total'], inplace = True)\n",
    "          \n",
    "#not_nan, заменяем все возможные численные значения на int , игнорим - названия населенных пунктов в таблице(dom)\n",
    "dom = dom.fillna(0).astype(int, errors = 'ignore')\n",
    "dom['locality_name']= dom['locality_name'].fillna('-')\n",
    "\n",
    "# работаем с названиями - пару локаций было задвоено\n",
    "dom['locality_name'] = dom['locality_name'].replace('Мурино', 'посёлок Мурино')\n",
    "dom['locality_name'] = dom['locality_name'].replace('Кудрово', 'деревня Кудрово')\n",
    "\n",
    "# мой метод округления расстояния до центра до 500 метров. # дальше, где мы будем искать зависимость цены от расстояния,\n",
    "#при округлении до 0.5 км график будет точнее чем при округлении до 1 км\n",
    "dom['cityCenters_nearest_in'] = dom['cityCenters_nearest'].apply(lambda x: ((x+500) // 500) * 500)\n",
    "\n",
    "\n",
    "# третья таблица - таблица данных ads\n",
    "ads = data.loc[:, ['id', 'first_day_exposition', 'days_exposition', 'total_images']]\n",
    "\n",
    "#days_exposition - заменим пропущенные значения заведомо невозможным значением, отсутствие данных объясняет то , что\n",
    "#объявление еще размещается и не закрыто.\n",
    "ads['days_exposition'] = ads['days_exposition'].fillna(-1)\n",
    "\n",
    "# округлим дни продаж до месяцев\n",
    "ads['month_sell'] = ads['days_exposition'] // 30"
   ]
  },
  {
   "cell_type": "raw",
   "metadata": {},
   "source": [
    "Переходим к добавлению необходимых столбцов."
   ]
  },
  {
   "cell_type": "markdown",
   "metadata": {},
   "source": [
    "<div style=\"border:solid  green  2px; padding: 20px\"> <h1 style=\"color: green ; margin-bottom:20px\">Комментарий наставника</h1>\n",
    "\n",
    "Вся требуемая предобработка выполнена, всё логично и точно, продолжай в том же духе!)\n"
   ]
  },
  {
   "cell_type": "markdown",
   "metadata": {},
   "source": [
    "# Шаг 3. Посчитайте и добавьте в таблицу"
   ]
  },
  {
   "cell_type": "code",
   "execution_count": 6,
   "metadata": {},
   "outputs": [
    {
     "data": {
      "text/html": [
       "<div>\n",
       "<style scoped>\n",
       "    .dataframe tbody tr th:only-of-type {\n",
       "        vertical-align: middle;\n",
       "    }\n",
       "\n",
       "    .dataframe tbody tr th {\n",
       "        vertical-align: top;\n",
       "    }\n",
       "\n",
       "    .dataframe thead th {\n",
       "        text-align: right;\n",
       "    }\n",
       "</style>\n",
       "<table border=\"1\" class=\"dataframe\">\n",
       "  <thead>\n",
       "    <tr style=\"text-align: right;\">\n",
       "      <th></th>\n",
       "      <th>cena_metr</th>\n",
       "      <th>kitchen_area</th>\n",
       "      <th>kitchen_total</th>\n",
       "      <th>last_price</th>\n",
       "      <th>living_area</th>\n",
       "      <th>living_total</th>\n",
       "      <th>total_area_in</th>\n",
       "    </tr>\n",
       "    <tr>\n",
       "      <th>rooms</th>\n",
       "      <th></th>\n",
       "      <th></th>\n",
       "      <th></th>\n",
       "      <th></th>\n",
       "      <th></th>\n",
       "      <th></th>\n",
       "      <th></th>\n",
       "    </tr>\n",
       "  </thead>\n",
       "  <tbody>\n",
       "    <tr>\n",
       "      <td>0</td>\n",
       "      <td>111022.96</td>\n",
       "      <td>0.00</td>\n",
       "      <td>0.00</td>\n",
       "      <td>3325166.58</td>\n",
       "      <td>18.68</td>\n",
       "      <td>0.69</td>\n",
       "      <td>29.08</td>\n",
       "    </tr>\n",
       "    <tr>\n",
       "      <td>1</td>\n",
       "      <td>100712.26</td>\n",
       "      <td>9.41</td>\n",
       "      <td>0.25</td>\n",
       "      <td>3782120.00</td>\n",
       "      <td>17.84</td>\n",
       "      <td>0.49</td>\n",
       "      <td>37.54</td>\n",
       "    </tr>\n",
       "    <tr>\n",
       "      <td>2</td>\n",
       "      <td>94311.05</td>\n",
       "      <td>9.66</td>\n",
       "      <td>0.17</td>\n",
       "      <td>5371106.21</td>\n",
       "      <td>31.61</td>\n",
       "      <td>0.58</td>\n",
       "      <td>55.26</td>\n",
       "    </tr>\n",
       "    <tr>\n",
       "      <td>3</td>\n",
       "      <td>92060.24</td>\n",
       "      <td>10.64</td>\n",
       "      <td>0.14</td>\n",
       "      <td>7414405.38</td>\n",
       "      <td>47.06</td>\n",
       "      <td>0.63</td>\n",
       "      <td>76.93</td>\n",
       "    </tr>\n",
       "    <tr>\n",
       "      <td>4</td>\n",
       "      <td>98741.59</td>\n",
       "      <td>12.14</td>\n",
       "      <td>0.12</td>\n",
       "      <td>10858609.47</td>\n",
       "      <td>64.81</td>\n",
       "      <td>0.65</td>\n",
       "      <td>103.85</td>\n",
       "    </tr>\n",
       "    <tr>\n",
       "      <td>5</td>\n",
       "      <td>103523.92</td>\n",
       "      <td>14.83</td>\n",
       "      <td>0.10</td>\n",
       "      <td>17163849.44</td>\n",
       "      <td>96.48</td>\n",
       "      <td>0.64</td>\n",
       "      <td>155.08</td>\n",
       "    </tr>\n",
       "    <tr>\n",
       "      <td>6</td>\n",
       "      <td>109727.84</td>\n",
       "      <td>17.70</td>\n",
       "      <td>0.10</td>\n",
       "      <td>21836957.98</td>\n",
       "      <td>128.40</td>\n",
       "      <td>0.68</td>\n",
       "      <td>194.33</td>\n",
       "    </tr>\n",
       "    <tr>\n",
       "      <td>7</td>\n",
       "      <td>120461.82</td>\n",
       "      <td>17.00</td>\n",
       "      <td>0.08</td>\n",
       "      <td>32031528.65</td>\n",
       "      <td>163.44</td>\n",
       "      <td>0.65</td>\n",
       "      <td>253.45</td>\n",
       "    </tr>\n",
       "    <tr>\n",
       "      <td>8</td>\n",
       "      <td>104270.00</td>\n",
       "      <td>16.30</td>\n",
       "      <td>0.07</td>\n",
       "      <td>27269000.00</td>\n",
       "      <td>154.50</td>\n",
       "      <td>0.63</td>\n",
       "      <td>254.00</td>\n",
       "    </tr>\n",
       "    <tr>\n",
       "      <td>9</td>\n",
       "      <td>104925.00</td>\n",
       "      <td>10.50</td>\n",
       "      <td>0.04</td>\n",
       "      <td>34152362.50</td>\n",
       "      <td>166.50</td>\n",
       "      <td>0.54</td>\n",
       "      <td>306.25</td>\n",
       "    </tr>\n",
       "    <tr>\n",
       "      <td>10</td>\n",
       "      <td>97866.67</td>\n",
       "      <td>23.00</td>\n",
       "      <td>0.09</td>\n",
       "      <td>26166666.67</td>\n",
       "      <td>165.33</td>\n",
       "      <td>0.64</td>\n",
       "      <td>260.00</td>\n",
       "    </tr>\n",
       "    <tr>\n",
       "      <td>11</td>\n",
       "      <td>135450.00</td>\n",
       "      <td>12.50</td>\n",
       "      <td>0.07</td>\n",
       "      <td>25250000.00</td>\n",
       "      <td>134.00</td>\n",
       "      <td>0.71</td>\n",
       "      <td>185.00</td>\n",
       "    </tr>\n",
       "    <tr>\n",
       "      <td>14</td>\n",
       "      <td>92000.00</td>\n",
       "      <td>21.50</td>\n",
       "      <td>0.08</td>\n",
       "      <td>26829500.00</td>\n",
       "      <td>195.00</td>\n",
       "      <td>0.65</td>\n",
       "      <td>305.00</td>\n",
       "    </tr>\n",
       "    <tr>\n",
       "      <td>15</td>\n",
       "      <td>110200.00</td>\n",
       "      <td>0.00</td>\n",
       "      <td>0.00</td>\n",
       "      <td>65000000.00</td>\n",
       "      <td>409.00</td>\n",
       "      <td>0.69</td>\n",
       "      <td>590.00</td>\n",
       "    </tr>\n",
       "    <tr>\n",
       "      <td>16</td>\n",
       "      <td>105600.00</td>\n",
       "      <td>13.00</td>\n",
       "      <td>0.05</td>\n",
       "      <td>28500000.00</td>\n",
       "      <td>180.00</td>\n",
       "      <td>0.67</td>\n",
       "      <td>270.00</td>\n",
       "    </tr>\n",
       "    <tr>\n",
       "      <td>19</td>\n",
       "      <td>87200.00</td>\n",
       "      <td>28.00</td>\n",
       "      <td>0.07</td>\n",
       "      <td>32250000.00</td>\n",
       "      <td>264.00</td>\n",
       "      <td>0.71</td>\n",
       "      <td>370.00</td>\n",
       "    </tr>\n",
       "  </tbody>\n",
       "</table>\n",
       "</div>"
      ],
      "text/plain": [
       "       cena_metr  kitchen_area  kitchen_total   last_price  living_area  \\\n",
       "rooms                                                                     \n",
       "0      111022.96          0.00           0.00   3325166.58        18.68   \n",
       "1      100712.26          9.41           0.25   3782120.00        17.84   \n",
       "2       94311.05          9.66           0.17   5371106.21        31.61   \n",
       "3       92060.24         10.64           0.14   7414405.38        47.06   \n",
       "4       98741.59         12.14           0.12  10858609.47        64.81   \n",
       "5      103523.92         14.83           0.10  17163849.44        96.48   \n",
       "6      109727.84         17.70           0.10  21836957.98       128.40   \n",
       "7      120461.82         17.00           0.08  32031528.65       163.44   \n",
       "8      104270.00         16.30           0.07  27269000.00       154.50   \n",
       "9      104925.00         10.50           0.04  34152362.50       166.50   \n",
       "10      97866.67         23.00           0.09  26166666.67       165.33   \n",
       "11     135450.00         12.50           0.07  25250000.00       134.00   \n",
       "14      92000.00         21.50           0.08  26829500.00       195.00   \n",
       "15     110200.00          0.00           0.00  65000000.00       409.00   \n",
       "16     105600.00         13.00           0.05  28500000.00       180.00   \n",
       "19      87200.00         28.00           0.07  32250000.00       264.00   \n",
       "\n",
       "       living_total  total_area_in  \n",
       "rooms                               \n",
       "0              0.69          29.08  \n",
       "1              0.49          37.54  \n",
       "2              0.58          55.26  \n",
       "3              0.63          76.93  \n",
       "4              0.65         103.85  \n",
       "5              0.64         155.08  \n",
       "6              0.68         194.33  \n",
       "7              0.65         253.45  \n",
       "8              0.63         254.00  \n",
       "9              0.54         306.25  \n",
       "10             0.64         260.00  \n",
       "11             0.71         185.00  \n",
       "14             0.65         305.00  \n",
       "15             0.69         590.00  \n",
       "16             0.67         270.00  \n",
       "19             0.71         370.00  "
      ]
     },
     "metadata": {},
     "output_type": "display_data"
    }
   ],
   "source": [
    "#заменим типы данных там где это нужно\n",
    "kv[['total_area', 'last_price', 'kitchen_area', 'balcony', 'living_area', \n",
    "    'total_area_in', 'living_area_in']] = kv[['total_area', 'last_price', \n",
    "    'kitchen_area', 'balcony', 'living_area', 'total_area_in', 'living_area_in']].astype(int)\n",
    "\n",
    "# создадим новый столбец - цена за метр и округлим его до сотых\n",
    "kv['cena_metr'] = (kv['last_price'] / kv['total_area_in']).round(-2)\n",
    "kv['cena_metr_in'] = kv['cena_metr'].round(-2)\n",
    "#print(kv['cena_metr_in'].value_counts().sort_value())\n",
    "#.plot(bins=18, range = (0, 300000))\n",
    "\n",
    "# соотношение жилой площади к общей\n",
    "kv['living_total'] = kv['living_area'] / kv['total_area']\n",
    "\n",
    "# соотношение кухни к общей площади\n",
    "kv['kitchen_total'] = kv['kitchen_area'] / kv['total_area']\n",
    "\n",
    "# Сводная таблица по Квартира\n",
    "kvartira  = kv.query('cena_metr < 250000').pivot_table(index = 'rooms', \n",
    "                                                       values = ['total_area_in', 'living_area', 'kitchen_area', 'last_price', \n",
    "                                                      'cena_metr', 'living_total', 'kitchen_total',\n",
    "                                                     ])\n",
    "display(np.round(kvartira, 2))\n",
    "kvartira1 = kv.pivot_table(index = 'rooms', \n",
    "                                                       values = ['total_area_in', 'living_area', 'kitchen_area', 'last_price', \n",
    "                                                      'cena_metr_in', 'living_total', 'kitchen_total',\n",
    "                                                     ])\n",
    "#display(np.round(kvartira1, 2))\n",
    "\n",
    "#Добавляем в таблицу строки с месяцем годом и днем выставления объявления.\n",
    "ads['first_day_exposition'] = pd.to_datetime(ads['first_day_exposition'], format='%Y-%m-%dT%H:%M:%S')\n",
    "ads['month'] = pd.DatetimeIndex(ads['first_day_exposition']).month\n",
    "ads['year'] = pd.DatetimeIndex(ads['first_day_exposition']).year\n",
    "ads['day'] = pd.DatetimeIndex(ads['first_day_exposition']).dayofweek\n",
    "\n",
    "# создадим столбец чтобы показать в какой день квартиры чаще всего уходят с продажи\n",
    "ads['day_sell'] = ads.apply(lambda row: (row['days_exposition'] % 7 + row['day']) % 7, axis=1).astype(int)\n",
    "\n",
    "# разберемся с этажами, добавим столбец с вариантами - 1 , 2 или 3\n",
    "dom['floors_var'] = dom.apply(etag, axis=1)\n",
    "\n",
    "\n",
    "\n",
    "\n",
    "# пора объеденить 3 таблицы - в табилцу ex\n",
    "ex = dom.join(kv.set_index('id'),  on='id')\n",
    "ex = ex.join(ads.set_index('id'))\n",
    "\n",
    "# создадим срезы таблицы по питеру и по области\n",
    "ex_bez_Pitera = ex.query('locality_name != \"Санкт-Петербург\"')\n",
    "ex_Piter = ex.query('locality_name == \"Санкт-Петербург\" and cityCenters_nearest_in > 1')"
   ]
  },
  {
   "cell_type": "raw",
   "metadata": {},
   "source": [
    "Интересные выводы : в продаже присутствуют квартиры более 7 комнат, бывшие коммунальные квартиры.\n",
    "Средняя цена однокомнатной квартиры  – 3,8 млн руб., двухкомнатной – 5,4 млн руб., трехкомнатной – 7,4 млн руб.\n",
    "Но говорить об усредненных значениях в данном случае не вполне корректно:\n",
    "характерная особенность сегмента жилья – впечатляющий разброс цен.\n",
    "В дальнейшем мы продолжим работать с данными квартир не более 4 комнат. "
   ]
  },
  {
   "cell_type": "markdown",
   "metadata": {},
   "source": [
    "<div style=\"border:solid  green  2px; padding: 20px\"> <h1 style=\"color: green ; margin-bottom:20px\">Комментарий наставника</h1>\n",
    "\n",
    "Всё посчитано верно и добавлено в таблицу, продолжай в том же духе)"
   ]
  },
  {
   "cell_type": "markdown",
   "metadata": {},
   "source": [
    "### Шаг 4. Проведите исследовательский анализ данных и выполните инструкции:"
   ]
  },
  {
   "cell_type": "code",
   "execution_count": 7,
   "metadata": {},
   "outputs": [
    {
     "name": "stdout",
     "output_type": "stream",
     "text": [
      "В среднем процесс продажи квартиры длится  по медиане- 2 месяца\n",
      "В среднем процесс продажи квартиры длится  по среднему - 4 месяца\n"
     ]
    },
    {
     "data": {
      "text/plain": [
       "array([[<matplotlib.axes._subplots.AxesSubplot object at 0x7f91b20110d0>]],\n",
       "      dtype=object)"
      ]
     },
     "execution_count": 7,
     "metadata": {},
     "output_type": "execute_result"
    },
    {
     "data": {
      "image/png": "[encoded data removed]",
      "text/plain": [
       "<Figure size 432x288 with 1 Axes>"
      ]
     },
     "metadata": {
      "needs_background": "light"
     },
     "output_type": "display_data"
    },
    {
     "data": {
      "image/png": "[encoded data removed]",
      "text/plain": [
       "<Figure size 432x288 with 1 Axes>"
      ]
     },
     "metadata": {
      "needs_background": "light"
     },
     "output_type": "display_data"
    },
    {
     "data": {
      "image/png": "[encoded data removed]",
      "text/plain": [
       "<Figure size 432x288 with 1 Axes>"
      ]
     },
     "metadata": {
      "needs_background": "light"
     },
     "output_type": "display_data"
    }
   ],
   "source": [
    "print('В среднем процесс продажи квартиры длится  по медиане-', ex['month_sell'].median().astype(int), 'месяца')\n",
    "print('В среднем процесс продажи квартиры длится  по среднему -', ex['month_sell'].mean().astype(int), 'месяца')\n",
    "\n",
    "ex.hist(column = 'cena_metr_in', bins=18, range = (25000, 200000))\n",
    "ex.hist(column = 'days_exposition', bins=150, range = (0, 250))\n",
    "ex.hist(column = 'month_sell', bins=25, range = (0, 24))\n",
    "#kv.hist(column = 'kitchen_area', bins=18, range = (8, 40))"
   ]
  },
  {
   "cell_type": "markdown",
   "metadata": {},
   "source": [
    "<div style=\"border:solid orange 2px; padding: 20px\"> <h1 style=\"color:orange; margin-bottom:20px\">Комментарий наставника</h1>\n",
    "\n",
    "Не забывай подписывать оси на графиках и сам график, иначе не залазя в код абсолютно не понятно, что изображено"
   ]
  },
  {
   "cell_type": "raw",
   "metadata": {},
   "source": [
    "Отметим что много значений по данным сколько дней была публикации - кратное месяцу - 1,5 месяца, 2 , 3 месяца, неделя - они выглядят как выбросы.\n",
    "Возможно люди размещали объявления на определенный срок и не продлевали его."
   ]
  },
  {
   "cell_type": "code",
   "execution_count": 8,
   "metadata": {},
   "outputs": [
    {
     "data": {
      "text/plain": [
       "<matplotlib.axes._subplots.AxesSubplot at 0x7f91b2435690>"
      ]
     },
     "execution_count": 8,
     "metadata": {},
     "output_type": "execute_result"
    },
    {
     "data": {
      "image/png": "[encoded data removed]",
      "text/plain": [
       "<Figure size 432x288 with 1 Axes>"
      ]
     },
     "metadata": {
      "needs_background": "light"
     },
     "output_type": "display_data"
    }
   ],
   "source": [
    "plt.ylim(0, 600)\n",
    "ex.boxplot(column = 'days_exposition')"
   ]
  },
  {
   "cell_type": "raw",
   "metadata": {},
   "source": [
    "Быстрые продажи - это когда квартира уходила быстрее 20 дней. Долго - это дольше чем полтора года в продаже."
   ]
  },
  {
   "cell_type": "code",
   "execution_count": 9,
   "metadata": {},
   "outputs": [
    {
     "name": "stdout",
     "output_type": "stream",
     "text": [
      "Рассмотрим распределение цен на однокомнатную квартиру - в центре Санкт-Петербурга, за пределами 8000 от цента и в области\n"
     ]
    },
    {
     "data": {
      "text/plain": [
       "<matplotlib.axes._subplots.AxesSubplot at 0x7f91b248fad0>"
      ]
     },
     "execution_count": 9,
     "metadata": {},
     "output_type": "execute_result"
    },
    {
     "data": {
      "image/png": "[encoded data removed]",
      "text/plain": [
       "<Figure size 576x432 with 2 Axes>"
      ]
     },
     "metadata": {
      "needs_background": "light"
     },
     "output_type": "display_data"
    },
    {
     "data": {
      "image/png": "[encoded data removed]",
      "text/plain": [
       "<Figure size 576x432 with 2 Axes>"
      ]
     },
     "metadata": {
      "needs_background": "light"
     },
     "output_type": "display_data"
    },
    {
     "data": {
      "image/png": "[encoded data removed]",
      "text/plain": [
       "<Figure size 576x432 with 2 Axes>"
      ]
     },
     "metadata": {
      "needs_background": "light"
     },
     "output_type": "display_data"
    }
   ],
   "source": [
    "print('Рассмотрим распределение цен на однокомнатную квартиру - в центре Санкт-Петербурга, за пределами 8000 от цента и в области')\n",
    "ex_Piter.query('rooms <= 1 and 20 < total_area < 70 and 70000 < cena_metr < 225000 and cityCenters_nearest_in < 8000').plot(x='total_area',\n",
    "                                                            y='cena_metr', kind='hexbin', gridsize=8, cmap=\"OrRd\",\n",
    "                                                            figsize=(8, 6), label= 'Санкт_Петербург', sharex=False, grid=True)\n",
    "ex_Piter.query('rooms <= 1 and 20 < total_area < 50 and 60000 < cena_metr < 150000 and cityCenters_nearest_in > 8000').plot(x='total_area',\n",
    "                                                            y='cena_metr', kind='hexbin', gridsize=8, \n",
    "                                                            figsize=(8, 6), label= 'Санкт_Петербург', sharex=False, grid=True)\n",
    "ex_bez_Pitera.query('rooms <= 1 and 20 < total_area < 50 and 40000 < cena_metr < 135000').plot(x='total_area',\n",
    "                                                            y='cena_metr', kind='hexbin', gridsize=8, \n",
    "                                                            figsize=(8, 6), label= 'Область', cmap=\"BuPu\",\n",
    "                                                            sharex=False, grid=True)"
   ]
  },
  {
   "cell_type": "code",
   "execution_count": 10,
   "metadata": {},
   "outputs": [
    {
     "data": {
      "text/plain": [
       "<matplotlib.axes._subplots.AxesSubplot at 0x7f91b3078c50>"
      ]
     },
     "execution_count": 10,
     "metadata": {},
     "output_type": "execute_result"
    },
    {
     "data": {
      "image/png": "[encoded data removed]",
      "text/plain": [
       "<Figure size 432x288 with 1 Axes>"
      ]
     },
     "metadata": {
      "needs_background": "light"
     },
     "output_type": "display_data"
    }
   ],
   "source": [
    "# создадим два среза , до 8 и после 8 тысяч метров. Провал в цене с середине скорей всего означает промышленое кольцо \n",
    "#где цена за метр ниже\n",
    "d04000 = ex_Piter.query('0<= cityCenters_nearest <8000').pivot_table(index=\"cityCenters_nearest_in\",\n",
    "                                                                values='cena_metr_in', aggfunc='mean')\n",
    "d04000['cityCenters_nearest_in'] = d04000.index.values\n",
    "posle4000 = ex_Piter.query('7500<= cityCenters_nearest <20000').pivot_table(index=\"cityCenters_nearest_in\",\n",
    "                                                                values='cena_metr_in', aggfunc='mean')\n",
    "posle4000['cityCenters_nearest_in'] = posle4000.index.values\n",
    "\n",
    "ax = d04000.plot(x = 'cityCenters_nearest_in', y='cena_metr_in', label='центр')\n",
    "posle4000.plot(x = 'cityCenters_nearest_in', y='cena_metr_in', ax=ax, grid=True, label='за центром', legend=True)\n"
   ]
  },
  {
   "cell_type": "raw",
   "metadata": {},
   "source": [
    "Получается, что основной центр - до 2.5 километров от центра, а если с ближайшим развитыми районами - то 7,5 километров от центра. "
   ]
  },
  {
   "cell_type": "code",
   "execution_count": 11,
   "metadata": {
    "scrolled": true
   },
   "outputs": [
    {
     "name": "stdout",
     "output_type": "stream",
     "text": [
      "AxesSubplot(0.125,0.125;0.775x0.755)\n"
     ]
    },
    {
     "data": {
      "image/png": "[encoded data removed]",
      "text/plain": [
       "<Figure size 720x360 with 1 Axes>"
      ]
     },
     "metadata": {
      "needs_background": "light"
     },
     "output_type": "display_data"
    }
   ],
   "source": [
    "# цена в пригородах, выбираем 10 самых популярных областных городов.\n",
    "name = ex_bez_Pitera['locality_name'].value_counts().head(10).index\n",
    "cena_prigorod = (\n",
    "    ex_bez_Pitera.query('locality_name in @name').pivot_table(index = 'locality_name',\n",
    "    values='cena_metr').sort_values(by = 'cena_metr').plot(y ='cena_metr', kind='bar', figsize = (10, 5))\n",
    ")\n",
    "print(cena_prigorod)"
   ]
  },
  {
   "cell_type": "raw",
   "metadata": {},
   "source": [
    "Самый дорогой пригород - Пушкин, и деревни расположенные на границе с Питером. Чем дальше - тем дешевле. "
   ]
  },
  {
   "cell_type": "markdown",
   "metadata": {},
   "source": [
    "<div style=\"border:solid  green  2px; padding: 20px\"> <h1 style=\"color: green ; margin-bottom:20px\">Комментарий наставника</h1>\n",
    "\n",
    "Верно"
   ]
  },
  {
   "cell_type": "code",
   "execution_count": 12,
   "metadata": {},
   "outputs": [
    {
     "data": {
      "text/html": [
       "<div>\n",
       "<style scoped>\n",
       "    .dataframe tbody tr th:only-of-type {\n",
       "        vertical-align: middle;\n",
       "    }\n",
       "\n",
       "    .dataframe tbody tr th {\n",
       "        vertical-align: top;\n",
       "    }\n",
       "\n",
       "    .dataframe thead th {\n",
       "        text-align: right;\n",
       "    }\n",
       "</style>\n",
       "<table border=\"1\" class=\"dataframe\">\n",
       "  <thead>\n",
       "    <tr style=\"text-align: right;\">\n",
       "      <th></th>\n",
       "      <th>ceiling_height</th>\n",
       "      <th>cena_metr</th>\n",
       "      <th>kitchen_area</th>\n",
       "      <th>last_price</th>\n",
       "      <th>living_area</th>\n",
       "      <th>total_area_in</th>\n",
       "    </tr>\n",
       "    <tr>\n",
       "      <th>rooms</th>\n",
       "      <th></th>\n",
       "      <th></th>\n",
       "      <th></th>\n",
       "      <th></th>\n",
       "      <th></th>\n",
       "      <th></th>\n",
       "    </tr>\n",
       "  </thead>\n",
       "  <tbody>\n",
       "    <tr>\n",
       "      <td>0</td>\n",
       "      <td>4.00</td>\n",
       "      <td>117100.00</td>\n",
       "      <td>0.00</td>\n",
       "      <td>8200000.00</td>\n",
       "      <td>68.00</td>\n",
       "      <td>70.00</td>\n",
       "    </tr>\n",
       "    <tr>\n",
       "      <td>1</td>\n",
       "      <td>2.87</td>\n",
       "      <td>209378.05</td>\n",
       "      <td>10.78</td>\n",
       "      <td>8007843.88</td>\n",
       "      <td>21.41</td>\n",
       "      <td>40.73</td>\n",
       "    </tr>\n",
       "    <tr>\n",
       "      <td>2</td>\n",
       "      <td>2.94</td>\n",
       "      <td>176464.49</td>\n",
       "      <td>12.64</td>\n",
       "      <td>14521700.15</td>\n",
       "      <td>38.27</td>\n",
       "      <td>70.09</td>\n",
       "    </tr>\n",
       "    <tr>\n",
       "      <td>3</td>\n",
       "      <td>3.00</td>\n",
       "      <td>160015.38</td>\n",
       "      <td>13.18</td>\n",
       "      <td>17757756.41</td>\n",
       "      <td>55.08</td>\n",
       "      <td>94.87</td>\n",
       "    </tr>\n",
       "    <tr>\n",
       "      <td>4</td>\n",
       "      <td>3.05</td>\n",
       "      <td>164920.97</td>\n",
       "      <td>13.60</td>\n",
       "      <td>23554645.16</td>\n",
       "      <td>80.23</td>\n",
       "      <td>123.23</td>\n",
       "    </tr>\n",
       "    <tr>\n",
       "      <td>5</td>\n",
       "      <td>3.09</td>\n",
       "      <td>183966.67</td>\n",
       "      <td>15.17</td>\n",
       "      <td>36224600.00</td>\n",
       "      <td>118.47</td>\n",
       "      <td>173.33</td>\n",
       "    </tr>\n",
       "    <tr>\n",
       "      <td>6</td>\n",
       "      <td>2.95</td>\n",
       "      <td>136369.23</td>\n",
       "      <td>18.23</td>\n",
       "      <td>25816384.62</td>\n",
       "      <td>126.85</td>\n",
       "      <td>177.69</td>\n",
       "    </tr>\n",
       "    <tr>\n",
       "      <td>7</td>\n",
       "      <td>3.09</td>\n",
       "      <td>163745.45</td>\n",
       "      <td>19.82</td>\n",
       "      <td>48695825.09</td>\n",
       "      <td>191.82</td>\n",
       "      <td>300.91</td>\n",
       "    </tr>\n",
       "    <tr>\n",
       "      <td>8</td>\n",
       "      <td>3.17</td>\n",
       "      <td>109900.00</td>\n",
       "      <td>18.00</td>\n",
       "      <td>24430000.00</td>\n",
       "      <td>151.67</td>\n",
       "      <td>223.33</td>\n",
       "    </tr>\n",
       "    <tr>\n",
       "      <td>11</td>\n",
       "      <td>3.40</td>\n",
       "      <td>173700.00</td>\n",
       "      <td>12.00</td>\n",
       "      <td>33000000.00</td>\n",
       "      <td>129.00</td>\n",
       "      <td>190.00</td>\n",
       "    </tr>\n",
       "  </tbody>\n",
       "</table>\n",
       "</div>"
      ],
      "text/plain": [
       "       ceiling_height  cena_metr  kitchen_area   last_price  living_area  \\\n",
       "rooms                                                                      \n",
       "0                4.00  117100.00          0.00   8200000.00        68.00   \n",
       "1                2.87  209378.05         10.78   8007843.88        21.41   \n",
       "2                2.94  176464.49         12.64  14521700.15        38.27   \n",
       "3                3.00  160015.38         13.18  17757756.41        55.08   \n",
       "4                3.05  164920.97         13.60  23554645.16        80.23   \n",
       "5                3.09  183966.67         15.17  36224600.00       118.47   \n",
       "6                2.95  136369.23         18.23  25816384.62       126.85   \n",
       "7                3.09  163745.45         19.82  48695825.09       191.82   \n",
       "8                3.17  109900.00         18.00  24430000.00       151.67   \n",
       "11               3.40  173700.00         12.00  33000000.00       129.00   \n",
       "\n",
       "       total_area_in  \n",
       "rooms                 \n",
       "0              70.00  \n",
       "1              40.73  \n",
       "2              70.09  \n",
       "3              94.87  \n",
       "4             123.23  \n",
       "5             173.33  \n",
       "6             177.69  \n",
       "7             300.91  \n",
       "8             223.33  \n",
       "11            190.00  "
      ]
     },
     "metadata": {},
     "output_type": "display_data"
    }
   ],
   "source": [
    "# Сводная таблица по центру Питера\n",
    "ex_Piter_centr_centr = ex_Piter.query('cityCenters_nearest_in < 2500')\n",
    "centr  = (ex_Piter_centr_centr.pivot_table(index = 'rooms', \n",
    "        values = ['total_area_in', 'living_area', 'kitchen_area', 'last_price', \n",
    "        'cena_metr','ceiling_height'])\n",
    "         )\n",
    "display(np.round(centr, 2))"
   ]
  },
  {
   "cell_type": "raw",
   "metadata": {},
   "source": [
    "В центре Питера и цены выше и потолки."
   ]
  },
  {
   "cell_type": "code",
   "execution_count": 14,
   "metadata": {},
   "outputs": [
    {
     "name": "stdout",
     "output_type": "stream",
     "text": [
      "Коэффициент корреляции Пирсона\n",
      "Между расстоянием от центра и ценой: -0.8756923208004798\n",
      "Между комнатами и ценой: -0.9141973359602532\n",
      "Между этажем и ценой: 0.8819902410969596\n",
      "Между площадью и ценой: 0.4246483334846669\n",
      "Между годом и ценой: -0.2814106876613921\n",
      "Между месяцем размещения и ценой: -0.40119881895355797\n",
      "Между днем размещения и ценой: 0.1200207166370963\n"
     ]
    }
   ],
   "source": [
    "# корреляции\n",
    "print('Коэффициент корреляции Пирсона')\n",
    "correlac = (ex_Piter.query('1 < cityCenters_nearest_in < 20000 and 50000 <cena_metr_in < 300000')\n",
    "       .pivot_table(index = 'cityCenters_nearest_in', values = 'cena_metr_in', aggfunc='mean')\n",
    "      )\n",
    "correlac['svaz'] = correlac.index.values\n",
    "print('Между расстоянием от центра и ценой:', correlac['cena_metr_in'].corr(correlac['svaz']))\n",
    "\n",
    "correlac = (ex_Piter.query('1 < cityCenters_nearest_in < 20000 and 50000 <cena_metr_in < 300000 and rooms < 5')\n",
    "       .pivot_table(index = 'rooms_in', values = 'cena_metr_in', aggfunc='mean')\n",
    "      )\n",
    "correlac['svaz'] = correlac.index.values\n",
    "print('Между комнатами и ценой:', correlac['cena_metr_in'].corr(correlac['svaz']))\n",
    "\n",
    "correlac = ex_Piter.pivot_table(index = 'floors_var', values = 'cena_metr_in', aggfunc='mean')\n",
    "correlac['svaz'] = correlac.index.values\n",
    "print('Между этажем и ценой:', correlac['cena_metr_in'].corr(correlac['svaz']))\n",
    "\n",
    "correlac = (ex_Piter.query('10 < total_area_in < 250 and 50000 <cena_metr_in < 300000')\n",
    "       .pivot_table(index = 'total_area_in', values = 'cena_metr_in', aggfunc='mean')\n",
    "      )\n",
    "correlac['svaz'] = correlac.index.values\n",
    "print('Между площадью и ценой:', correlac['cena_metr_in'].corr(correlac['svaz']))\n",
    "\n",
    "\n",
    "correlac = (ex_Piter.query('50000 <cena_metr_in < 300000')\n",
    "       .pivot_table(index = 'year', values = 'cena_metr_in', aggfunc='mean')\n",
    "      )\n",
    "correlac['svaz'] = correlac.index.values\n",
    "print('Между годом и ценой:', correlac['cena_metr_in'].corr(correlac['svaz']))\n",
    "\n",
    "\n",
    "correlac = (ex_Piter.query('50000 <cena_metr_in < 300000')\n",
    "       .pivot_table(index = 'month', values = 'cena_metr_in', aggfunc='mean')\n",
    "      )\n",
    "correlac['svaz'] = correlac.index.values\n",
    "print('Между месяцем размещения и ценой:', correlac['cena_metr_in'].corr(correlac['svaz']))\n",
    "\n",
    "\n",
    "correlac = (ex_Piter.pivot_table(index = 'day', values = 'cena_metr_in', aggfunc='mean')\n",
    "      )\n",
    "correlac['svaz'] = correlac.index.values\n",
    "print('Между днем размещения и ценой:', correlac['cena_metr_in'].corr(correlac['svaz']))\n"
   ]
  },
  {
   "cell_type": "code",
   "execution_count": 15,
   "metadata": {},
   "outputs": [
    {
     "name": "stdout",
     "output_type": "stream",
     "text": [
      "Коэффициент корреляции Пирсона для центра города\n",
      "Между расстоянием от центра и ценой: -0.6257743232825765\n",
      "Между комнатами и ценой: -0.1313302150212117\n",
      "Между этажем и ценой: 0.5293498787284077\n",
      "Между площадью и ценой: 0.07032669900041857\n",
      "Между годом и ценой: -0.42597433688345127\n",
      "Между месяцем размещения и ценой: -0.09573661236714578\n",
      "Между днем размещения и ценой: -0.5618111842935545\n"
     ]
    }
   ],
   "source": [
    "# корреляции для центра\n",
    "print('Коэффициент корреляции Пирсона для центра города')\n",
    "\n",
    "\n",
    "correlac1 = (ex_Piter_centr_centr.pivot_table(index = 'cityCenters_nearest_in', values = 'cena_metr_in', aggfunc='mean')\n",
    "      )\n",
    "correlac1['svaz'] = correlac1.index.values\n",
    "print('Между расстоянием от центра и ценой:', correlac1['cena_metr_in'].corr(correlac1['svaz']))\n",
    "\n",
    "correlac2 = (ex_Piter_centr_centr.pivot_table(index = 'rooms', values = 'cena_metr_in', aggfunc='mean')\n",
    "      )\n",
    "correlac2['svaz'] = correlac2.index.values\n",
    "print('Между комнатами и ценой:', correlac2['cena_metr_in'].corr(correlac2['svaz']))\n",
    "\n",
    "correlac1 = ex_Piter_centr_centr.pivot_table(index = 'floors_var', values = 'cena_metr_in', aggfunc='mean')\n",
    "correlac1['svaz'] = correlac1.index.values\n",
    "print('Между этажем и ценой:', correlac1['cena_metr_in'].corr(correlac1['svaz']))\n",
    "\n",
    "correlac1 = (ex_Piter_centr_centr.pivot_table(index = 'total_area_in', values = 'cena_metr_in', aggfunc='mean')\n",
    "      )\n",
    "correlac1['svaz'] = correlac1.index.values\n",
    "print('Между площадью и ценой:', correlac1['cena_metr_in'].corr(correlac1['svaz']))\n",
    "\n",
    "\n",
    "correlac1 = (ex_Piter_centr_centr.pivot_table(index = 'year', values = 'cena_metr_in', aggfunc='mean')\n",
    "      )\n",
    "correlac1['svaz'] = correlac1.index.values\n",
    "print('Между годом и ценой:', correlac1['cena_metr_in'].corr(correlac1['svaz']))\n",
    "\n",
    "\n",
    "correlac1 = (ex_Piter_centr_centr.pivot_table(index = 'month', values = 'cena_metr_in', aggfunc='mean')\n",
    "      )\n",
    "correlac1['svaz'] = correlac1.index.values\n",
    "print('Между месяцем размещения и ценой:', correlac1['cena_metr_in'].corr(correlac1['svaz']))\n",
    "\n",
    "\n",
    "correlac1 = (ex_Piter_centr_centr.pivot_table(index = 'day', values = 'cena_metr_in', aggfunc='mean')\n",
    "      )\n",
    "correlac1['svaz'] = correlac1.index.values\n",
    "print('Между днем размещения и ценой:', correlac1['cena_metr_in'].corr(correlac1['svaz']))\n",
    "\n"
   ]
  },
  {
   "cell_type": "markdown",
   "metadata": {},
   "source": [
    "<div style=\"border:solid  green  2px; padding: 20px\"> <h1 style=\"color: green ; margin-bottom:20px\">Комментарий наставника</h1>\n",
    "\n",
    "У тебя отлично получается анализировать сложные данные и находить скрытые зависимости, здорово!)"
   ]
  },
  {
   "cell_type": "markdown",
   "metadata": {},
   "source": [
    "### Шаг 5. Общий вывод"
   ]
  },
  {
   "cell_type": "markdown",
   "metadata": {},
   "source": [
    "Бесконечное количество данных, которые можно связывать с друг другом бесконечное количество раз. Корреляция сильно меняется при изменении выборки - расстояние от центра.Так же есть различия при общих данных и при выборке в центре - видимо там покупателям не сильно важен этаж и площадь, главное быть в центре событий. Жилье в Питере дорогое, но на расстоянии в 2,5 - 5 километров можно найти подешевле, наверное там пром зоны или далеко находиться метро."
   ]
  },
  {
   "cell_type": "markdown",
   "metadata": {},
   "source": [
    "<div style=\"border:solid orange 2px; padding: 20px\"> <h1 style=\"color:orange; margin-bottom:20px\">Комментарий наставника</h1>\n",
    "\n",
    "Общий вывод в будущем стоит писать подробнее, а так же приводить цифры полученные в ходе выполнения проекта"
   ]
  },
  {
   "cell_type": "markdown",
   "metadata": {},
   "source": [
    "### Чек-лист готовности проекта\n",
    "\n",
    "Поставьте 'x' в выполненных пунктах. Далее нажмите Shift+Enter."
   ]
  },
  {
   "cell_type": "markdown",
   "metadata": {},
   "source": [
    "- [x]  открыт файл\n",
    "- [x]  файлы изучены (выведены первые строки, метод info())\n",
    "- [x]  определены пропущенные значения\n",
    "- [x]  заполнены пропущенные значения\n",
    "- [x]  есть пояснение, какие пропущенные значения обнаружены\n",
    "- [x]  изменены типы данных\n",
    "- [x]  есть пояснение, в каких столбцах изменены типы и почему\n",
    "- [x]  посчитано и добавлено в таблицу: цена квадратного метра\n",
    "- [x]  посчитано и добавлено в таблицу: день недели, месяц и год публикации объявления\n",
    "- [x]  посчитано и добавлено в таблицу: этаж квартиры; варианты — первый, последний, другой\n",
    "- [x]  посчитано и добавлено в таблицу: соотношение жилой и общей площади, а также отношение площади кухни к общей\n",
    "- [x]  изучены следующие параметры: площадь, цена, число комнат, высота потолков\n",
    "- [x]  построены гистограммы для каждого параметра\n",
    "- [x]  выполнено задание: \"Изучите время продажи квартиры. Постройте гистограмму. Посчитайте среднее и медиану. Опишите, сколько обычно занимает продажа. Когда можно считать, что продажи прошли очень быстро, а когда необычно долго?\"\n",
    "- [x]  выполнено задание: \"Уберите редкие и выбивающиеся значения. Опишите, какие особенности обнаружили.\"\n",
    "- [x]  выполнено задание: \"Какие факторы больше всего влияют на стоимость квартиры? Изучите, зависит ли цена от квадратного метра, числа комнат, этажа (первого или последнего), удалённости от центра. Также изучите зависимость от даты размещения: дня недели, месяца и года. \"Выберите 10 населённых пунктов с наибольшим числом объявлений. Посчитайте среднюю цену квадратного метра в этих населённых пунктах. Выделите населённые пункты с самой высокой и низкой стоимостью жилья. Эти данные можно найти по имени в столбце '*locality_name'*. \"\n",
    "- [x]  выполнено задание: \"Изучите предложения квартир: для каждой квартиры есть информация о расстоянии до центра. Выделите квартиры в Санкт-Петербурге (*'locality_name'*). Ваша задача — выяснить, какая область входит в центр. Создайте столбец с расстоянием до центра в километрах: округлите до целых значений. После этого посчитайте среднюю цену для каждого километра. Постройте график: он должен показывать, как цена зависит от удалённости от центра. Определите границу, где график сильно меняется — это и будет центральная зона. \"\n",
    "- [x]  выполнено задание: \"Выделите сегмент квартир в центре. Проанализируйте эту территорию и изучите следующие параметры: площадь, цена, число комнат, высота потолков. Также выделите факторы, которые влияют на стоимость квартиры (число комнат, этаж, удалённость от центра, дата размещения объявления). Сделайте выводы. Отличаются ли они от общих выводов по всему городу?\"\n",
    "- [x]  в каждом этапе есть выводы\n",
    "- [x]  есть общий вывод"
   ]
  },
  {
   "cell_type": "markdown",
   "metadata": {},
   "source": [
    "<div style=\"border:solid  green  2px; padding: 20px\">\n",
    "\n",
    "<h1 style=\"color: green ; margin-bottom:20px\">Комментарий наставника</h1>\n",
    "\n",
    "#### Код\n",
    "\n",
    "Всё отлично. Из того, что очень порадовало - соблюдена структура проекта, шаги из задания обозначены и выполнены последовательно, код написан аккуратно, используются комментарии к коду, быстро можно понять, какие операции выполняют сложные конструкции. В качестве совета предлагаю глубже изучить библиотеку Seaborn для построения более ярких и качественных визуализаций в Python, так как иногда хорошая красочная визуализация может сказать очень многое о данных.\n",
    "\n",
    "#### Выводы\n",
    "\n",
    "Ты пишешь отличные обоснованные выводы по проделанной раблоте и выдвигаешь корректные гипотезы - это очень радует!) Так же видно глубокое понимание проведённого анализа. Было очень интересно проверять твой проект и следить за твоей мыслью, продолжай в том же духе) Удачи!)"
   ]
  },
  {
   "cell_type": "markdown",
   "metadata": {},
   "source": [
    "<div style=\"border:solid  green  2px; padding: 20px\">\n",
    "\n",
    "<h1 style=\"color: green ; margin-bottom:20px\">Комментарий наставника</h1>\n",
    "\n",
    "Работа принята!) Удачи на следующих этапах, у тебя всё получится, только не сомневайся в себе и старательно подходи ко всем вопросам)"
   ]
  },
  {
   "cell_type": "code",
   "execution_count": null,
   "metadata": {},
   "outputs": [],
   "source": []
  }
 ],
 "metadata": {
  "kernelspec": {
   "display_name": "Python 3",
   "language": "python",
   "name": "python3"
  },
  "language_info": {
   "codemirror_mode": {
    "name": "ipython",
    "version": 3
   },
   "file_extension": ".py",
   "mimetype": "text/x-python",
   "name": "python",
   "nbconvert_exporter": "python",
   "pygments_lexer": "ipython3",
   "version": "3.7.4"
  }
 },
 "nbformat": 4,
 "nbformat_minor": 2
}
