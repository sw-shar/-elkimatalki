{
 "cells": [
  {
   "cell_type": "code",
   "execution_count": 6,
   "metadata": {},
   "outputs": [],
   "source": [
    "import pandas as pd\n",
    "import numpy as np\n",
    "import seaborn as sns\n",
    "import math\n",
    "%matplotlib inline\n",
    "\n",
    "import matplotlib.pyplot as plt \n",
    "import datetime as dt\n",
    "import matplotlib.dates as mdates"
   ]
  },
  {
   "cell_type": "markdown",
   "metadata": {},
   "source": [
    "# Определение перспективного тарифа для телеком компании\n",
    "\n",
    "Пропишем функции"
   ]
  },
  {
   "cell_type": "code",
   "execution_count": 7,
   "metadata": {},
   "outputs": [],
   "source": [
    "dataC = pd.read_csv('/datasets/calls.csv') #звонки\n",
    "dataI = pd.read_csv('/datasets/internet.csv') #интернет\n",
    "dataM = pd.read_csv('/datasets/messages.csv') #смс\n",
    "dataT = pd.read_csv('/datasets/tariffs.csv') #данные тарифа\n",
    "dataU = pd.read_csv('/datasets/users.csv') #данные пользователя"
   ]
  },
  {
   "cell_type": "code",
   "execution_count": 8,
   "metadata": {},
   "outputs": [],
   "source": [
    "def ne_null(name_tabel, tariff):\n",
    "    '''функция которая берет таблицу помесячную и выискивает все ненулевые значения,\n",
    "    а потом считает десперсию, среднее и отклонение'''\n",
    "    name_tabel.columns = name_tabel.columns.astype(str)\n",
    "    slovar_tarif = {1:'Тариф - Смарт', 2:'Тариф - Ультра'}\n",
    "    name = []\n",
    "    srez = name_tabel.loc[name_tabel['tariff'] == tariff]\n",
    "    srez = srez.loc[:, '1' : '11'].reset_index(drop=True)\n",
    "    dl = len(srez)\n",
    "    srez = srez.T\n",
    "    srez = srez.astype('int')\n",
    "    name_table_new = []\n",
    "    for i in range(1,dl): \n",
    "          for j in range(len(srez[i])): \n",
    "                if srez[i][j] > 0:\n",
    "                    name_table_new.append(srez[i][j])\n",
    "    # дальше рассчитаем количество элементов не нулевых и общую сумму\n",
    "    srez.loc['qq'] = srez.sum(axis = 0)\n",
    "    sum_vsego = (srez.loc['qq'].sum())\n",
    "    month = len(name_table_new)\n",
    "    srednee = (sum_vsego/month).round(0)\n",
    "    dispersia = (np.var(name_table_new, ddof = 1)).round(0)\n",
    "    st_otklonenie = (np.std(name_table_new, ddof=1)).round(0)\n",
    "    name.append(slovar_tarif[tariff])\n",
    "    name.append(srednee)\n",
    "    name.append(dispersia)\n",
    "    name.append(st_otklonenie)\n",
    "    return name\n",
    "\n",
    "\n",
    "#print(oll_s)\n",
    "def ne_null_cena(name_tabel, tariff):\n",
    "    slovar_tarif = {1:'Тариф - Смарт', 2:'Тариф - Ультра'}\n",
    "    name = []\n",
    "    srez = name_tabel.reset_index(drop=True)\n",
    "    dl = len(srez)\n",
    "    srez = srez.T\n",
    "    srez = srez.astype('int')\n",
    "    name_table_new = []\n",
    "    for i in range(1,dl): \n",
    "          for j in range(len(srez[i])): \n",
    "                if srez[i][j] > 0:\n",
    "                    name_table_new.append(srez[i][j])\n",
    "    # дальше рассчитаем количество элементов не нулевых и общую сумму\n",
    "    srez.loc['qq'] = srez.sum(axis = 0)\n",
    "    sum_vsego = (srez.loc['qq'].sum())\n",
    "    month = len(name_table_new)\n",
    "    srednee = (sum_vsego/month).round(0)\n",
    "    dispersia = (np.var(name_table_new, ddof = 1)).round(0)\n",
    "    st_otklonenie = (np.std(name_table_new, ddof=1)).round(0)\n",
    "    name.append(slovar_tarif[tariff])\n",
    "    name.append(srednee)\n",
    "    name.append(dispersia)\n",
    "    name.append(st_otklonenie)\n",
    "    return name\n",
    "\n",
    "\n",
    "def ne_null_table(name_tabel, tariff):\n",
    "    '''Возвращаем список для гистограмм'''\n",
    "    name_tabel.columns = name_tabel.columns.astype(str)\n",
    "    srez = name_tabel.loc[name_tabel['tariff'] == tariff]\n",
    "    srez = srez.loc[:, '1' : '11'].reset_index(drop=True)\n",
    "    dl = len(srez)\n",
    "    srez = srez.T\n",
    "    srez = srez.astype('int')\n",
    "    name_table_new = []\n",
    "    for i in range(1,dl): \n",
    "          for j in range(len(srez[i])): \n",
    "                if srez[i][j] > 0:\n",
    "                    name_table_new.append(srez[i][j])\n",
    "    return name_table_new\n",
    "\n",
    "\n",
    "def ne_null_table_c(name_tabel):\n",
    "    '''Возвращаем список для гистограмм'''\n",
    "    srez = name_tabel\n",
    "    dl = len(srez)\n",
    "    srez = srez.T\n",
    "    srez = srez.astype('int')\n",
    "    name_table_new = []\n",
    "    for i in range(1,dl): \n",
    "          for j in range(len(srez[i])): \n",
    "                if srez[i][j] > 0:\n",
    "                    name_table_new.append(srez[i][j])\n",
    "    return name_table_new"
   ]
  },
  {
   "cell_type": "markdown",
   "metadata": {},
   "source": [
    "Считаем данные, заполним неизвестные значения нулями. Переведем данные в правильный тип."
   ]
  },
  {
   "cell_type": "code",
   "execution_count": 9,
   "metadata": {},
   "outputs": [],
   "source": [
    "dataU['churn_date'] = dataU['churn_date'].fillna(0)\n",
    "dataU['reg_date'] = pd.to_datetime(dataU['reg_date'], format = '%Y-%m-%d')\n",
    "# заменим значение тарифор на числа smart - 1,  ultra - 2\n",
    "dataU['tariff'] = dataU['tariff'].replace('ultra', '2')\n",
    "dataU['tariff'] = dataU['tariff'].replace('smart', '1').astype(int)\n",
    "# создадим столбцы с месяцем и датой регистрации\n",
    "dataU['day'] = dataU['reg_date'].dt.day\n",
    "dataU['day'] = dataU['day'].astype('float64')\n",
    "\n",
    "\n",
    "#создадим отдельные таблицы - из таблицы о пользователе, которые мы сможем присоеденить к таблицам - звонки, смс и интернет#\n",
    "tarif = dataU.loc[:, ['user_id', 'tariff']]\n",
    "registr = dataU.loc[:, ['user_id', 'day']]\n",
    "\n",
    "\n",
    "dataC['call_date'] = pd.to_datetime(dataC['call_date'], format = '%Y-%m-%d')\n",
    "dataC = dataC.rename(columns={'call_date': 'time'})\n",
    "dataC['duration_id'] = dataC['duration'].apply(lambda v: math.ceil(v))\n",
    "dataC = dataC.merge(registr,on='user_id',how='left')\n",
    "\n",
    "dataI['mb_used_id'] = dataI['mb_used'].apply(lambda v: math.ceil(v))\n",
    "dataI['session_date'] = pd.to_datetime(dataI['session_date'], format = '%Y-%m-%d')\n",
    "dataI = dataI.rename(columns={'session_date': 'time'})\n",
    "dataI = dataI.merge(registr,on='user_id',how='left')\n",
    "\n",
    "\n",
    "#print(dataM.info())\n",
    "dataM['message_date'] = pd.to_datetime(dataM['message_date'], format = '%Y-%m-%d')\n",
    "dataM = dataM.rename(columns={'message_date': 'time'})\n",
    "dataM = dataM.merge(registr,on='user_id',how='left')\n",
    "#print(dataM)\n"
   ]
  },
  {
   "cell_type": "markdown",
   "metadata": {},
   "source": [
    "У нас есть значения звонков с длинной 0 - посмотрим как эти звонки распределены между пользователями.\n",
    "Поскольку у нас прямая корреляция между количеством звонков пользователя и 0 звонками - то попробуем воссоздать \n",
    "для каждого пользователя распределение звонков исходя из его данных по звонкам и на основании этого - заполнить пропуски с \n",
    "помощью этого отношения.Какие плюсы у этого решения - распределение звонков по всей массе пользователей не измениться.\n",
    "Какие минусы - если это решение не верное - у пользователя возможно будет переизбыток звонков и соответственно плата за них.\n",
    "\n",
    "Если бы мы имели полные данные о пользователе с ценой за каждую операцию, таких проблем мы могли бы избежать - \n",
    "сразу понимать сколько оператор списал в итоге за звонок.\n",
    "\n",
    "!!!P.S от этой идеи пришлось отказаться когда я не смогла заполнить готовыми списками с длинами звонков\n",
    "значениями 0 у каждого пользователя((("
   ]
  },
  {
   "cell_type": "code",
   "execution_count": 10,
   "metadata": {},
   "outputs": [
    {
     "name": "stdout",
     "output_type": "stream",
     "text": [
      "AxesSubplot(0.125,0.125;0.775x0.755)\n"
     ]
    },
    {
     "data": {
      "image/png": "[encoded data removed]",
      "text/plain": [
       "<Figure size 432x288 with 1 Axes>"
      ]
     },
     "metadata": {
      "needs_background": "light"
     },
     "output_type": "display_data"
    }
   ],
   "source": [
    "print(dataC.query('duration_id > 0').groupby('duration_id')['id'].count().plot(kind='bar',label = 'Распределение звонков по длине, мин.', legend = True))\n",
    "\n",
    "wtf = dataC.loc[:, ['duration_id', 'user_id', 'id']]\n",
    "cor = wtf.query('duration_id ==0').pivot_table(index = 'user_id', values = 'duration_id', aggfunc='count')\n",
    "reg = wtf.query('duration_id !=0').pivot_table(index = 'user_id', values = 'duration_id', aggfunc='count')\n",
    "cor['duration_id'].corr(reg['duration_id'])\n",
    "# кореляция почти еденица -чем больше пользователь звонил, тем больше у него нулевых звонков в выписке. \n",
    "#Если бы в наших данных был столбец списаний за каждую операцию, мы могли бы точно сказать что это за звонок\n",
    "dataC['duration_id_false'] = dataC['duration_id']\n",
    "dataC['duration_id_false'] = dataC['duration_id_false'].replace(0, 1)\n",
    "#решили заполнить эти звонки значением - 1 мин.\n"
   ]
  },
  {
   "cell_type": "markdown",
   "metadata": {},
   "source": [
    "Если сгруппировать сообщения, смс и интернет нашей выборки в лоб – по месяцам то данные будут не верные. Потому что если человек купил тариф, например  в июле 27 числа – то в конце июля в нашей сводной таблице у него будет немного пользований, а основная масса уйдёт на август. И там вполне получиться перебор и переплата. А по факту его месяц пользования тарифа будет идти с 27 июля по 27 августа. И у каждого пользователя он разный.\n",
    "Мой вариант решения проблемы: надо все даты использования смс, звонков и интернета подвинуть на срок его регистрации минус один день.\n",
    "То есть, например он позвонил 27 июля, нам из этой даты нужно сделать 1 число. Тогда все вместиться именно так как нам надо, а потом уже берём месяц и делаем группировку.\n",
    "Пишем функцию которая изменит даты."
   ]
  },
  {
   "cell_type": "code",
   "execution_count": 11,
   "metadata": {},
   "outputs": [],
   "source": [
    "def new_data(row):\n",
    "    call_date = row['time']\n",
    "    dayy = row['day'] -1\n",
    "    timedelta = dt.timedelta(days = dayy)\n",
    "    ee = call_date - timedelta\n",
    "    return ee\n",
    "\n",
    "dataC['new_time']  = dataC.apply(new_data, axis=1)\n",
    "dataC['month'] = dataC['new_time'].dt.month\n",
    "dataM['new_time']  = dataM.apply(new_data, axis=1)\n",
    "dataM['month'] = dataM['new_time'].dt.month\n",
    "dataI['new_time']  = dataI.apply(new_data, axis=1)\n",
    "dataI['month'] = dataI['new_time'].dt.month\n"
   ]
  },
  {
   "cell_type": "markdown",
   "metadata": {},
   "source": [
    "Теперь мы сможем по каждому пользователю, в разрезе каждого месяца видеть его звонки, смс и пользование интернетом."
   ]
  },
  {
   "cell_type": "code",
   "execution_count": 12,
   "metadata": {},
   "outputs": [
    {
     "data": {
      "text/html": [
       "<div>\n",
       "<style scoped>\n",
       "    .dataframe tbody tr th:only-of-type {\n",
       "        vertical-align: middle;\n",
       "    }\n",
       "\n",
       "    .dataframe tbody tr th {\n",
       "        vertical-align: top;\n",
       "    }\n",
       "\n",
       "    .dataframe thead th {\n",
       "        text-align: right;\n",
       "    }\n",
       "</style>\n",
       "<table border=\"1\" class=\"dataframe\">\n",
       "  <thead>\n",
       "    <tr style=\"text-align: right;\">\n",
       "      <th></th>\n",
       "      <th>index</th>\n",
       "      <th>1_x</th>\n",
       "      <th>2_x</th>\n",
       "      <th>3_x</th>\n",
       "      <th>4_x</th>\n",
       "      <th>5_x</th>\n",
       "      <th>6_x</th>\n",
       "      <th>7_x</th>\n",
       "      <th>8_x</th>\n",
       "      <th>9_x</th>\n",
       "      <th>...</th>\n",
       "      <th>4</th>\n",
       "      <th>5</th>\n",
       "      <th>6</th>\n",
       "      <th>7</th>\n",
       "      <th>8</th>\n",
       "      <th>9</th>\n",
       "      <th>10</th>\n",
       "      <th>11</th>\n",
       "      <th>12</th>\n",
       "      <th>tariff</th>\n",
       "    </tr>\n",
       "  </thead>\n",
       "  <tbody>\n",
       "    <tr>\n",
       "      <td>0</td>\n",
       "      <td>0</td>\n",
       "      <td>0.0</td>\n",
       "      <td>0.0</td>\n",
       "      <td>0.0</td>\n",
       "      <td>0.0</td>\n",
       "      <td>299.0</td>\n",
       "      <td>284.0</td>\n",
       "      <td>403.0</td>\n",
       "      <td>482.0</td>\n",
       "      <td>368.0</td>\n",
       "      <td>...</td>\n",
       "      <td>0.0</td>\n",
       "      <td>17840.0</td>\n",
       "      <td>18744.0</td>\n",
       "      <td>11453.0</td>\n",
       "      <td>17159.0</td>\n",
       "      <td>15727.0</td>\n",
       "      <td>15511.0</td>\n",
       "      <td>8657.0</td>\n",
       "      <td>2401.0</td>\n",
       "      <td>2</td>\n",
       "    </tr>\n",
       "    <tr>\n",
       "      <td>1</td>\n",
       "      <td>1</td>\n",
       "      <td>0.0</td>\n",
       "      <td>0.0</td>\n",
       "      <td>0.0</td>\n",
       "      <td>0.0</td>\n",
       "      <td>0.0</td>\n",
       "      <td>0.0</td>\n",
       "      <td>0.0</td>\n",
       "      <td>0.0</td>\n",
       "      <td>0.0</td>\n",
       "      <td>...</td>\n",
       "      <td>0.0</td>\n",
       "      <td>0.0</td>\n",
       "      <td>0.0</td>\n",
       "      <td>0.0</td>\n",
       "      <td>0.0</td>\n",
       "      <td>0.0</td>\n",
       "      <td>0.0</td>\n",
       "      <td>18452.0</td>\n",
       "      <td>14053.0</td>\n",
       "      <td>1</td>\n",
       "    </tr>\n",
       "    <tr>\n",
       "      <td>2</td>\n",
       "      <td>2</td>\n",
       "      <td>0.0</td>\n",
       "      <td>0.0</td>\n",
       "      <td>0.0</td>\n",
       "      <td>0.0</td>\n",
       "      <td>0.0</td>\n",
       "      <td>220.0</td>\n",
       "      <td>262.0</td>\n",
       "      <td>227.0</td>\n",
       "      <td>191.0</td>\n",
       "      <td>...</td>\n",
       "      <td>0.0</td>\n",
       "      <td>0.0</td>\n",
       "      <td>19297.0</td>\n",
       "      <td>16933.0</td>\n",
       "      <td>21165.0</td>\n",
       "      <td>12814.0</td>\n",
       "      <td>18252.0</td>\n",
       "      <td>17674.0</td>\n",
       "      <td>10048.0</td>\n",
       "      <td>1</td>\n",
       "    </tr>\n",
       "    <tr>\n",
       "      <td>3</td>\n",
       "      <td>3</td>\n",
       "      <td>0.0</td>\n",
       "      <td>0.0</td>\n",
       "      <td>0.0</td>\n",
       "      <td>0.0</td>\n",
       "      <td>0.0</td>\n",
       "      <td>0.0</td>\n",
       "      <td>0.0</td>\n",
       "      <td>938.0</td>\n",
       "      <td>851.0</td>\n",
       "      <td>...</td>\n",
       "      <td>0.0</td>\n",
       "      <td>0.0</td>\n",
       "      <td>0.0</td>\n",
       "      <td>0.0</td>\n",
       "      <td>11967.0</td>\n",
       "      <td>16436.0</td>\n",
       "      <td>16119.0</td>\n",
       "      <td>6822.0</td>\n",
       "      <td>5985.0</td>\n",
       "      <td>2</td>\n",
       "    </tr>\n",
       "    <tr>\n",
       "      <td>4</td>\n",
       "      <td>4</td>\n",
       "      <td>0.0</td>\n",
       "      <td>0.0</td>\n",
       "      <td>0.0</td>\n",
       "      <td>0.0</td>\n",
       "      <td>92.0</td>\n",
       "      <td>154.0</td>\n",
       "      <td>141.0</td>\n",
       "      <td>151.0</td>\n",
       "      <td>102.0</td>\n",
       "      <td>...</td>\n",
       "      <td>0.0</td>\n",
       "      <td>20622.0</td>\n",
       "      <td>19921.0</td>\n",
       "      <td>25357.0</td>\n",
       "      <td>22326.0</td>\n",
       "      <td>19164.0</td>\n",
       "      <td>15122.0</td>\n",
       "      <td>15973.0</td>\n",
       "      <td>10687.0</td>\n",
       "      <td>2</td>\n",
       "    </tr>\n",
       "  </tbody>\n",
       "</table>\n",
       "<p>5 rows × 39 columns</p>\n",
       "</div>"
      ],
      "text/plain": [
       "   index  1_x  2_x  3_x  4_x    5_x    6_x    7_x    8_x    9_x  ...    4  \\\n",
       "0      0  0.0  0.0  0.0  0.0  299.0  284.0  403.0  482.0  368.0  ...  0.0   \n",
       "1      1  0.0  0.0  0.0  0.0    0.0    0.0    0.0    0.0    0.0  ...  0.0   \n",
       "2      2  0.0  0.0  0.0  0.0    0.0  220.0  262.0  227.0  191.0  ...  0.0   \n",
       "3      3  0.0  0.0  0.0  0.0    0.0    0.0    0.0  938.0  851.0  ...  0.0   \n",
       "4      4  0.0  0.0  0.0  0.0   92.0  154.0  141.0  151.0  102.0  ...  0.0   \n",
       "\n",
       "         5        6        7        8        9       10       11       12  \\\n",
       "0  17840.0  18744.0  11453.0  17159.0  15727.0  15511.0   8657.0   2401.0   \n",
       "1      0.0      0.0      0.0      0.0      0.0      0.0  18452.0  14053.0   \n",
       "2      0.0  19297.0  16933.0  21165.0  12814.0  18252.0  17674.0  10048.0   \n",
       "3      0.0      0.0      0.0  11967.0  16436.0  16119.0   6822.0   5985.0   \n",
       "4  20622.0  19921.0  25357.0  22326.0  19164.0  15122.0  15973.0  10687.0   \n",
       "\n",
       "   tariff  \n",
       "0       2  \n",
       "1       1  \n",
       "2       1  \n",
       "3       2  \n",
       "4       2  \n",
       "\n",
       "[5 rows x 39 columns]"
      ]
     },
     "execution_count": 12,
     "metadata": {},
     "output_type": "execute_result"
    }
   ],
   "source": [
    "tarif = dataU.loc[:, ['user_id', 'tariff']]\n",
    "# создадим таблицы для динамики использования\n",
    "#таблица звонков\n",
    "call = (dataC.pivot_table(index = 'user_id', columns = 'month',\n",
    "                          values = 'duration_id', aggfunc='sum').fillna(0)\n",
    "       )\n",
    "call['user_id'] = call.index.values\n",
    "call = call.reset_index(drop=True)\n",
    "\n",
    "#таблица смс\n",
    "sms = dataM.pivot_table(index = 'user_id', columns = 'month', values = 'id', aggfunc='count').fillna(0)\n",
    "sms['user_id'] = sms.index.values\n",
    "sms = sms.reset_index(drop=True)\n",
    "\n",
    "#таблица интернета\n",
    "internet = dataI.pivot_table(index = 'user_id', columns = 'month', values = 'mb_used_id', aggfunc='sum').fillna(0)\n",
    "internet['user_id'] = internet.index.values\n",
    "internet = internet.reset_index(drop=True)\n",
    "\n",
    "\n",
    "#теперь сделаем общую по каждому месяцу таблицу\n",
    "\n",
    "oll= call.merge(sms,on='user_id',how='outer').merge(internet,on='user_id').merge(tarif, on='user_id',how='left').fillna(0).reset_index()\n",
    "oll_smart = oll.query('tariff ==1')\n",
    "oll_ultra = oll.query('tariff ==2')\n",
    "#print(oll)\n",
    "internet = internet.merge(tarif, on='user_id',how='left')\n",
    "sms = sms.merge(tarif, on='user_id',how='left')\n",
    "call = call.merge(tarif, on='user_id',how='left')\n",
    "oll.head()"
   ]
  },
  {
   "cell_type": "markdown",
   "metadata": {},
   "source": [
    "Создадим таблицу для пользователей тарифа - смарт. И посчитаем сколько они платили исходя из своих лимитов и трат."
   ]
  },
  {
   "cell_type": "code",
   "execution_count": 13,
   "metadata": {},
   "outputs": [
    {
     "data": {
      "text/html": [
       "<div>\n",
       "<style scoped>\n",
       "    .dataframe tbody tr th:only-of-type {\n",
       "        vertical-align: middle;\n",
       "    }\n",
       "\n",
       "    .dataframe tbody tr th {\n",
       "        vertical-align: top;\n",
       "    }\n",
       "\n",
       "    .dataframe thead th {\n",
       "        text-align: right;\n",
       "    }\n",
       "</style>\n",
       "<table border=\"1\" class=\"dataframe\">\n",
       "  <thead>\n",
       "    <tr style=\"text-align: right;\">\n",
       "      <th></th>\n",
       "      <th>1</th>\n",
       "      <th>2</th>\n",
       "      <th>3</th>\n",
       "      <th>4</th>\n",
       "      <th>5</th>\n",
       "      <th>6</th>\n",
       "      <th>7</th>\n",
       "      <th>8</th>\n",
       "      <th>9</th>\n",
       "      <th>10</th>\n",
       "      <th>11</th>\n",
       "    </tr>\n",
       "  </thead>\n",
       "  <tbody>\n",
       "    <tr>\n",
       "      <td>0</td>\n",
       "      <td>0.0</td>\n",
       "      <td>0.0</td>\n",
       "      <td>0.0</td>\n",
       "      <td>0.0</td>\n",
       "      <td>0.0</td>\n",
       "      <td>0.0</td>\n",
       "      <td>0.0</td>\n",
       "      <td>0.0</td>\n",
       "      <td>0.0</td>\n",
       "      <td>0.0</td>\n",
       "      <td>1300.0</td>\n",
       "    </tr>\n",
       "    <tr>\n",
       "      <td>1</td>\n",
       "      <td>0.0</td>\n",
       "      <td>0.0</td>\n",
       "      <td>0.0</td>\n",
       "      <td>0.0</td>\n",
       "      <td>0.0</td>\n",
       "      <td>1300.0</td>\n",
       "      <td>900.0</td>\n",
       "      <td>1700.0</td>\n",
       "      <td>500.0</td>\n",
       "      <td>1100.0</td>\n",
       "      <td>1100.0</td>\n",
       "    </tr>\n",
       "    <tr>\n",
       "      <td>2</td>\n",
       "      <td>557.0</td>\n",
       "      <td>500.0</td>\n",
       "      <td>1289.0</td>\n",
       "      <td>614.0</td>\n",
       "      <td>905.0</td>\n",
       "      <td>761.0</td>\n",
       "      <td>839.0</td>\n",
       "      <td>566.0</td>\n",
       "      <td>1055.0</td>\n",
       "      <td>752.0</td>\n",
       "      <td>797.0</td>\n",
       "    </tr>\n",
       "    <tr>\n",
       "      <td>3</td>\n",
       "      <td>0.0</td>\n",
       "      <td>1100.0</td>\n",
       "      <td>500.0</td>\n",
       "      <td>500.0</td>\n",
       "      <td>500.0</td>\n",
       "      <td>700.0</td>\n",
       "      <td>1300.0</td>\n",
       "      <td>1100.0</td>\n",
       "      <td>1300.0</td>\n",
       "      <td>700.0</td>\n",
       "      <td>900.0</td>\n",
       "    </tr>\n",
       "    <tr>\n",
       "      <td>4</td>\n",
       "      <td>0.0</td>\n",
       "      <td>0.0</td>\n",
       "      <td>0.0</td>\n",
       "      <td>1763.0</td>\n",
       "      <td>500.0</td>\n",
       "      <td>862.0</td>\n",
       "      <td>1172.0</td>\n",
       "      <td>1056.0</td>\n",
       "      <td>946.0</td>\n",
       "      <td>500.0</td>\n",
       "      <td>500.0</td>\n",
       "    </tr>\n",
       "    <tr>\n",
       "      <td>...</td>\n",
       "      <td>...</td>\n",
       "      <td>...</td>\n",
       "      <td>...</td>\n",
       "      <td>...</td>\n",
       "      <td>...</td>\n",
       "      <td>...</td>\n",
       "      <td>...</td>\n",
       "      <td>...</td>\n",
       "      <td>...</td>\n",
       "      <td>...</td>\n",
       "      <td>...</td>\n",
       "    </tr>\n",
       "    <tr>\n",
       "      <td>345</td>\n",
       "      <td>3633.0</td>\n",
       "      <td>2100.0</td>\n",
       "      <td>2710.0</td>\n",
       "      <td>1700.0</td>\n",
       "      <td>2313.0</td>\n",
       "      <td>1817.0</td>\n",
       "      <td>2585.0</td>\n",
       "      <td>2700.0</td>\n",
       "      <td>3300.0</td>\n",
       "      <td>3506.0</td>\n",
       "      <td>1109.0</td>\n",
       "    </tr>\n",
       "    <tr>\n",
       "      <td>346</td>\n",
       "      <td>0.0</td>\n",
       "      <td>0.0</td>\n",
       "      <td>0.0</td>\n",
       "      <td>0.0</td>\n",
       "      <td>0.0</td>\n",
       "      <td>0.0</td>\n",
       "      <td>0.0</td>\n",
       "      <td>0.0</td>\n",
       "      <td>0.0</td>\n",
       "      <td>1248.0</td>\n",
       "      <td>500.0</td>\n",
       "    </tr>\n",
       "    <tr>\n",
       "      <td>347</td>\n",
       "      <td>0.0</td>\n",
       "      <td>0.0</td>\n",
       "      <td>0.0</td>\n",
       "      <td>0.0</td>\n",
       "      <td>0.0</td>\n",
       "      <td>0.0</td>\n",
       "      <td>2309.0</td>\n",
       "      <td>1500.0</td>\n",
       "      <td>2521.0</td>\n",
       "      <td>500.0</td>\n",
       "      <td>0.0</td>\n",
       "    </tr>\n",
       "    <tr>\n",
       "      <td>348</td>\n",
       "      <td>0.0</td>\n",
       "      <td>0.0</td>\n",
       "      <td>0.0</td>\n",
       "      <td>0.0</td>\n",
       "      <td>0.0</td>\n",
       "      <td>0.0</td>\n",
       "      <td>0.0</td>\n",
       "      <td>0.0</td>\n",
       "      <td>906.0</td>\n",
       "      <td>960.0</td>\n",
       "      <td>716.0</td>\n",
       "    </tr>\n",
       "    <tr>\n",
       "      <td>349</td>\n",
       "      <td>0.0</td>\n",
       "      <td>0.0</td>\n",
       "      <td>0.0</td>\n",
       "      <td>0.0</td>\n",
       "      <td>0.0</td>\n",
       "      <td>0.0</td>\n",
       "      <td>0.0</td>\n",
       "      <td>1500.0</td>\n",
       "      <td>900.0</td>\n",
       "      <td>900.0</td>\n",
       "      <td>2100.0</td>\n",
       "    </tr>\n",
       "  </tbody>\n",
       "</table>\n",
       "<p>350 rows × 11 columns</p>\n",
       "</div>"
      ],
      "text/plain": [
       "          1       2       3       4       5       6       7       8       9  \\\n",
       "0       0.0     0.0     0.0     0.0     0.0     0.0     0.0     0.0     0.0   \n",
       "1       0.0     0.0     0.0     0.0     0.0  1300.0   900.0  1700.0   500.0   \n",
       "2     557.0   500.0  1289.0   614.0   905.0   761.0   839.0   566.0  1055.0   \n",
       "3       0.0  1100.0   500.0   500.0   500.0   700.0  1300.0  1100.0  1300.0   \n",
       "4       0.0     0.0     0.0  1763.0   500.0   862.0  1172.0  1056.0   946.0   \n",
       "..      ...     ...     ...     ...     ...     ...     ...     ...     ...   \n",
       "345  3633.0  2100.0  2710.0  1700.0  2313.0  1817.0  2585.0  2700.0  3300.0   \n",
       "346     0.0     0.0     0.0     0.0     0.0     0.0     0.0     0.0     0.0   \n",
       "347     0.0     0.0     0.0     0.0     0.0     0.0  2309.0  1500.0  2521.0   \n",
       "348     0.0     0.0     0.0     0.0     0.0     0.0     0.0     0.0   906.0   \n",
       "349     0.0     0.0     0.0     0.0     0.0     0.0     0.0  1500.0   900.0   \n",
       "\n",
       "         10      11  \n",
       "0       0.0  1300.0  \n",
       "1    1100.0  1100.0  \n",
       "2     752.0   797.0  \n",
       "3     700.0   900.0  \n",
       "4     500.0   500.0  \n",
       "..      ...     ...  \n",
       "345  3506.0  1109.0  \n",
       "346  1248.0   500.0  \n",
       "347   500.0     0.0  \n",
       "348   960.0   716.0  \n",
       "349   900.0  2100.0  \n",
       "\n",
       "[350 rows x 11 columns]"
      ]
     },
     "execution_count": 13,
     "metadata": {},
     "output_type": "execute_result"
    }
   ],
   "source": [
    "oll_smart = oll.query('tariff ==1')\n",
    "oll_s = oll_smart.loc[:,['user_id', 'tariff']].reset_index(drop=True)\n",
    "\n",
    "for i in range(1, 12):\n",
    "    \"\"\" Запихиваем все наши данные по звонкам , смс и интернету пользователей смарт в одну таблицу и вычитаем лимиты\"\"\"\n",
    "    M = []\n",
    "    M = oll_smart.loc[:, ['user_id', 'tariff', str(i)+'_x', str(i)+'_y', i]]\n",
    "    M.columns = ['user_id', 'tariff', 'call', 'sms', 'internet']\n",
    "    M['pr'] = ((M['call'] != 0) | (M['sms'] != 0) | (M['internet'] !=0))\n",
    "    M['call_t'] = (M['call'] >500) & (M['call'] != 0)\n",
    "    M['sms_t'] = M['sms'] >50\n",
    "    M['internet_t'] = M['internet'] >15360 \n",
    "    M['call_c'] = M['call_t'] * (M['call'] -500)*3 \n",
    "    M['sms_c'] = M['sms_t'] * (M['sms']-50)*3\n",
    "    M['internet_c'] = (M['internet'].apply(lambda v: math.ceil((v-15360)/1024)*200))*M['internet_t']\n",
    "    M['cena'] = (500 + M['call_c'] + M['sms_c'] +M['internet_c'])*M['pr']\n",
    "    it1 = M.loc[:, ['user_id', 'cena']].reset_index(drop=True)\n",
    "    it1.columns = ['user_id', str(i)]\n",
    "    oll_s= oll_s.merge(it1,on='user_id',how='outer')\n",
    "\n",
    "    \n",
    "oll_smart = oll_s.copy(deep=True)\n",
    "del oll_s['tariff']\n",
    "del oll_s['user_id']\n",
    "oll_s"
   ]
  },
  {
   "cell_type": "markdown",
   "metadata": {},
   "source": [
    "Создадим таблицу для пользователей тарифа - ультра. И посчитаем сколько они платили исходя из своих лимитов и трат."
   ]
  },
  {
   "cell_type": "code",
   "execution_count": 14,
   "metadata": {},
   "outputs": [
    {
     "data": {
      "text/html": [
       "<div>\n",
       "<style scoped>\n",
       "    .dataframe tbody tr th:only-of-type {\n",
       "        vertical-align: middle;\n",
       "    }\n",
       "\n",
       "    .dataframe tbody tr th {\n",
       "        vertical-align: top;\n",
       "    }\n",
       "\n",
       "    .dataframe thead th {\n",
       "        text-align: right;\n",
       "    }\n",
       "</style>\n",
       "<table border=\"1\" class=\"dataframe\">\n",
       "  <thead>\n",
       "    <tr style=\"text-align: right;\">\n",
       "      <th></th>\n",
       "      <th>1</th>\n",
       "      <th>2</th>\n",
       "      <th>3</th>\n",
       "      <th>4</th>\n",
       "      <th>5</th>\n",
       "      <th>6</th>\n",
       "      <th>7</th>\n",
       "      <th>8</th>\n",
       "      <th>9</th>\n",
       "      <th>10</th>\n",
       "      <th>11</th>\n",
       "    </tr>\n",
       "  </thead>\n",
       "  <tbody>\n",
       "    <tr>\n",
       "      <td>0</td>\n",
       "      <td>0.0</td>\n",
       "      <td>0.0</td>\n",
       "      <td>0.0</td>\n",
       "      <td>0.0</td>\n",
       "      <td>1950.0</td>\n",
       "      <td>1950.0</td>\n",
       "      <td>1950.0</td>\n",
       "      <td>1950.0</td>\n",
       "      <td>1950.0</td>\n",
       "      <td>1950.0</td>\n",
       "      <td>1950.0</td>\n",
       "    </tr>\n",
       "    <tr>\n",
       "      <td>1</td>\n",
       "      <td>0.0</td>\n",
       "      <td>0.0</td>\n",
       "      <td>0.0</td>\n",
       "      <td>0.0</td>\n",
       "      <td>0.0</td>\n",
       "      <td>0.0</td>\n",
       "      <td>0.0</td>\n",
       "      <td>1950.0</td>\n",
       "      <td>1950.0</td>\n",
       "      <td>1950.0</td>\n",
       "      <td>1950.0</td>\n",
       "    </tr>\n",
       "    <tr>\n",
       "      <td>2</td>\n",
       "      <td>0.0</td>\n",
       "      <td>0.0</td>\n",
       "      <td>0.0</td>\n",
       "      <td>0.0</td>\n",
       "      <td>1950.0</td>\n",
       "      <td>1950.0</td>\n",
       "      <td>1950.0</td>\n",
       "      <td>1950.0</td>\n",
       "      <td>1950.0</td>\n",
       "      <td>1950.0</td>\n",
       "      <td>1950.0</td>\n",
       "    </tr>\n",
       "    <tr>\n",
       "      <td>3</td>\n",
       "      <td>0.0</td>\n",
       "      <td>0.0</td>\n",
       "      <td>0.0</td>\n",
       "      <td>0.0</td>\n",
       "      <td>0.0</td>\n",
       "      <td>0.0</td>\n",
       "      <td>0.0</td>\n",
       "      <td>0.0</td>\n",
       "      <td>0.0</td>\n",
       "      <td>0.0</td>\n",
       "      <td>1950.0</td>\n",
       "    </tr>\n",
       "    <tr>\n",
       "      <td>4</td>\n",
       "      <td>0.0</td>\n",
       "      <td>0.0</td>\n",
       "      <td>0.0</td>\n",
       "      <td>0.0</td>\n",
       "      <td>0.0</td>\n",
       "      <td>0.0</td>\n",
       "      <td>0.0</td>\n",
       "      <td>0.0</td>\n",
       "      <td>0.0</td>\n",
       "      <td>0.0</td>\n",
       "      <td>1950.0</td>\n",
       "    </tr>\n",
       "    <tr>\n",
       "      <td>...</td>\n",
       "      <td>...</td>\n",
       "      <td>...</td>\n",
       "      <td>...</td>\n",
       "      <td>...</td>\n",
       "      <td>...</td>\n",
       "      <td>...</td>\n",
       "      <td>...</td>\n",
       "      <td>...</td>\n",
       "      <td>...</td>\n",
       "      <td>...</td>\n",
       "      <td>...</td>\n",
       "    </tr>\n",
       "    <tr>\n",
       "      <td>142</td>\n",
       "      <td>0.0</td>\n",
       "      <td>0.0</td>\n",
       "      <td>0.0</td>\n",
       "      <td>0.0</td>\n",
       "      <td>1950.0</td>\n",
       "      <td>1950.0</td>\n",
       "      <td>1950.0</td>\n",
       "      <td>1950.0</td>\n",
       "      <td>1950.0</td>\n",
       "      <td>1950.0</td>\n",
       "      <td>1950.0</td>\n",
       "    </tr>\n",
       "    <tr>\n",
       "      <td>143</td>\n",
       "      <td>0.0</td>\n",
       "      <td>0.0</td>\n",
       "      <td>0.0</td>\n",
       "      <td>1950.0</td>\n",
       "      <td>1950.0</td>\n",
       "      <td>1950.0</td>\n",
       "      <td>1950.0</td>\n",
       "      <td>1950.0</td>\n",
       "      <td>1950.0</td>\n",
       "      <td>1950.0</td>\n",
       "      <td>1950.0</td>\n",
       "    </tr>\n",
       "    <tr>\n",
       "      <td>144</td>\n",
       "      <td>0.0</td>\n",
       "      <td>0.0</td>\n",
       "      <td>0.0</td>\n",
       "      <td>0.0</td>\n",
       "      <td>2550.0</td>\n",
       "      <td>1950.0</td>\n",
       "      <td>1950.0</td>\n",
       "      <td>3600.0</td>\n",
       "      <td>1950.0</td>\n",
       "      <td>1950.0</td>\n",
       "      <td>1950.0</td>\n",
       "    </tr>\n",
       "    <tr>\n",
       "      <td>145</td>\n",
       "      <td>0.0</td>\n",
       "      <td>0.0</td>\n",
       "      <td>0.0</td>\n",
       "      <td>0.0</td>\n",
       "      <td>0.0</td>\n",
       "      <td>0.0</td>\n",
       "      <td>0.0</td>\n",
       "      <td>0.0</td>\n",
       "      <td>0.0</td>\n",
       "      <td>3300.0</td>\n",
       "      <td>2700.0</td>\n",
       "    </tr>\n",
       "    <tr>\n",
       "      <td>146</td>\n",
       "      <td>0.0</td>\n",
       "      <td>0.0</td>\n",
       "      <td>0.0</td>\n",
       "      <td>0.0</td>\n",
       "      <td>0.0</td>\n",
       "      <td>0.0</td>\n",
       "      <td>0.0</td>\n",
       "      <td>1950.0</td>\n",
       "      <td>1950.0</td>\n",
       "      <td>1950.0</td>\n",
       "      <td>1950.0</td>\n",
       "    </tr>\n",
       "  </tbody>\n",
       "</table>\n",
       "<p>147 rows × 11 columns</p>\n",
       "</div>"
      ],
      "text/plain": [
       "       1    2    3       4       5       6       7       8       9      10  \\\n",
       "0    0.0  0.0  0.0     0.0  1950.0  1950.0  1950.0  1950.0  1950.0  1950.0   \n",
       "1    0.0  0.0  0.0     0.0     0.0     0.0     0.0  1950.0  1950.0  1950.0   \n",
       "2    0.0  0.0  0.0     0.0  1950.0  1950.0  1950.0  1950.0  1950.0  1950.0   \n",
       "3    0.0  0.0  0.0     0.0     0.0     0.0     0.0     0.0     0.0     0.0   \n",
       "4    0.0  0.0  0.0     0.0     0.0     0.0     0.0     0.0     0.0     0.0   \n",
       "..   ...  ...  ...     ...     ...     ...     ...     ...     ...     ...   \n",
       "142  0.0  0.0  0.0     0.0  1950.0  1950.0  1950.0  1950.0  1950.0  1950.0   \n",
       "143  0.0  0.0  0.0  1950.0  1950.0  1950.0  1950.0  1950.0  1950.0  1950.0   \n",
       "144  0.0  0.0  0.0     0.0  2550.0  1950.0  1950.0  3600.0  1950.0  1950.0   \n",
       "145  0.0  0.0  0.0     0.0     0.0     0.0     0.0     0.0     0.0  3300.0   \n",
       "146  0.0  0.0  0.0     0.0     0.0     0.0     0.0  1950.0  1950.0  1950.0   \n",
       "\n",
       "         11  \n",
       "0    1950.0  \n",
       "1    1950.0  \n",
       "2    1950.0  \n",
       "3    1950.0  \n",
       "4    1950.0  \n",
       "..      ...  \n",
       "142  1950.0  \n",
       "143  1950.0  \n",
       "144  1950.0  \n",
       "145  2700.0  \n",
       "146  1950.0  \n",
       "\n",
       "[147 rows x 11 columns]"
      ]
     },
     "execution_count": 14,
     "metadata": {},
     "output_type": "execute_result"
    }
   ],
   "source": [
    "oll_ultra = oll.query('tariff ==2')\n",
    "oll_u = oll_ultra.loc[:,['user_id', 'tariff']].reset_index(drop=True)\n",
    "#print(oll_ultra)\n",
    "for i in range(1, 12):\n",
    "    \"\"\" Запихиваем все наши данные по звонкам , смс и интернету в одну таблицу и вычитаем лимиты\"\"\"\n",
    "    M = []\n",
    "    M = oll_ultra.loc[:, ['user_id', 'tariff', str(i)+'_x', str(i)+'_y', i]]\n",
    "    M.columns = ['user_id', 'tariff', 'call', 'sms', 'internet']\n",
    "    M['pr'] = ((M['call'] != 0) | (M['sms'] != 0) | (M['internet'] !=0))\n",
    "    M['call_t'] = (M['call'] >3000)\n",
    "    M['sms_t'] = M['sms'] >1000\n",
    "    M['internet_t'] = M['internet'] >30720 \n",
    "    M['call_c'] = M['call_t'] * (M['call'] -3000)*1\n",
    "    M['sms_c'] = M['sms_t'] * (M['sms']-1000)*1\n",
    "    M['internet_c'] = (M['internet'].apply(lambda v: math.ceil((v-30720)/1024)*150))*M['internet_t']\n",
    "    M['cena'] = (1950 + M['call_c'] + M['sms_c'] +M['internet_c'])*M['pr']\n",
    "    it1 = M.loc[:, ['user_id', 'cena']].reset_index(drop=True)\n",
    "    it1.columns = ['user_id', str(i)]\n",
    "    oll_u= oll_u.merge(it1,on='user_id',how='outer')\n",
    "\n",
    "\n",
    "#oll_u['user_id'] = oll_u.index.values\n",
    "oll_ultra = oll_u.copy(deep=True)\n",
    "del oll_u['tariff']\n",
    "del oll_u['user_id']\n",
    "oll_u"
   ]
  },
  {
   "cell_type": "markdown",
   "metadata": {},
   "source": [
    "Мы считаем по 11 месяцев, потому что именно эти данные дают нам результат максимально приближенные к реальности. "
   ]
  },
  {
   "cell_type": "code",
   "execution_count": 29,
   "metadata": {},
   "outputs": [
    {
     "name": "stdout",
     "output_type": "stream",
     "text": [
      "БОЛЬШАЯ КРАСИВАЯ ТАБЛИЧКА\n",
      "\n",
      "ЦЕНА\n",
      "Название тарифа  | Среднее в месяц  |    Дисперсия   | Стандартное отк.\n",
      "-----------------------------------------------------------------------\n",
      "Тариф - Смарт    |          1334.00 |      656926.00 |           811.00\n",
      "Тариф - Ультра   |          2109.00 |      173129.00 |           416.00\n",
      "\n",
      "ЗВОНКИ\n",
      "Название тарифа  | Среднее в месяц  |    Дисперсия   | Стандартное отк.\n",
      "-----------------------------------------------------------------------\n",
      "Тариф - Смарт    |           449.00 |       30532.00 |           175.00\n",
      "Тариф - Ультра   |           593.00 |       83925.00 |           290.00\n",
      "\n",
      "СМС\n",
      "Название тарифа  | Среднее в месяц  |    Дисперсия   | Стандартное отк.\n",
      "-----------------------------------------------------------------------\n",
      "Тариф - Смарт    |            41.00 |         697.00 |            26.00\n",
      "Тариф - Ультра   |            66.00 |        2143.00 |            46.00\n",
      "\n",
      "ИНТЕРНЕТ\n",
      "Название тарифа  | Среднее в месяц  |    Дисперсия   | Стандартное отк.\n",
      "-----------------------------------------------------------------------\n",
      "Тариф - Смарт    |         17448.00 |    23847913.00 |          4883.00\n",
      "Тариф - Ультра   |         21278.00 |    88259723.00 |          9395.00\n"
     ]
    }
   ],
   "source": [
    "cena_ne_null_smart = ne_null_cena(oll_s,1)\n",
    "cena_ne_null_ultra = ne_null_cena(oll_u,2)\n",
    "print('БОЛЬШАЯ КРАСИВАЯ ТАБЛИЧКА')\n",
    "print()\n",
    "print('ЦЕНА')\n",
    "print('Название тарифа  | Среднее в месяц  |    Дисперсия   | Стандартное отк.')\n",
    "print('-----------------------------------------------------------------------')\n",
    "print('{: <16} | {: >16.2f} | {: >14.2f} | {: >16.2f}'.format(cena_ne_null_smart[0], cena_ne_null_smart[1], cena_ne_null_smart[2], cena_ne_null_smart[3]))\n",
    "print('{: <16} | {: >16.2f} | {: >14.2f} | {: >16.2f}'.format(cena_ne_null_ultra[0], cena_ne_null_ultra[1], cena_ne_null_ultra[2], cena_ne_null_ultra[3]))\n",
    "print()\n",
    "print('ЗВОНКИ')\n",
    "print('Название тарифа  | Среднее в месяц  |    Дисперсия   | Стандартное отк.')\n",
    "print('-----------------------------------------------------------------------')\n",
    "cal_ne_null_smart = ne_null(call,1)\n",
    "print('{: <16} | {: >16.2f} | {: >14.2f} | {: >16.2f}'.format(cal_ne_null_smart[0], cal_ne_null_smart[1], cal_ne_null_smart[2], cal_ne_null_smart[3]))\n",
    "cal_ne_null_ultra = ne_null(call,2)\n",
    "print('{: <16} | {: >16.2f} | {: >14.2f} | {: >16.2f}'.format(cal_ne_null_ultra[0], cal_ne_null_ultra[1], cal_ne_null_ultra[2], cal_ne_null_ultra[3]))\n",
    "print()\n",
    "print('СМС')\n",
    "print('Название тарифа  | Среднее в месяц  |    Дисперсия   | Стандартное отк.')\n",
    "print('-----------------------------------------------------------------------')\n",
    "sms_ne_null_smart = ne_null(sms,1)\n",
    "print('{: <16} | {: >16.2f} | {: >14.2f} | {: >16.2f}'.format(sms_ne_null_smart[0], sms_ne_null_smart[1], sms_ne_null_smart[2], sms_ne_null_smart[3]))\n",
    "sms_ne_null_ultra = ne_null(sms,2)\n",
    "print('{: <16} | {: >16.2f} | {: >14.2f} | {: >16.2f}'.format(sms_ne_null_ultra[0], sms_ne_null_ultra[1], sms_ne_null_ultra[2], sms_ne_null_ultra[3]))\n",
    "print()\n",
    "print('ИНТЕРНЕТ')\n",
    "print('Название тарифа  | Среднее в месяц  |    Дисперсия   | Стандартное отк.')\n",
    "print('-----------------------------------------------------------------------')\n",
    "int_ne_null_smart = ne_null(internet,1)\n",
    "print('{: <16} | {: >16.2f} | {: >14.2f} | {: >16.2f}'.format(int_ne_null_smart[0], int_ne_null_smart[1], int_ne_null_smart[2], int_ne_null_smart[3]))\n",
    "int_ne_null_ultra = ne_null(internet,2)\n",
    "print('{: <16} | {: >16.2f} | {: >14.2f} | {: >16.2f}'.format(int_ne_null_ultra[0], int_ne_null_ultra[1], int_ne_null_ultra[2], int_ne_null_ultra[3]))\n"
   ]
  },
  {
   "cell_type": "markdown",
   "metadata": {},
   "source": [
    "Построим гистограммы распределения."
   ]
  },
  {
   "cell_type": "code",
   "execution_count": 16,
   "metadata": {},
   "outputs": [
    {
     "data": {
      "text/plain": [
       "Text(0.5, 1.0, 'Звонки в месяц')"
      ]
     },
     "execution_count": 16,
     "metadata": {},
     "output_type": "execute_result"
    },
    {
     "data": {
      "image/png": "[encoded data removed]",
      "text/plain": [
       "<Figure size 432x288 with 1 Axes>"
      ]
     },
     "metadata": {},
     "output_type": "display_data"
    }
   ],
   "source": [
    "pr = ne_null_table(call,1)\n",
    "sns.set(); np.random.seed(0)\n",
    "ax = sns.distplot(pr)\n",
    "\n",
    "pr2 = ne_null_table(call,2)\n",
    "sns.set(); np.random.seed(0)\n",
    "ax = sns.distplot(pr2, axlabel = None, label=True)\n",
    "plt.title('Звонки в месяц')"
   ]
  },
  {
   "cell_type": "code",
   "execution_count": 17,
   "metadata": {},
   "outputs": [
    {
     "data": {
      "text/plain": [
       "Text(0.5, 1.0, 'Отправка смс в месяц')"
      ]
     },
     "execution_count": 17,
     "metadata": {},
     "output_type": "execute_result"
    },
    {
     "data": {
      "image/png": "[encoded data removed]",
      "text/plain": [
       "<Figure size 432x288 with 1 Axes>"
      ]
     },
     "metadata": {},
     "output_type": "display_data"
    }
   ],
   "source": [
    "pr = ne_null_table(sms,1)\n",
    "sns.set(); np.random.seed(0)\n",
    "ax = sns.distplot(pr)\n",
    "\n",
    "pr2 = ne_null_table(sms,2)\n",
    "sns.set(); np.random.seed(0)\n",
    "ax = sns.distplot(pr2, axlabel = None, label=True)\n",
    "plt.title('Отправка смс в месяц')"
   ]
  },
  {
   "cell_type": "code",
   "execution_count": 18,
   "metadata": {},
   "outputs": [
    {
     "data": {
      "text/plain": [
       "Text(0.5, 1.0, 'Распределение интернет пользования между 2 тарифами')"
      ]
     },
     "execution_count": 18,
     "metadata": {},
     "output_type": "execute_result"
    },
    {
     "data": {
      "image/png": "[encoded data removed]",
      "text/plain": [
       "<Figure size 432x288 with 1 Axes>"
      ]
     },
     "metadata": {},
     "output_type": "display_data"
    }
   ],
   "source": [
    "pr = ne_null_table(internet,1)\n",
    "sns.set(); np.random.seed(0)\n",
    "ax = sns.distplot(pr)\n",
    "\n",
    "pr2 = ne_null_table(internet,2)\n",
    "sns.set(); np.random.seed(0)\n",
    "ax = sns.distplot(pr2, axlabel = None, label=True)\n",
    "plt.title('Распределение интернет пользования между 2 тарифами')"
   ]
  },
  {
   "cell_type": "markdown",
   "metadata": {},
   "source": [
    "Проверим гипотезу: средняя выручка пользователей тарифов «Ультра» и «Смарт» различается."
   ]
  },
  {
   "cell_type": "code",
   "execution_count": 19,
   "metadata": {},
   "outputs": [
    {
     "data": {
      "text/plain": [
       "Text(0.5, 1.0, 'Распределение ежемесячной оплаты на тарифе Smart')"
      ]
     },
     "execution_count": 19,
     "metadata": {},
     "output_type": "execute_result"
    },
    {
     "data": {
      "image/png": "[encoded data removed]",
      "text/plain": [
       "<Figure size 432x288 with 1 Axes>"
      ]
     },
     "metadata": {},
     "output_type": "display_data"
    }
   ],
   "source": [
    "cena_S = ne_null_table_c(oll_s) #все оплаты по тарифу Смарт\n",
    "sns.set();\n",
    "ax = sns.distplot(cena_S, axlabel = None)\n",
    "plt.title('Распределение ежемесячной оплаты на тарифе Smart')"
   ]
  },
  {
   "cell_type": "code",
   "execution_count": 20,
   "metadata": {},
   "outputs": [
    {
     "data": {
      "text/plain": [
       "Text(0.5, 1.0, 'Распределение ежемесячной оплаты на тарифе Ultra')"
      ]
     },
     "execution_count": 20,
     "metadata": {},
     "output_type": "execute_result"
    },
    {
     "data": {
      "image/png": "[encoded data removed]",
      "text/plain": [
       "<Figure size 432x288 with 1 Axes>"
      ]
     },
     "metadata": {},
     "output_type": "display_data"
    }
   ],
   "source": [
    "cena_U = ne_null_table_c(oll_u) #все оплаты по тарифу Ультра\n",
    "sns.set(); \n",
    "ax = sns.distplot(cena_U, axlabel = 'цена', color = 'r')\n",
    "plt.title('Распределение ежемесячной оплаты на тарифе Ultra')"
   ]
  },
  {
   "cell_type": "markdown",
   "metadata": {},
   "source": [
    "на отдельных графиках не понятно. Построим Ящик с усами."
   ]
  },
  {
   "cell_type": "code",
   "execution_count": 21,
   "metadata": {},
   "outputs": [
    {
     "data": {
      "text/plain": [
       "Text(0.5, 1.0, 'Средняя выручка пользователей тарифов')"
      ]
     },
     "execution_count": 21,
     "metadata": {},
     "output_type": "execute_result"
    },
    {
     "data": {
      "image/png": "[encoded data removed]",
      "text/plain": [
       "<Figure size 432x288 with 1 Axes>"
      ]
     },
     "metadata": {},
     "output_type": "display_data"
    }
   ],
   "source": [
    "plt.ylim(500, 6000)\n",
    "columns = ['Cena']\n",
    "df = pd.Series(cena_S)\n",
    "df1 = pd.Series(cena_U)\n",
    "DF = pd.DataFrame(df,columns=columns)\n",
    "DF['tarif'] = 'Smart'\n",
    "DF1 = pd.DataFrame(df1,columns=columns)\n",
    "DF1['tarif'] = 'Ultra'\n",
    "new_t = pd.concat([DF, DF1], ignore_index=True)\n",
    "sns.boxplot(x='tarif', y='Cena', data=new_t)\n",
    "plt.title('Средняя выручка пользователей тарифов')"
   ]
  },
  {
   "cell_type": "code",
   "execution_count": 22,
   "metadata": {},
   "outputs": [
    {
     "name": "stdout",
     "output_type": "stream",
     "text": [
      "p-значение: 1.2617987195349006e-128\n",
      "Отвергаем нулевую гипотезу - средняя выручка пользователей тарифов «Ультра» и «Смарт» различается\n"
     ]
    }
   ],
   "source": [
    "from scipy import stats as st\n",
    "alpha = .05 \n",
    "\n",
    "results = st.ttest_ind(cena_S,cena_U)\n",
    "\n",
    "print('p-значение:', results.pvalue)\n",
    "\n",
    "if (results.pvalue < alpha):\n",
    "    print(\"Отвергаем нулевую гипотезу - средняя выручка пользователей тарифов «Ультра» и «Смарт» различается\")\n",
    "else:\n",
    "    print(\"Не получилось отвергнуть нулевую гипотезу\")"
   ]
  },
  {
   "cell_type": "markdown",
   "metadata": {},
   "source": [
    "Проверим гипотезу: средняя выручка пользователей из Москвы отличается от выручки пользователей из других регионов;"
   ]
  },
  {
   "cell_type": "code",
   "execution_count": 24,
   "metadata": {},
   "outputs": [],
   "source": [
    "city = dataU.loc[:, ['city', 'user_id']]\n",
    "oll_ultra= oll_ultra.merge(city,on='user_id',how='left')\n",
    "oll_smart= oll_smart.merge(city,on='user_id',how='left')\n",
    "new = pd.concat([oll_ultra, oll_smart], ignore_index=True)\n",
    "new_M = new.query('city == \"Москва\"')\n",
    "srez_M = new_M.loc[:, '1' : '11'].reset_index(drop=True)\n",
    "new_W = new.query('city != \"Москва\"')\n",
    "srez_W = new_W.loc[:, '1' : '11'].reset_index(drop=True)"
   ]
  },
  {
   "cell_type": "code",
   "execution_count": 25,
   "metadata": {},
   "outputs": [
    {
     "data": {
      "text/plain": [
       "Text(0.5, 1.0, 'Средняя выручка для Москвы и регионов')"
      ]
     },
     "execution_count": 25,
     "metadata": {},
     "output_type": "execute_result"
    },
    {
     "data": {
      "image/png": "[encoded data removed]",
      "text/plain": [
       "<Figure size 432x288 with 1 Axes>"
      ]
     },
     "metadata": {},
     "output_type": "display_data"
    }
   ],
   "source": [
    "cena_M = ne_null_table_c(srez_M)\n",
    "cena_W = ne_null_table_c(srez_W)\n",
    "sns.set();\n",
    "ax = sns.distplot(cena_M, color=\"r\")\n",
    "ax = sns.distplot(cena_W, axlabel = None, label=True, color=\"b\")\n",
    "plt.title('Средняя выручка для Москвы и регионов')"
   ]
  },
  {
   "cell_type": "code",
   "execution_count": 26,
   "metadata": {},
   "outputs": [
    {
     "data": {
      "text/plain": [
       "Text(0.5, 1.0, 'Средняя выручка для Москвы и регионов')"
      ]
     },
     "execution_count": 26,
     "metadata": {},
     "output_type": "execute_result"
    },
    {
     "data": {
      "image/png": "[encoded data removed]",
      "text/plain": [
       "<Figure size 432x288 with 1 Axes>"
      ]
     },
     "metadata": {},
     "output_type": "display_data"
    }
   ],
   "source": [
    "plt.ylim(0, 5000)\n",
    "columns = ['Cena']\n",
    "df = pd.Series(cena_M)\n",
    "df1 = pd.Series(cena_W)\n",
    "DF = pd.DataFrame(df,columns=columns)\n",
    "DF['city'] = 'Moscow'\n",
    "DF1 = pd.DataFrame(df1,columns=columns)\n",
    "DF1['city'] = 'Region'\n",
    "new_t = pd.concat([DF, DF1], ignore_index=True)\n",
    "sns.boxplot(x='city', y='Cena', data=new_t)\n",
    "plt.title('Средняя выручка для Москвы и регионов')"
   ]
  },
  {
   "cell_type": "code",
   "execution_count": 27,
   "metadata": {},
   "outputs": [
    {
     "name": "stdout",
     "output_type": "stream",
     "text": [
      "p-значение: 0.44172731490756023\n",
      "Не получилось отвергнуть нулевую гипотезу- средняя выручка пользователей из Москвы не отличается от других пользователей\n"
     ]
    }
   ],
   "source": [
    "from scipy import stats as st\n",
    "alpha = .05 \n",
    "\n",
    "results = st.ttest_ind(cena_M,cena_W)\n",
    "\n",
    "print('p-значение:', results.pvalue)\n",
    "\n",
    "if (results.pvalue < alpha):\n",
    "    print(\"Отвергаем нулевую гипотезу\")\n",
    "else:\n",
    "    print(\"Не получилось отвергнуть нулевую гипотезу- средняя выручка пользователей из Москвы не отличается от других пользователей\")"
   ]
  },
  {
   "cell_type": "markdown",
   "metadata": {},
   "source": [
    "# Выводы\n",
    "\n",
    "Для клиента лучше тариф Смарт ( в среднем он платит - 1334.00 р.), для компании лучше продать Ультра (в среднем 2109.00 р.). Потому что при увеличении трат минут и интернета в тарифе Ультра процентов на 20-30, выручка у них увеличивается на 100%. Московские и региональные клиенты по тратам не различаются."
   ]
  }
 ],
 "metadata": {
  "kernelspec": {
   "display_name": "Python 3",
   "language": "python",
   "name": "python3"
  },
  "language_info": {
   "codemirror_mode": {
    "name": "ipython",
    "version": 3
   },
   "file_extension": ".py",
   "mimetype": "text/x-python",
   "name": "python",
   "nbconvert_exporter": "python",
   "pygments_lexer": "ipython3",
   "version": "3.7.4"
  }
 },
 "nbformat": 4,
 "nbformat_minor": 2
}
